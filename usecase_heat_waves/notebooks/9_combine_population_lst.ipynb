{
 "cells": [
  {
   "cell_type": "markdown",
   "metadata": {},
   "source": [
    "This notebook contains tests for the combined Prague map"
   ]
  },
  {
   "cell_type": "code",
   "execution_count": 104,
   "metadata": {},
   "outputs": [],
   "source": [
    "import os\n",
    "from glob import glob\n",
    "import pandas as pd\n",
    "import geopandas as gpd\n",
    "import numpy as np\n",
    "import xarray as xr\n",
    "from PIL import Image\n",
    "import rioxarray as rxr\n",
    "import rasterio as rio\n",
    "from rasterio.windows import Window\n",
    "from rasterio.warp import calculate_default_transform, reproject, Resampling\n",
    "from io import BytesIO\n",
    "import base64\n",
    "from shapely.geometry import Polygon, LineString\n",
    "import matplotlib.pyplot as plt\n",
    "import plotly.express as px\n",
    "import folium\n",
    "import branca\n",
    "import pickle\n",
    "import sys\n",
    "sys.path.append(\"../src\")\n",
    "import maps as hw_maps"
   ]
  },
  {
   "cell_type": "markdown",
   "metadata": {},
   "source": [
    "# Load Population"
   ]
  },
  {
   "cell_type": "code",
   "execution_count": 4,
   "metadata": {},
   "outputs": [
    {
     "data": {
      "text/html": [
       "<div>\n",
       "<style scoped>\n",
       "    .dataframe tbody tr th:only-of-type {\n",
       "        vertical-align: middle;\n",
       "    }\n",
       "\n",
       "    .dataframe tbody tr th {\n",
       "        vertical-align: top;\n",
       "    }\n",
       "\n",
       "    .dataframe thead th {\n",
       "        text-align: right;\n",
       "    }\n",
       "</style>\n",
       "<table border=\"1\" class=\"dataframe\">\n",
       "  <thead>\n",
       "    <tr style=\"text-align: right;\">\n",
       "      <th></th>\n",
       "      <th>id</th>\n",
       "      <th>name</th>\n",
       "      <th>slug</th>\n",
       "      <th>updated_at</th>\n",
       "      <th>cze_general_2020</th>\n",
       "      <th>cze_men_2020</th>\n",
       "      <th>cze_women_2020</th>\n",
       "      <th>cze_elderly_60_plus_2020</th>\n",
       "      <th>cze_youth_15_24_2020</th>\n",
       "      <th>cze_children_under_five_2020</th>\n",
       "      <th>area (km²)</th>\n",
       "      <th>pop_density_general</th>\n",
       "      <th>geometry</th>\n",
       "    </tr>\n",
       "  </thead>\n",
       "  <tbody>\n",
       "    <tr>\n",
       "      <th>0</th>\n",
       "      <td>1</td>\n",
       "      <td>Praha-Řeporyje</td>\n",
       "      <td>praha-reporyje</td>\n",
       "      <td>None</td>\n",
       "      <td>12785</td>\n",
       "      <td>6185</td>\n",
       "      <td>6599</td>\n",
       "      <td>2892</td>\n",
       "      <td>1452</td>\n",
       "      <td>681</td>\n",
       "      <td>23.964755</td>\n",
       "      <td>533.491789</td>\n",
       "      <td>POLYGON ((14.31810 49.98889, 14.31799 49.98921...</td>\n",
       "    </tr>\n",
       "    <tr>\n",
       "      <th>1</th>\n",
       "      <td>2</td>\n",
       "      <td>Praha 1</td>\n",
       "      <td>praha-1</td>\n",
       "      <td>None</td>\n",
       "      <td>31518</td>\n",
       "      <td>15246</td>\n",
       "      <td>16272</td>\n",
       "      <td>7145</td>\n",
       "      <td>3576</td>\n",
       "      <td>1678</td>\n",
       "      <td>13.439654</td>\n",
       "      <td>2345.149640</td>\n",
       "      <td>POLYGON ((14.41089 50.07867, 14.40982 50.07907...</td>\n",
       "    </tr>\n",
       "  </tbody>\n",
       "</table>\n",
       "</div>"
      ],
      "text/plain": [
       "   id            name            slug updated_at  cze_general_2020  \\\n",
       "0   1  Praha-Řeporyje  praha-reporyje       None             12785   \n",
       "1   2         Praha 1         praha-1       None             31518   \n",
       "\n",
       "   cze_men_2020  cze_women_2020  cze_elderly_60_plus_2020  \\\n",
       "0          6185            6599                      2892   \n",
       "1         15246           16272                      7145   \n",
       "\n",
       "   cze_youth_15_24_2020  cze_children_under_five_2020  area (km²)  \\\n",
       "0                  1452                           681   23.964755   \n",
       "1                  3576                          1678   13.439654   \n",
       "\n",
       "   pop_density_general                                           geometry  \n",
       "0           533.491789  POLYGON ((14.31810 49.98889, 14.31799 49.98921...  \n",
       "1          2345.149640  POLYGON ((14.41089 50.07867, 14.40982 50.07907...  "
      ]
     },
     "execution_count": 4,
     "metadata": {},
     "output_type": "execute_result"
    }
   ],
   "source": [
    "pop = gpd.read_file(\"../data/raw/prague_population_districts_meta2020.geojson\")\n",
    "pop.head(2)"
   ]
  },
  {
   "cell_type": "code",
   "execution_count": 73,
   "metadata": {},
   "outputs": [
    {
     "data": {
      "application/vnd.plotly.v1+json": {
       "config": {
        "plotlyServerURL": "https://plot.ly"
       },
       "data": [
        {
         "alignmentgroup": "True",
         "hovertemplate": "variable=cze_men_2020<br>value=%{x}<br>name=%{y}<extra></extra>",
         "legendgroup": "cze_men_2020",
         "marker": {
          "color": "#636efa",
          "pattern": {
           "shape": ""
          }
         },
         "name": "cze_men_2020",
         "offsetgroup": "cze_men_2020",
         "orientation": "h",
         "showlegend": true,
         "textposition": "auto",
         "type": "bar",
         "x": [
          782,
          787,
          838,
          953,
          1206,
          2455,
          2537,
          2649,
          2782,
          2895,
          3159,
          3437,
          3912,
          4017,
          4348,
          4358,
          4697,
          4723,
          4770,
          5044,
          5103,
          5122,
          5150,
          5196,
          5451,
          5540,
          5885,
          6185,
          6217,
          6332,
          6660,
          7194,
          7345,
          8017,
          8608,
          8969,
          10355,
          10747,
          11296,
          11627,
          12558,
          12899,
          13480,
          15246,
          16600,
          16729,
          17370,
          19140,
          19724,
          21039,
          23361,
          24647,
          39715,
          41776,
          47429,
          50785,
          52316
         ],
         "xaxis": "x",
         "y": [
          "Praha-Nedvězí",
          "Praha-Královice",
          "Praha-Přední Kopanina",
          "Praha-Lochkov",
          "Praha-Benice",
          "Praha-Křeslice",
          "Praha-Lysolaje",
          "Praha-Petrovice",
          "Praha-Březiněves",
          "Praha-Koloděje",
          "Praha-Újezd",
          "Praha-Troja",
          "Praha-Satalice",
          "Praha-Nebušice",
          "Praha-Vinoř",
          "Praha-Štěrboholy",
          "Praha-Kolovraty",
          "Praha-Šeberov",
          "Praha-Dolní Počernice",
          "Praha-Velká Chuchle",
          "Praha-Zličín",
          "Praha-Dubeč",
          "Praha-Ďáblice",
          "Praha-Běchovice",
          "Praha-Lipence",
          "Praha-Dolní Měcholupy",
          "Praha-Klánovice",
          "Praha-Řeporyje",
          "Praha-Dolní Chabry",
          "Praha-Slivenec",
          "Praha 16",
          "Praha 19",
          "Praha 17",
          "Praha-Suchdol",
          "Praha 18",
          "Praha-Libuš",
          "Praha-Zbraslav",
          "Praha-Čakovice",
          "Praha-Kunratice",
          "Praha 22",
          "Praha 2",
          "Praha 7",
          "Praha 21",
          "Praha 1",
          "Praha 11",
          "Praha 13",
          "Praha 3",
          "Praha 15",
          "Praha 20",
          "Praha 14",
          "Praha 9",
          "Praha 12",
          "Praha 8",
          "Praha 5",
          "Praha 10",
          "Praha 4",
          "Praha 6"
         ],
         "yaxis": "y"
        },
        {
         "alignmentgroup": "True",
         "hovertemplate": "variable=cze_women_2020<br>value=%{x}<br>name=%{y}<extra></extra>",
         "legendgroup": "cze_women_2020",
         "marker": {
          "color": "#EF553B",
          "pattern": {
           "shape": ""
          }
         },
         "name": "cze_women_2020",
         "offsetgroup": "cze_women_2020",
         "orientation": "h",
         "showlegend": true,
         "textposition": "auto",
         "type": "bar",
         "x": [
          835,
          840,
          895,
          1017,
          1286,
          2621,
          2707,
          2827,
          2970,
          3089,
          3374,
          3668,
          4175,
          4288,
          4641,
          4652,
          5012,
          5024,
          5091,
          5384,
          5446,
          5467,
          5497,
          5545,
          5812,
          5913,
          6281,
          6599,
          6635,
          6758,
          7108,
          7678,
          7839,
          8557,
          9187,
          9572,
          11048,
          11470,
          12056,
          12408,
          13404,
          13768,
          14388,
          16272,
          17718,
          17855,
          18540,
          20428,
          21052,
          22456,
          24934,
          26304,
          42388,
          44589,
          50622,
          54204,
          55837
         ],
         "xaxis": "x",
         "y": [
          "Praha-Nedvězí",
          "Praha-Královice",
          "Praha-Přední Kopanina",
          "Praha-Lochkov",
          "Praha-Benice",
          "Praha-Křeslice",
          "Praha-Lysolaje",
          "Praha-Petrovice",
          "Praha-Březiněves",
          "Praha-Koloděje",
          "Praha-Újezd",
          "Praha-Troja",
          "Praha-Satalice",
          "Praha-Nebušice",
          "Praha-Vinoř",
          "Praha-Štěrboholy",
          "Praha-Kolovraty",
          "Praha-Šeberov",
          "Praha-Dolní Počernice",
          "Praha-Velká Chuchle",
          "Praha-Zličín",
          "Praha-Dubeč",
          "Praha-Ďáblice",
          "Praha-Běchovice",
          "Praha-Lipence",
          "Praha-Dolní Měcholupy",
          "Praha-Klánovice",
          "Praha-Řeporyje",
          "Praha-Dolní Chabry",
          "Praha-Slivenec",
          "Praha 16",
          "Praha 19",
          "Praha 17",
          "Praha-Suchdol",
          "Praha 18",
          "Praha-Libuš",
          "Praha-Zbraslav",
          "Praha-Čakovice",
          "Praha-Kunratice",
          "Praha 22",
          "Praha 2",
          "Praha 7",
          "Praha 21",
          "Praha 1",
          "Praha 11",
          "Praha 13",
          "Praha 3",
          "Praha 15",
          "Praha 20",
          "Praha 14",
          "Praha 9",
          "Praha 12",
          "Praha 8",
          "Praha 5",
          "Praha 10",
          "Praha 4",
          "Praha 6"
         ],
         "yaxis": "y"
        },
        {
         "alignmentgroup": "True",
         "hovertemplate": "variable=cze_elderly_60_plus_2020<br>value=%{x}<br>name=%{y}<extra></extra>",
         "legendgroup": "cze_elderly_60_plus_2020",
         "marker": {
          "color": "#00cc96",
          "pattern": {
           "shape": ""
          }
         },
         "name": "cze_elderly_60_plus_2020",
         "offsetgroup": "cze_elderly_60_plus_2020",
         "orientation": "h",
         "showlegend": true,
         "textposition": "auto",
         "type": "bar",
         "x": [
          366,
          368,
          393,
          447,
          564,
          1150,
          1188,
          1241,
          1304,
          1356,
          1480,
          1611,
          1833,
          1883,
          2038,
          2043,
          2200,
          2136,
          2236,
          2364,
          2386,
          2400,
          2414,
          2435,
          2553,
          2597,
          2758,
          2892,
          2913,
          2968,
          3120,
          3371,
          3442,
          3757,
          4034,
          4202,
          4852,
          5037,
          5289,
          5448,
          5886,
          6046,
          6317,
          7145,
          7780,
          7838,
          8141,
          8970,
          9244,
          9860,
          10949,
          11545,
          18613,
          19579,
          22228,
          23801,
          24512
         ],
         "xaxis": "x",
         "y": [
          "Praha-Nedvězí",
          "Praha-Královice",
          "Praha-Přední Kopanina",
          "Praha-Lochkov",
          "Praha-Benice",
          "Praha-Křeslice",
          "Praha-Lysolaje",
          "Praha-Petrovice",
          "Praha-Březiněves",
          "Praha-Koloděje",
          "Praha-Újezd",
          "Praha-Troja",
          "Praha-Satalice",
          "Praha-Nebušice",
          "Praha-Vinoř",
          "Praha-Štěrboholy",
          "Praha-Kolovraty",
          "Praha-Šeberov",
          "Praha-Dolní Počernice",
          "Praha-Velká Chuchle",
          "Praha-Zličín",
          "Praha-Dubeč",
          "Praha-Ďáblice",
          "Praha-Běchovice",
          "Praha-Lipence",
          "Praha-Dolní Měcholupy",
          "Praha-Klánovice",
          "Praha-Řeporyje",
          "Praha-Dolní Chabry",
          "Praha-Slivenec",
          "Praha 16",
          "Praha 19",
          "Praha 17",
          "Praha-Suchdol",
          "Praha 18",
          "Praha-Libuš",
          "Praha-Zbraslav",
          "Praha-Čakovice",
          "Praha-Kunratice",
          "Praha 22",
          "Praha 2",
          "Praha 7",
          "Praha 21",
          "Praha 1",
          "Praha 11",
          "Praha 13",
          "Praha 3",
          "Praha 15",
          "Praha 20",
          "Praha 14",
          "Praha 9",
          "Praha 12",
          "Praha 8",
          "Praha 5",
          "Praha 10",
          "Praha 4",
          "Praha 6"
         ],
         "yaxis": "y"
        },
        {
         "alignmentgroup": "True",
         "hovertemplate": "variable=cze_youth_15_24_2020<br>value=%{x}<br>name=%{y}<extra></extra>",
         "legendgroup": "cze_youth_15_24_2020",
         "marker": {
          "color": "#ab63fa",
          "pattern": {
           "shape": ""
          }
         },
         "name": "cze_youth_15_24_2020",
         "offsetgroup": "cze_youth_15_24_2020",
         "orientation": "h",
         "showlegend": true,
         "textposition": "auto",
         "type": "bar",
         "x": [
          183,
          185,
          197,
          224,
          283,
          575,
          595,
          621,
          652,
          679,
          740,
          806,
          917,
          942,
          1020,
          1022,
          1101,
          1103,
          1119,
          1183,
          1196,
          1201,
          1208,
          1219,
          1276,
          1299,
          1380,
          1452,
          1458,
          1485,
          1562,
          1687,
          1723,
          1880,
          2019,
          2104,
          2428,
          2520,
          2649,
          2727,
          2945,
          3025,
          3161,
          3576,
          3893,
          3922,
          4074,
          4489,
          4626,
          4934,
          5479,
          5779,
          9314,
          9798,
          11124,
          11911,
          12269
         ],
         "xaxis": "x",
         "y": [
          "Praha-Nedvězí",
          "Praha-Královice",
          "Praha-Přední Kopanina",
          "Praha-Lochkov",
          "Praha-Benice",
          "Praha-Křeslice",
          "Praha-Lysolaje",
          "Praha-Petrovice",
          "Praha-Březiněves",
          "Praha-Koloděje",
          "Praha-Újezd",
          "Praha-Troja",
          "Praha-Satalice",
          "Praha-Nebušice",
          "Praha-Vinoř",
          "Praha-Štěrboholy",
          "Praha-Kolovraty",
          "Praha-Šeberov",
          "Praha-Dolní Počernice",
          "Praha-Velká Chuchle",
          "Praha-Zličín",
          "Praha-Dubeč",
          "Praha-Ďáblice",
          "Praha-Běchovice",
          "Praha-Lipence",
          "Praha-Dolní Měcholupy",
          "Praha-Klánovice",
          "Praha-Řeporyje",
          "Praha-Dolní Chabry",
          "Praha-Slivenec",
          "Praha 16",
          "Praha 19",
          "Praha 17",
          "Praha-Suchdol",
          "Praha 18",
          "Praha-Libuš",
          "Praha-Zbraslav",
          "Praha-Čakovice",
          "Praha-Kunratice",
          "Praha 22",
          "Praha 2",
          "Praha 7",
          "Praha 21",
          "Praha 1",
          "Praha 11",
          "Praha 13",
          "Praha 3",
          "Praha 15",
          "Praha 20",
          "Praha 14",
          "Praha 9",
          "Praha 12",
          "Praha 8",
          "Praha 5",
          "Praha 10",
          "Praha 4",
          "Praha 6"
         ],
         "yaxis": "y"
        },
        {
         "alignmentgroup": "True",
         "hovertemplate": "variable=cze_children_under_five_2020<br>value=%{x}<br>name=%{y}<extra></extra>",
         "legendgroup": "cze_children_under_five_2020",
         "marker": {
          "color": "#FFA15A",
          "pattern": {
           "shape": ""
          }
         },
         "name": "cze_children_under_five_2020",
         "offsetgroup": "cze_children_under_five_2020",
         "orientation": "h",
         "showlegend": true,
         "textposition": "auto",
         "type": "bar",
         "x": [
          87,
          87,
          92,
          105,
          133,
          270,
          280,
          292,
          307,
          319,
          348,
          378,
          431,
          442,
          479,
          480,
          518,
          547,
          525,
          555,
          565,
          564,
          567,
          572,
          601,
          610,
          648,
          681,
          685,
          697,
          734,
          792,
          809,
          883,
          948,
          987,
          1140,
          1183,
          1245,
          1280,
          1382,
          1420,
          1484,
          1678,
          1827,
          1843,
          1912,
          2107,
          2171,
          2316,
          2572,
          2716,
          4372,
          4599,
          5221,
          5591,
          5762
         ],
         "xaxis": "x",
         "y": [
          "Praha-Nedvězí",
          "Praha-Královice",
          "Praha-Přední Kopanina",
          "Praha-Lochkov",
          "Praha-Benice",
          "Praha-Křeslice",
          "Praha-Lysolaje",
          "Praha-Petrovice",
          "Praha-Březiněves",
          "Praha-Koloděje",
          "Praha-Újezd",
          "Praha-Troja",
          "Praha-Satalice",
          "Praha-Nebušice",
          "Praha-Vinoř",
          "Praha-Štěrboholy",
          "Praha-Kolovraty",
          "Praha-Šeberov",
          "Praha-Dolní Počernice",
          "Praha-Velká Chuchle",
          "Praha-Zličín",
          "Praha-Dubeč",
          "Praha-Ďáblice",
          "Praha-Běchovice",
          "Praha-Lipence",
          "Praha-Dolní Měcholupy",
          "Praha-Klánovice",
          "Praha-Řeporyje",
          "Praha-Dolní Chabry",
          "Praha-Slivenec",
          "Praha 16",
          "Praha 19",
          "Praha 17",
          "Praha-Suchdol",
          "Praha 18",
          "Praha-Libuš",
          "Praha-Zbraslav",
          "Praha-Čakovice",
          "Praha-Kunratice",
          "Praha 22",
          "Praha 2",
          "Praha 7",
          "Praha 21",
          "Praha 1",
          "Praha 11",
          "Praha 13",
          "Praha 3",
          "Praha 15",
          "Praha 20",
          "Praha 14",
          "Praha 9",
          "Praha 12",
          "Praha 8",
          "Praha 5",
          "Praha 10",
          "Praha 4",
          "Praha 6"
         ],
         "yaxis": "y"
        }
       ],
       "layout": {
        "barmode": "relative",
        "legend": {
         "title": {
          "text": "variable"
         },
         "tracegroupgap": 0
        },
        "template": {
         "data": {
          "bar": [
           {
            "error_x": {
             "color": "#2a3f5f"
            },
            "error_y": {
             "color": "#2a3f5f"
            },
            "marker": {
             "line": {
              "color": "white",
              "width": 0.5
             },
             "pattern": {
              "fillmode": "overlay",
              "size": 10,
              "solidity": 0.2
             }
            },
            "type": "bar"
           }
          ],
          "barpolar": [
           {
            "marker": {
             "line": {
              "color": "white",
              "width": 0.5
             },
             "pattern": {
              "fillmode": "overlay",
              "size": 10,
              "solidity": 0.2
             }
            },
            "type": "barpolar"
           }
          ],
          "carpet": [
           {
            "aaxis": {
             "endlinecolor": "#2a3f5f",
             "gridcolor": "#C8D4E3",
             "linecolor": "#C8D4E3",
             "minorgridcolor": "#C8D4E3",
             "startlinecolor": "#2a3f5f"
            },
            "baxis": {
             "endlinecolor": "#2a3f5f",
             "gridcolor": "#C8D4E3",
             "linecolor": "#C8D4E3",
             "minorgridcolor": "#C8D4E3",
             "startlinecolor": "#2a3f5f"
            },
            "type": "carpet"
           }
          ],
          "choropleth": [
           {
            "colorbar": {
             "outlinewidth": 0,
             "ticks": ""
            },
            "type": "choropleth"
           }
          ],
          "contour": [
           {
            "colorbar": {
             "outlinewidth": 0,
             "ticks": ""
            },
            "colorscale": [
             [
              0,
              "#0d0887"
             ],
             [
              0.1111111111111111,
              "#46039f"
             ],
             [
              0.2222222222222222,
              "#7201a8"
             ],
             [
              0.3333333333333333,
              "#9c179e"
             ],
             [
              0.4444444444444444,
              "#bd3786"
             ],
             [
              0.5555555555555556,
              "#d8576b"
             ],
             [
              0.6666666666666666,
              "#ed7953"
             ],
             [
              0.7777777777777778,
              "#fb9f3a"
             ],
             [
              0.8888888888888888,
              "#fdca26"
             ],
             [
              1,
              "#f0f921"
             ]
            ],
            "type": "contour"
           }
          ],
          "contourcarpet": [
           {
            "colorbar": {
             "outlinewidth": 0,
             "ticks": ""
            },
            "type": "contourcarpet"
           }
          ],
          "heatmap": [
           {
            "colorbar": {
             "outlinewidth": 0,
             "ticks": ""
            },
            "colorscale": [
             [
              0,
              "#0d0887"
             ],
             [
              0.1111111111111111,
              "#46039f"
             ],
             [
              0.2222222222222222,
              "#7201a8"
             ],
             [
              0.3333333333333333,
              "#9c179e"
             ],
             [
              0.4444444444444444,
              "#bd3786"
             ],
             [
              0.5555555555555556,
              "#d8576b"
             ],
             [
              0.6666666666666666,
              "#ed7953"
             ],
             [
              0.7777777777777778,
              "#fb9f3a"
             ],
             [
              0.8888888888888888,
              "#fdca26"
             ],
             [
              1,
              "#f0f921"
             ]
            ],
            "type": "heatmap"
           }
          ],
          "heatmapgl": [
           {
            "colorbar": {
             "outlinewidth": 0,
             "ticks": ""
            },
            "colorscale": [
             [
              0,
              "#0d0887"
             ],
             [
              0.1111111111111111,
              "#46039f"
             ],
             [
              0.2222222222222222,
              "#7201a8"
             ],
             [
              0.3333333333333333,
              "#9c179e"
             ],
             [
              0.4444444444444444,
              "#bd3786"
             ],
             [
              0.5555555555555556,
              "#d8576b"
             ],
             [
              0.6666666666666666,
              "#ed7953"
             ],
             [
              0.7777777777777778,
              "#fb9f3a"
             ],
             [
              0.8888888888888888,
              "#fdca26"
             ],
             [
              1,
              "#f0f921"
             ]
            ],
            "type": "heatmapgl"
           }
          ],
          "histogram": [
           {
            "marker": {
             "pattern": {
              "fillmode": "overlay",
              "size": 10,
              "solidity": 0.2
             }
            },
            "type": "histogram"
           }
          ],
          "histogram2d": [
           {
            "colorbar": {
             "outlinewidth": 0,
             "ticks": ""
            },
            "colorscale": [
             [
              0,
              "#0d0887"
             ],
             [
              0.1111111111111111,
              "#46039f"
             ],
             [
              0.2222222222222222,
              "#7201a8"
             ],
             [
              0.3333333333333333,
              "#9c179e"
             ],
             [
              0.4444444444444444,
              "#bd3786"
             ],
             [
              0.5555555555555556,
              "#d8576b"
             ],
             [
              0.6666666666666666,
              "#ed7953"
             ],
             [
              0.7777777777777778,
              "#fb9f3a"
             ],
             [
              0.8888888888888888,
              "#fdca26"
             ],
             [
              1,
              "#f0f921"
             ]
            ],
            "type": "histogram2d"
           }
          ],
          "histogram2dcontour": [
           {
            "colorbar": {
             "outlinewidth": 0,
             "ticks": ""
            },
            "colorscale": [
             [
              0,
              "#0d0887"
             ],
             [
              0.1111111111111111,
              "#46039f"
             ],
             [
              0.2222222222222222,
              "#7201a8"
             ],
             [
              0.3333333333333333,
              "#9c179e"
             ],
             [
              0.4444444444444444,
              "#bd3786"
             ],
             [
              0.5555555555555556,
              "#d8576b"
             ],
             [
              0.6666666666666666,
              "#ed7953"
             ],
             [
              0.7777777777777778,
              "#fb9f3a"
             ],
             [
              0.8888888888888888,
              "#fdca26"
             ],
             [
              1,
              "#f0f921"
             ]
            ],
            "type": "histogram2dcontour"
           }
          ],
          "mesh3d": [
           {
            "colorbar": {
             "outlinewidth": 0,
             "ticks": ""
            },
            "type": "mesh3d"
           }
          ],
          "parcoords": [
           {
            "line": {
             "colorbar": {
              "outlinewidth": 0,
              "ticks": ""
             }
            },
            "type": "parcoords"
           }
          ],
          "pie": [
           {
            "automargin": true,
            "type": "pie"
           }
          ],
          "scatter": [
           {
            "fillpattern": {
             "fillmode": "overlay",
             "size": 10,
             "solidity": 0.2
            },
            "type": "scatter"
           }
          ],
          "scatter3d": [
           {
            "line": {
             "colorbar": {
              "outlinewidth": 0,
              "ticks": ""
             }
            },
            "marker": {
             "colorbar": {
              "outlinewidth": 0,
              "ticks": ""
             }
            },
            "type": "scatter3d"
           }
          ],
          "scattercarpet": [
           {
            "marker": {
             "colorbar": {
              "outlinewidth": 0,
              "ticks": ""
             }
            },
            "type": "scattercarpet"
           }
          ],
          "scattergeo": [
           {
            "marker": {
             "colorbar": {
              "outlinewidth": 0,
              "ticks": ""
             }
            },
            "type": "scattergeo"
           }
          ],
          "scattergl": [
           {
            "marker": {
             "colorbar": {
              "outlinewidth": 0,
              "ticks": ""
             }
            },
            "type": "scattergl"
           }
          ],
          "scattermapbox": [
           {
            "marker": {
             "colorbar": {
              "outlinewidth": 0,
              "ticks": ""
             }
            },
            "type": "scattermapbox"
           }
          ],
          "scatterpolar": [
           {
            "marker": {
             "colorbar": {
              "outlinewidth": 0,
              "ticks": ""
             }
            },
            "type": "scatterpolar"
           }
          ],
          "scatterpolargl": [
           {
            "marker": {
             "colorbar": {
              "outlinewidth": 0,
              "ticks": ""
             }
            },
            "type": "scatterpolargl"
           }
          ],
          "scatterternary": [
           {
            "marker": {
             "colorbar": {
              "outlinewidth": 0,
              "ticks": ""
             }
            },
            "type": "scatterternary"
           }
          ],
          "surface": [
           {
            "colorbar": {
             "outlinewidth": 0,
             "ticks": ""
            },
            "colorscale": [
             [
              0,
              "#0d0887"
             ],
             [
              0.1111111111111111,
              "#46039f"
             ],
             [
              0.2222222222222222,
              "#7201a8"
             ],
             [
              0.3333333333333333,
              "#9c179e"
             ],
             [
              0.4444444444444444,
              "#bd3786"
             ],
             [
              0.5555555555555556,
              "#d8576b"
             ],
             [
              0.6666666666666666,
              "#ed7953"
             ],
             [
              0.7777777777777778,
              "#fb9f3a"
             ],
             [
              0.8888888888888888,
              "#fdca26"
             ],
             [
              1,
              "#f0f921"
             ]
            ],
            "type": "surface"
           }
          ],
          "table": [
           {
            "cells": {
             "fill": {
              "color": "#EBF0F8"
             },
             "line": {
              "color": "white"
             }
            },
            "header": {
             "fill": {
              "color": "#C8D4E3"
             },
             "line": {
              "color": "white"
             }
            },
            "type": "table"
           }
          ]
         },
         "layout": {
          "annotationdefaults": {
           "arrowcolor": "#2a3f5f",
           "arrowhead": 0,
           "arrowwidth": 1
          },
          "autotypenumbers": "strict",
          "coloraxis": {
           "colorbar": {
            "outlinewidth": 0,
            "ticks": ""
           }
          },
          "colorscale": {
           "diverging": [
            [
             0,
             "#8e0152"
            ],
            [
             0.1,
             "#c51b7d"
            ],
            [
             0.2,
             "#de77ae"
            ],
            [
             0.3,
             "#f1b6da"
            ],
            [
             0.4,
             "#fde0ef"
            ],
            [
             0.5,
             "#f7f7f7"
            ],
            [
             0.6,
             "#e6f5d0"
            ],
            [
             0.7,
             "#b8e186"
            ],
            [
             0.8,
             "#7fbc41"
            ],
            [
             0.9,
             "#4d9221"
            ],
            [
             1,
             "#276419"
            ]
           ],
           "sequential": [
            [
             0,
             "#0d0887"
            ],
            [
             0.1111111111111111,
             "#46039f"
            ],
            [
             0.2222222222222222,
             "#7201a8"
            ],
            [
             0.3333333333333333,
             "#9c179e"
            ],
            [
             0.4444444444444444,
             "#bd3786"
            ],
            [
             0.5555555555555556,
             "#d8576b"
            ],
            [
             0.6666666666666666,
             "#ed7953"
            ],
            [
             0.7777777777777778,
             "#fb9f3a"
            ],
            [
             0.8888888888888888,
             "#fdca26"
            ],
            [
             1,
             "#f0f921"
            ]
           ],
           "sequentialminus": [
            [
             0,
             "#0d0887"
            ],
            [
             0.1111111111111111,
             "#46039f"
            ],
            [
             0.2222222222222222,
             "#7201a8"
            ],
            [
             0.3333333333333333,
             "#9c179e"
            ],
            [
             0.4444444444444444,
             "#bd3786"
            ],
            [
             0.5555555555555556,
             "#d8576b"
            ],
            [
             0.6666666666666666,
             "#ed7953"
            ],
            [
             0.7777777777777778,
             "#fb9f3a"
            ],
            [
             0.8888888888888888,
             "#fdca26"
            ],
            [
             1,
             "#f0f921"
            ]
           ]
          },
          "colorway": [
           "#636efa",
           "#EF553B",
           "#00cc96",
           "#ab63fa",
           "#FFA15A",
           "#19d3f3",
           "#FF6692",
           "#B6E880",
           "#FF97FF",
           "#FECB52"
          ],
          "font": {
           "color": "#2a3f5f"
          },
          "geo": {
           "bgcolor": "white",
           "lakecolor": "white",
           "landcolor": "white",
           "showlakes": true,
           "showland": true,
           "subunitcolor": "#C8D4E3"
          },
          "hoverlabel": {
           "align": "left"
          },
          "hovermode": "closest",
          "mapbox": {
           "style": "light"
          },
          "paper_bgcolor": "white",
          "plot_bgcolor": "white",
          "polar": {
           "angularaxis": {
            "gridcolor": "#EBF0F8",
            "linecolor": "#EBF0F8",
            "ticks": ""
           },
           "bgcolor": "white",
           "radialaxis": {
            "gridcolor": "#EBF0F8",
            "linecolor": "#EBF0F8",
            "ticks": ""
           }
          },
          "scene": {
           "xaxis": {
            "backgroundcolor": "white",
            "gridcolor": "#DFE8F3",
            "gridwidth": 2,
            "linecolor": "#EBF0F8",
            "showbackground": true,
            "ticks": "",
            "zerolinecolor": "#EBF0F8"
           },
           "yaxis": {
            "backgroundcolor": "white",
            "gridcolor": "#DFE8F3",
            "gridwidth": 2,
            "linecolor": "#EBF0F8",
            "showbackground": true,
            "ticks": "",
            "zerolinecolor": "#EBF0F8"
           },
           "zaxis": {
            "backgroundcolor": "white",
            "gridcolor": "#DFE8F3",
            "gridwidth": 2,
            "linecolor": "#EBF0F8",
            "showbackground": true,
            "ticks": "",
            "zerolinecolor": "#EBF0F8"
           }
          },
          "shapedefaults": {
           "line": {
            "color": "#2a3f5f"
           }
          },
          "ternary": {
           "aaxis": {
            "gridcolor": "#DFE8F3",
            "linecolor": "#A2B1C6",
            "ticks": ""
           },
           "baxis": {
            "gridcolor": "#DFE8F3",
            "linecolor": "#A2B1C6",
            "ticks": ""
           },
           "bgcolor": "white",
           "caxis": {
            "gridcolor": "#DFE8F3",
            "linecolor": "#A2B1C6",
            "ticks": ""
           }
          },
          "title": {
           "x": 0.05
          },
          "xaxis": {
           "automargin": true,
           "gridcolor": "#EBF0F8",
           "linecolor": "#EBF0F8",
           "ticks": "",
           "title": {
            "standoff": 15
           },
           "zerolinecolor": "#EBF0F8",
           "zerolinewidth": 2
          },
          "yaxis": {
           "automargin": true,
           "gridcolor": "#EBF0F8",
           "linecolor": "#EBF0F8",
           "ticks": "",
           "title": {
            "standoff": 15
           },
           "zerolinecolor": "#EBF0F8",
           "zerolinewidth": 2
          }
         }
        },
        "title": {
         "text": "Total Population (p)"
        },
        "xaxis": {
         "anchor": "y",
         "domain": [
          0,
          1
         ],
         "title": {
          "text": "Total Population"
         }
        },
        "yaxis": {
         "anchor": "x",
         "domain": [
          0,
          1
         ],
         "title": {
          "text": "District"
         }
        }
       }
      },
      "text/html": [
       "<div>                            <div id=\"2e9c3d9b-1fb4-4db2-958b-2af65a80e328\" class=\"plotly-graph-div\" style=\"height:525px; width:100%;\"></div>            <script type=\"text/javascript\">                require([\"plotly\"], function(Plotly) {                    window.PLOTLYENV=window.PLOTLYENV || {};                                    if (document.getElementById(\"2e9c3d9b-1fb4-4db2-958b-2af65a80e328\")) {                    Plotly.newPlot(                        \"2e9c3d9b-1fb4-4db2-958b-2af65a80e328\",                        [{\"alignmentgroup\":\"True\",\"hovertemplate\":\"variable=cze_men_2020\\u003cbr\\u003evalue=%{x}\\u003cbr\\u003ename=%{y}\\u003cextra\\u003e\\u003c\\u002fextra\\u003e\",\"legendgroup\":\"cze_men_2020\",\"marker\":{\"color\":\"#636efa\",\"pattern\":{\"shape\":\"\"}},\"name\":\"cze_men_2020\",\"offsetgroup\":\"cze_men_2020\",\"orientation\":\"h\",\"showlegend\":true,\"textposition\":\"auto\",\"x\":[782,787,838,953,1206,2455,2537,2649,2782,2895,3159,3437,3912,4017,4348,4358,4697,4723,4770,5044,5103,5122,5150,5196,5451,5540,5885,6185,6217,6332,6660,7194,7345,8017,8608,8969,10355,10747,11296,11627,12558,12899,13480,15246,16600,16729,17370,19140,19724,21039,23361,24647,39715,41776,47429,50785,52316],\"xaxis\":\"x\",\"y\":[\"Praha-Nedv\\u011bz\\u00ed\",\"Praha-Kr\\u00e1lovice\",\"Praha-P\\u0159edn\\u00ed Kopanina\",\"Praha-Lochkov\",\"Praha-Benice\",\"Praha-K\\u0159eslice\",\"Praha-Lysolaje\",\"Praha-Petrovice\",\"Praha-B\\u0159ezin\\u011bves\",\"Praha-Kolod\\u011bje\",\"Praha-\\u00dajezd\",\"Praha-Troja\",\"Praha-Satalice\",\"Praha-Nebu\\u0161ice\",\"Praha-Vino\\u0159\",\"Praha-\\u0160t\\u011brboholy\",\"Praha-Kolovraty\",\"Praha-\\u0160eberov\",\"Praha-Doln\\u00ed Po\\u010dernice\",\"Praha-Velk\\u00e1 Chuchle\",\"Praha-Zli\\u010d\\u00edn\",\"Praha-Dube\\u010d\",\"Praha-\\u010e\\u00e1blice\",\"Praha-B\\u011bchovice\",\"Praha-Lipence\",\"Praha-Doln\\u00ed M\\u011bcholupy\",\"Praha-Kl\\u00e1novice\",\"Praha-\\u0158eporyje\",\"Praha-Doln\\u00ed Chabry\",\"Praha-Slivenec\",\"Praha 16\",\"Praha 19\",\"Praha 17\",\"Praha-Suchdol\",\"Praha 18\",\"Praha-Libu\\u0161\",\"Praha-Zbraslav\",\"Praha-\\u010cakovice\",\"Praha-Kunratice\",\"Praha 22\",\"Praha 2\",\"Praha 7\",\"Praha 21\",\"Praha 1\",\"Praha 11\",\"Praha 13\",\"Praha 3\",\"Praha 15\",\"Praha 20\",\"Praha 14\",\"Praha 9\",\"Praha 12\",\"Praha 8\",\"Praha 5\",\"Praha 10\",\"Praha 4\",\"Praha 6\"],\"yaxis\":\"y\",\"type\":\"bar\"},{\"alignmentgroup\":\"True\",\"hovertemplate\":\"variable=cze_women_2020\\u003cbr\\u003evalue=%{x}\\u003cbr\\u003ename=%{y}\\u003cextra\\u003e\\u003c\\u002fextra\\u003e\",\"legendgroup\":\"cze_women_2020\",\"marker\":{\"color\":\"#EF553B\",\"pattern\":{\"shape\":\"\"}},\"name\":\"cze_women_2020\",\"offsetgroup\":\"cze_women_2020\",\"orientation\":\"h\",\"showlegend\":true,\"textposition\":\"auto\",\"x\":[835,840,895,1017,1286,2621,2707,2827,2970,3089,3374,3668,4175,4288,4641,4652,5012,5024,5091,5384,5446,5467,5497,5545,5812,5913,6281,6599,6635,6758,7108,7678,7839,8557,9187,9572,11048,11470,12056,12408,13404,13768,14388,16272,17718,17855,18540,20428,21052,22456,24934,26304,42388,44589,50622,54204,55837],\"xaxis\":\"x\",\"y\":[\"Praha-Nedv\\u011bz\\u00ed\",\"Praha-Kr\\u00e1lovice\",\"Praha-P\\u0159edn\\u00ed Kopanina\",\"Praha-Lochkov\",\"Praha-Benice\",\"Praha-K\\u0159eslice\",\"Praha-Lysolaje\",\"Praha-Petrovice\",\"Praha-B\\u0159ezin\\u011bves\",\"Praha-Kolod\\u011bje\",\"Praha-\\u00dajezd\",\"Praha-Troja\",\"Praha-Satalice\",\"Praha-Nebu\\u0161ice\",\"Praha-Vino\\u0159\",\"Praha-\\u0160t\\u011brboholy\",\"Praha-Kolovraty\",\"Praha-\\u0160eberov\",\"Praha-Doln\\u00ed Po\\u010dernice\",\"Praha-Velk\\u00e1 Chuchle\",\"Praha-Zli\\u010d\\u00edn\",\"Praha-Dube\\u010d\",\"Praha-\\u010e\\u00e1blice\",\"Praha-B\\u011bchovice\",\"Praha-Lipence\",\"Praha-Doln\\u00ed M\\u011bcholupy\",\"Praha-Kl\\u00e1novice\",\"Praha-\\u0158eporyje\",\"Praha-Doln\\u00ed Chabry\",\"Praha-Slivenec\",\"Praha 16\",\"Praha 19\",\"Praha 17\",\"Praha-Suchdol\",\"Praha 18\",\"Praha-Libu\\u0161\",\"Praha-Zbraslav\",\"Praha-\\u010cakovice\",\"Praha-Kunratice\",\"Praha 22\",\"Praha 2\",\"Praha 7\",\"Praha 21\",\"Praha 1\",\"Praha 11\",\"Praha 13\",\"Praha 3\",\"Praha 15\",\"Praha 20\",\"Praha 14\",\"Praha 9\",\"Praha 12\",\"Praha 8\",\"Praha 5\",\"Praha 10\",\"Praha 4\",\"Praha 6\"],\"yaxis\":\"y\",\"type\":\"bar\"},{\"alignmentgroup\":\"True\",\"hovertemplate\":\"variable=cze_elderly_60_plus_2020\\u003cbr\\u003evalue=%{x}\\u003cbr\\u003ename=%{y}\\u003cextra\\u003e\\u003c\\u002fextra\\u003e\",\"legendgroup\":\"cze_elderly_60_plus_2020\",\"marker\":{\"color\":\"#00cc96\",\"pattern\":{\"shape\":\"\"}},\"name\":\"cze_elderly_60_plus_2020\",\"offsetgroup\":\"cze_elderly_60_plus_2020\",\"orientation\":\"h\",\"showlegend\":true,\"textposition\":\"auto\",\"x\":[366,368,393,447,564,1150,1188,1241,1304,1356,1480,1611,1833,1883,2038,2043,2200,2136,2236,2364,2386,2400,2414,2435,2553,2597,2758,2892,2913,2968,3120,3371,3442,3757,4034,4202,4852,5037,5289,5448,5886,6046,6317,7145,7780,7838,8141,8970,9244,9860,10949,11545,18613,19579,22228,23801,24512],\"xaxis\":\"x\",\"y\":[\"Praha-Nedv\\u011bz\\u00ed\",\"Praha-Kr\\u00e1lovice\",\"Praha-P\\u0159edn\\u00ed Kopanina\",\"Praha-Lochkov\",\"Praha-Benice\",\"Praha-K\\u0159eslice\",\"Praha-Lysolaje\",\"Praha-Petrovice\",\"Praha-B\\u0159ezin\\u011bves\",\"Praha-Kolod\\u011bje\",\"Praha-\\u00dajezd\",\"Praha-Troja\",\"Praha-Satalice\",\"Praha-Nebu\\u0161ice\",\"Praha-Vino\\u0159\",\"Praha-\\u0160t\\u011brboholy\",\"Praha-Kolovraty\",\"Praha-\\u0160eberov\",\"Praha-Doln\\u00ed Po\\u010dernice\",\"Praha-Velk\\u00e1 Chuchle\",\"Praha-Zli\\u010d\\u00edn\",\"Praha-Dube\\u010d\",\"Praha-\\u010e\\u00e1blice\",\"Praha-B\\u011bchovice\",\"Praha-Lipence\",\"Praha-Doln\\u00ed M\\u011bcholupy\",\"Praha-Kl\\u00e1novice\",\"Praha-\\u0158eporyje\",\"Praha-Doln\\u00ed Chabry\",\"Praha-Slivenec\",\"Praha 16\",\"Praha 19\",\"Praha 17\",\"Praha-Suchdol\",\"Praha 18\",\"Praha-Libu\\u0161\",\"Praha-Zbraslav\",\"Praha-\\u010cakovice\",\"Praha-Kunratice\",\"Praha 22\",\"Praha 2\",\"Praha 7\",\"Praha 21\",\"Praha 1\",\"Praha 11\",\"Praha 13\",\"Praha 3\",\"Praha 15\",\"Praha 20\",\"Praha 14\",\"Praha 9\",\"Praha 12\",\"Praha 8\",\"Praha 5\",\"Praha 10\",\"Praha 4\",\"Praha 6\"],\"yaxis\":\"y\",\"type\":\"bar\"},{\"alignmentgroup\":\"True\",\"hovertemplate\":\"variable=cze_youth_15_24_2020\\u003cbr\\u003evalue=%{x}\\u003cbr\\u003ename=%{y}\\u003cextra\\u003e\\u003c\\u002fextra\\u003e\",\"legendgroup\":\"cze_youth_15_24_2020\",\"marker\":{\"color\":\"#ab63fa\",\"pattern\":{\"shape\":\"\"}},\"name\":\"cze_youth_15_24_2020\",\"offsetgroup\":\"cze_youth_15_24_2020\",\"orientation\":\"h\",\"showlegend\":true,\"textposition\":\"auto\",\"x\":[183,185,197,224,283,575,595,621,652,679,740,806,917,942,1020,1022,1101,1103,1119,1183,1196,1201,1208,1219,1276,1299,1380,1452,1458,1485,1562,1687,1723,1880,2019,2104,2428,2520,2649,2727,2945,3025,3161,3576,3893,3922,4074,4489,4626,4934,5479,5779,9314,9798,11124,11911,12269],\"xaxis\":\"x\",\"y\":[\"Praha-Nedv\\u011bz\\u00ed\",\"Praha-Kr\\u00e1lovice\",\"Praha-P\\u0159edn\\u00ed Kopanina\",\"Praha-Lochkov\",\"Praha-Benice\",\"Praha-K\\u0159eslice\",\"Praha-Lysolaje\",\"Praha-Petrovice\",\"Praha-B\\u0159ezin\\u011bves\",\"Praha-Kolod\\u011bje\",\"Praha-\\u00dajezd\",\"Praha-Troja\",\"Praha-Satalice\",\"Praha-Nebu\\u0161ice\",\"Praha-Vino\\u0159\",\"Praha-\\u0160t\\u011brboholy\",\"Praha-Kolovraty\",\"Praha-\\u0160eberov\",\"Praha-Doln\\u00ed Po\\u010dernice\",\"Praha-Velk\\u00e1 Chuchle\",\"Praha-Zli\\u010d\\u00edn\",\"Praha-Dube\\u010d\",\"Praha-\\u010e\\u00e1blice\",\"Praha-B\\u011bchovice\",\"Praha-Lipence\",\"Praha-Doln\\u00ed M\\u011bcholupy\",\"Praha-Kl\\u00e1novice\",\"Praha-\\u0158eporyje\",\"Praha-Doln\\u00ed Chabry\",\"Praha-Slivenec\",\"Praha 16\",\"Praha 19\",\"Praha 17\",\"Praha-Suchdol\",\"Praha 18\",\"Praha-Libu\\u0161\",\"Praha-Zbraslav\",\"Praha-\\u010cakovice\",\"Praha-Kunratice\",\"Praha 22\",\"Praha 2\",\"Praha 7\",\"Praha 21\",\"Praha 1\",\"Praha 11\",\"Praha 13\",\"Praha 3\",\"Praha 15\",\"Praha 20\",\"Praha 14\",\"Praha 9\",\"Praha 12\",\"Praha 8\",\"Praha 5\",\"Praha 10\",\"Praha 4\",\"Praha 6\"],\"yaxis\":\"y\",\"type\":\"bar\"},{\"alignmentgroup\":\"True\",\"hovertemplate\":\"variable=cze_children_under_five_2020\\u003cbr\\u003evalue=%{x}\\u003cbr\\u003ename=%{y}\\u003cextra\\u003e\\u003c\\u002fextra\\u003e\",\"legendgroup\":\"cze_children_under_five_2020\",\"marker\":{\"color\":\"#FFA15A\",\"pattern\":{\"shape\":\"\"}},\"name\":\"cze_children_under_five_2020\",\"offsetgroup\":\"cze_children_under_five_2020\",\"orientation\":\"h\",\"showlegend\":true,\"textposition\":\"auto\",\"x\":[87,87,92,105,133,270,280,292,307,319,348,378,431,442,479,480,518,547,525,555,565,564,567,572,601,610,648,681,685,697,734,792,809,883,948,987,1140,1183,1245,1280,1382,1420,1484,1678,1827,1843,1912,2107,2171,2316,2572,2716,4372,4599,5221,5591,5762],\"xaxis\":\"x\",\"y\":[\"Praha-Nedv\\u011bz\\u00ed\",\"Praha-Kr\\u00e1lovice\",\"Praha-P\\u0159edn\\u00ed Kopanina\",\"Praha-Lochkov\",\"Praha-Benice\",\"Praha-K\\u0159eslice\",\"Praha-Lysolaje\",\"Praha-Petrovice\",\"Praha-B\\u0159ezin\\u011bves\",\"Praha-Kolod\\u011bje\",\"Praha-\\u00dajezd\",\"Praha-Troja\",\"Praha-Satalice\",\"Praha-Nebu\\u0161ice\",\"Praha-Vino\\u0159\",\"Praha-\\u0160t\\u011brboholy\",\"Praha-Kolovraty\",\"Praha-\\u0160eberov\",\"Praha-Doln\\u00ed Po\\u010dernice\",\"Praha-Velk\\u00e1 Chuchle\",\"Praha-Zli\\u010d\\u00edn\",\"Praha-Dube\\u010d\",\"Praha-\\u010e\\u00e1blice\",\"Praha-B\\u011bchovice\",\"Praha-Lipence\",\"Praha-Doln\\u00ed M\\u011bcholupy\",\"Praha-Kl\\u00e1novice\",\"Praha-\\u0158eporyje\",\"Praha-Doln\\u00ed Chabry\",\"Praha-Slivenec\",\"Praha 16\",\"Praha 19\",\"Praha 17\",\"Praha-Suchdol\",\"Praha 18\",\"Praha-Libu\\u0161\",\"Praha-Zbraslav\",\"Praha-\\u010cakovice\",\"Praha-Kunratice\",\"Praha 22\",\"Praha 2\",\"Praha 7\",\"Praha 21\",\"Praha 1\",\"Praha 11\",\"Praha 13\",\"Praha 3\",\"Praha 15\",\"Praha 20\",\"Praha 14\",\"Praha 9\",\"Praha 12\",\"Praha 8\",\"Praha 5\",\"Praha 10\",\"Praha 4\",\"Praha 6\"],\"yaxis\":\"y\",\"type\":\"bar\"}],                        {\"template\":{\"data\":{\"barpolar\":[{\"marker\":{\"line\":{\"color\":\"white\",\"width\":0.5},\"pattern\":{\"fillmode\":\"overlay\",\"size\":10,\"solidity\":0.2}},\"type\":\"barpolar\"}],\"bar\":[{\"error_x\":{\"color\":\"#2a3f5f\"},\"error_y\":{\"color\":\"#2a3f5f\"},\"marker\":{\"line\":{\"color\":\"white\",\"width\":0.5},\"pattern\":{\"fillmode\":\"overlay\",\"size\":10,\"solidity\":0.2}},\"type\":\"bar\"}],\"carpet\":[{\"aaxis\":{\"endlinecolor\":\"#2a3f5f\",\"gridcolor\":\"#C8D4E3\",\"linecolor\":\"#C8D4E3\",\"minorgridcolor\":\"#C8D4E3\",\"startlinecolor\":\"#2a3f5f\"},\"baxis\":{\"endlinecolor\":\"#2a3f5f\",\"gridcolor\":\"#C8D4E3\",\"linecolor\":\"#C8D4E3\",\"minorgridcolor\":\"#C8D4E3\",\"startlinecolor\":\"#2a3f5f\"},\"type\":\"carpet\"}],\"choropleth\":[{\"colorbar\":{\"outlinewidth\":0,\"ticks\":\"\"},\"type\":\"choropleth\"}],\"contourcarpet\":[{\"colorbar\":{\"outlinewidth\":0,\"ticks\":\"\"},\"type\":\"contourcarpet\"}],\"contour\":[{\"colorbar\":{\"outlinewidth\":0,\"ticks\":\"\"},\"colorscale\":[[0.0,\"#0d0887\"],[0.1111111111111111,\"#46039f\"],[0.2222222222222222,\"#7201a8\"],[0.3333333333333333,\"#9c179e\"],[0.4444444444444444,\"#bd3786\"],[0.5555555555555556,\"#d8576b\"],[0.6666666666666666,\"#ed7953\"],[0.7777777777777778,\"#fb9f3a\"],[0.8888888888888888,\"#fdca26\"],[1.0,\"#f0f921\"]],\"type\":\"contour\"}],\"heatmapgl\":[{\"colorbar\":{\"outlinewidth\":0,\"ticks\":\"\"},\"colorscale\":[[0.0,\"#0d0887\"],[0.1111111111111111,\"#46039f\"],[0.2222222222222222,\"#7201a8\"],[0.3333333333333333,\"#9c179e\"],[0.4444444444444444,\"#bd3786\"],[0.5555555555555556,\"#d8576b\"],[0.6666666666666666,\"#ed7953\"],[0.7777777777777778,\"#fb9f3a\"],[0.8888888888888888,\"#fdca26\"],[1.0,\"#f0f921\"]],\"type\":\"heatmapgl\"}],\"heatmap\":[{\"colorbar\":{\"outlinewidth\":0,\"ticks\":\"\"},\"colorscale\":[[0.0,\"#0d0887\"],[0.1111111111111111,\"#46039f\"],[0.2222222222222222,\"#7201a8\"],[0.3333333333333333,\"#9c179e\"],[0.4444444444444444,\"#bd3786\"],[0.5555555555555556,\"#d8576b\"],[0.6666666666666666,\"#ed7953\"],[0.7777777777777778,\"#fb9f3a\"],[0.8888888888888888,\"#fdca26\"],[1.0,\"#f0f921\"]],\"type\":\"heatmap\"}],\"histogram2dcontour\":[{\"colorbar\":{\"outlinewidth\":0,\"ticks\":\"\"},\"colorscale\":[[0.0,\"#0d0887\"],[0.1111111111111111,\"#46039f\"],[0.2222222222222222,\"#7201a8\"],[0.3333333333333333,\"#9c179e\"],[0.4444444444444444,\"#bd3786\"],[0.5555555555555556,\"#d8576b\"],[0.6666666666666666,\"#ed7953\"],[0.7777777777777778,\"#fb9f3a\"],[0.8888888888888888,\"#fdca26\"],[1.0,\"#f0f921\"]],\"type\":\"histogram2dcontour\"}],\"histogram2d\":[{\"colorbar\":{\"outlinewidth\":0,\"ticks\":\"\"},\"colorscale\":[[0.0,\"#0d0887\"],[0.1111111111111111,\"#46039f\"],[0.2222222222222222,\"#7201a8\"],[0.3333333333333333,\"#9c179e\"],[0.4444444444444444,\"#bd3786\"],[0.5555555555555556,\"#d8576b\"],[0.6666666666666666,\"#ed7953\"],[0.7777777777777778,\"#fb9f3a\"],[0.8888888888888888,\"#fdca26\"],[1.0,\"#f0f921\"]],\"type\":\"histogram2d\"}],\"histogram\":[{\"marker\":{\"pattern\":{\"fillmode\":\"overlay\",\"size\":10,\"solidity\":0.2}},\"type\":\"histogram\"}],\"mesh3d\":[{\"colorbar\":{\"outlinewidth\":0,\"ticks\":\"\"},\"type\":\"mesh3d\"}],\"parcoords\":[{\"line\":{\"colorbar\":{\"outlinewidth\":0,\"ticks\":\"\"}},\"type\":\"parcoords\"}],\"pie\":[{\"automargin\":true,\"type\":\"pie\"}],\"scatter3d\":[{\"line\":{\"colorbar\":{\"outlinewidth\":0,\"ticks\":\"\"}},\"marker\":{\"colorbar\":{\"outlinewidth\":0,\"ticks\":\"\"}},\"type\":\"scatter3d\"}],\"scattercarpet\":[{\"marker\":{\"colorbar\":{\"outlinewidth\":0,\"ticks\":\"\"}},\"type\":\"scattercarpet\"}],\"scattergeo\":[{\"marker\":{\"colorbar\":{\"outlinewidth\":0,\"ticks\":\"\"}},\"type\":\"scattergeo\"}],\"scattergl\":[{\"marker\":{\"colorbar\":{\"outlinewidth\":0,\"ticks\":\"\"}},\"type\":\"scattergl\"}],\"scattermapbox\":[{\"marker\":{\"colorbar\":{\"outlinewidth\":0,\"ticks\":\"\"}},\"type\":\"scattermapbox\"}],\"scatterpolargl\":[{\"marker\":{\"colorbar\":{\"outlinewidth\":0,\"ticks\":\"\"}},\"type\":\"scatterpolargl\"}],\"scatterpolar\":[{\"marker\":{\"colorbar\":{\"outlinewidth\":0,\"ticks\":\"\"}},\"type\":\"scatterpolar\"}],\"scatter\":[{\"fillpattern\":{\"fillmode\":\"overlay\",\"size\":10,\"solidity\":0.2},\"type\":\"scatter\"}],\"scatterternary\":[{\"marker\":{\"colorbar\":{\"outlinewidth\":0,\"ticks\":\"\"}},\"type\":\"scatterternary\"}],\"surface\":[{\"colorbar\":{\"outlinewidth\":0,\"ticks\":\"\"},\"colorscale\":[[0.0,\"#0d0887\"],[0.1111111111111111,\"#46039f\"],[0.2222222222222222,\"#7201a8\"],[0.3333333333333333,\"#9c179e\"],[0.4444444444444444,\"#bd3786\"],[0.5555555555555556,\"#d8576b\"],[0.6666666666666666,\"#ed7953\"],[0.7777777777777778,\"#fb9f3a\"],[0.8888888888888888,\"#fdca26\"],[1.0,\"#f0f921\"]],\"type\":\"surface\"}],\"table\":[{\"cells\":{\"fill\":{\"color\":\"#EBF0F8\"},\"line\":{\"color\":\"white\"}},\"header\":{\"fill\":{\"color\":\"#C8D4E3\"},\"line\":{\"color\":\"white\"}},\"type\":\"table\"}]},\"layout\":{\"annotationdefaults\":{\"arrowcolor\":\"#2a3f5f\",\"arrowhead\":0,\"arrowwidth\":1},\"autotypenumbers\":\"strict\",\"coloraxis\":{\"colorbar\":{\"outlinewidth\":0,\"ticks\":\"\"}},\"colorscale\":{\"diverging\":[[0,\"#8e0152\"],[0.1,\"#c51b7d\"],[0.2,\"#de77ae\"],[0.3,\"#f1b6da\"],[0.4,\"#fde0ef\"],[0.5,\"#f7f7f7\"],[0.6,\"#e6f5d0\"],[0.7,\"#b8e186\"],[0.8,\"#7fbc41\"],[0.9,\"#4d9221\"],[1,\"#276419\"]],\"sequential\":[[0.0,\"#0d0887\"],[0.1111111111111111,\"#46039f\"],[0.2222222222222222,\"#7201a8\"],[0.3333333333333333,\"#9c179e\"],[0.4444444444444444,\"#bd3786\"],[0.5555555555555556,\"#d8576b\"],[0.6666666666666666,\"#ed7953\"],[0.7777777777777778,\"#fb9f3a\"],[0.8888888888888888,\"#fdca26\"],[1.0,\"#f0f921\"]],\"sequentialminus\":[[0.0,\"#0d0887\"],[0.1111111111111111,\"#46039f\"],[0.2222222222222222,\"#7201a8\"],[0.3333333333333333,\"#9c179e\"],[0.4444444444444444,\"#bd3786\"],[0.5555555555555556,\"#d8576b\"],[0.6666666666666666,\"#ed7953\"],[0.7777777777777778,\"#fb9f3a\"],[0.8888888888888888,\"#fdca26\"],[1.0,\"#f0f921\"]]},\"colorway\":[\"#636efa\",\"#EF553B\",\"#00cc96\",\"#ab63fa\",\"#FFA15A\",\"#19d3f3\",\"#FF6692\",\"#B6E880\",\"#FF97FF\",\"#FECB52\"],\"font\":{\"color\":\"#2a3f5f\"},\"geo\":{\"bgcolor\":\"white\",\"lakecolor\":\"white\",\"landcolor\":\"white\",\"showlakes\":true,\"showland\":true,\"subunitcolor\":\"#C8D4E3\"},\"hoverlabel\":{\"align\":\"left\"},\"hovermode\":\"closest\",\"mapbox\":{\"style\":\"light\"},\"paper_bgcolor\":\"white\",\"plot_bgcolor\":\"white\",\"polar\":{\"angularaxis\":{\"gridcolor\":\"#EBF0F8\",\"linecolor\":\"#EBF0F8\",\"ticks\":\"\"},\"bgcolor\":\"white\",\"radialaxis\":{\"gridcolor\":\"#EBF0F8\",\"linecolor\":\"#EBF0F8\",\"ticks\":\"\"}},\"scene\":{\"xaxis\":{\"backgroundcolor\":\"white\",\"gridcolor\":\"#DFE8F3\",\"gridwidth\":2,\"linecolor\":\"#EBF0F8\",\"showbackground\":true,\"ticks\":\"\",\"zerolinecolor\":\"#EBF0F8\"},\"yaxis\":{\"backgroundcolor\":\"white\",\"gridcolor\":\"#DFE8F3\",\"gridwidth\":2,\"linecolor\":\"#EBF0F8\",\"showbackground\":true,\"ticks\":\"\",\"zerolinecolor\":\"#EBF0F8\"},\"zaxis\":{\"backgroundcolor\":\"white\",\"gridcolor\":\"#DFE8F3\",\"gridwidth\":2,\"linecolor\":\"#EBF0F8\",\"showbackground\":true,\"ticks\":\"\",\"zerolinecolor\":\"#EBF0F8\"}},\"shapedefaults\":{\"line\":{\"color\":\"#2a3f5f\"}},\"ternary\":{\"aaxis\":{\"gridcolor\":\"#DFE8F3\",\"linecolor\":\"#A2B1C6\",\"ticks\":\"\"},\"baxis\":{\"gridcolor\":\"#DFE8F3\",\"linecolor\":\"#A2B1C6\",\"ticks\":\"\"},\"bgcolor\":\"white\",\"caxis\":{\"gridcolor\":\"#DFE8F3\",\"linecolor\":\"#A2B1C6\",\"ticks\":\"\"}},\"title\":{\"x\":0.05},\"xaxis\":{\"automargin\":true,\"gridcolor\":\"#EBF0F8\",\"linecolor\":\"#EBF0F8\",\"ticks\":\"\",\"title\":{\"standoff\":15},\"zerolinecolor\":\"#EBF0F8\",\"zerolinewidth\":2},\"yaxis\":{\"automargin\":true,\"gridcolor\":\"#EBF0F8\",\"linecolor\":\"#EBF0F8\",\"ticks\":\"\",\"title\":{\"standoff\":15},\"zerolinecolor\":\"#EBF0F8\",\"zerolinewidth\":2}}},\"xaxis\":{\"anchor\":\"y\",\"domain\":[0.0,1.0],\"title\":{\"text\":\"Total Population\"}},\"yaxis\":{\"anchor\":\"x\",\"domain\":[0.0,1.0],\"title\":{\"text\":\"District\"}},\"legend\":{\"title\":{\"text\":\"variable\"},\"tracegroupgap\":0},\"title\":{\"text\":\"Total Population (p)\"},\"barmode\":\"relative\"},                        {\"responsive\": true}                    ).then(function(){\n",
       "                            \n",
       "var gd = document.getElementById('2e9c3d9b-1fb4-4db2-958b-2af65a80e328');\n",
       "var x = new MutationObserver(function (mutations, observer) {{\n",
       "        var display = window.getComputedStyle(gd).display;\n",
       "        if (!display || display === 'none') {{\n",
       "            console.log([gd, 'removed!']);\n",
       "            Plotly.purge(gd);\n",
       "            observer.disconnect();\n",
       "        }}\n",
       "}});\n",
       "\n",
       "// Listen for the removal of the full notebook cells\n",
       "var notebookContainer = gd.closest('#notebook-container');\n",
       "if (notebookContainer) {{\n",
       "    x.observe(notebookContainer, {childList: true});\n",
       "}}\n",
       "\n",
       "// Listen for the clearing of the current output cell\n",
       "var outputEl = gd.closest('.output');\n",
       "if (outputEl) {{\n",
       "    x.observe(outputEl, {childList: true});\n",
       "}}\n",
       "\n",
       "                        })                };                });            </script>        </div>"
      ]
     },
     "metadata": {},
     "output_type": "display_data"
    },
    {
     "data": {
      "application/vnd.plotly.v1+json": {
       "config": {
        "plotlyServerURL": "https://plot.ly"
       },
       "data": [
        {
         "alignmentgroup": "True",
         "hovertemplate": "variable=cze_men_2020<br>value=%{x}<br>name=%{y}<extra></extra>",
         "legendgroup": "cze_men_2020",
         "marker": {
          "color": "#636efa",
          "pattern": {
           "shape": ""
          }
         },
         "name": "cze_men_2020",
         "offsetgroup": "cze_men_2020",
         "orientation": "h",
         "showlegend": true,
         "textposition": "auto",
         "type": "bar",
         "x": [
          84.8584723784404,
          65.5327553741365,
          105.32531591249233,
          145.09573247860564,
          179.71810470510283,
          295.3235617538767,
          421.8061074650133,
          612.3975730660271,
          338.0117915913804,
          317.9502095416744,
          352.53375031657026,
          419.53802182077806,
          423.78391073669576,
          449.2826311841144,
          298.0255829204999,
          605.2297168602597,
          298.8299002744504,
          390.411975165586,
          341.30539631004956,
          346.4790181464597,
          293.621186924314,
          245.634168486288,
          286.8592204858573,
          313.372146189336,
          273.8291288720247,
          490.459074905695,
          411.1436878499545,
          258.08734578901533,
          512.2174775846115,
          344.7284852912753,
          296.35074887331183,
          493.0319813709076,
          931.0726846401881,
          641.9605207954988,
          631.413804059859,
          708.6661587258336,
          435.1017203105186,
          433.60610875805116,
          576.6159231578963,
          307.3712120598583,
          1237.3150645161625,
          748.6547191500886,
          547.5442633292225,
          1134.4041948832448,
          700.0573125910217,
          523.2471031802054,
          1104.3037209494378,
          770.203646119134,
          479.36796559131994,
          640.4194222594006,
          722.6092396364387,
          437.28421487211523,
          749.7886868687126,
          626.5742948902314,
          1051.582633857623,
          866.4662973748646,
          518.494927538878
         ],
         "xaxis": "x",
         "y": [
          "Praha-Nedvězí",
          "Praha-Královice",
          "Praha-Přední Kopanina",
          "Praha-Lochkov",
          "Praha-Benice",
          "Praha-Křeslice",
          "Praha-Lysolaje",
          "Praha-Petrovice",
          "Praha-Březiněves",
          "Praha-Koloděje",
          "Praha-Újezd",
          "Praha-Troja",
          "Praha-Satalice",
          "Praha-Nebušice",
          "Praha-Vinoř",
          "Praha-Štěrboholy",
          "Praha-Kolovraty",
          "Praha-Šeberov",
          "Praha-Dolní Počernice",
          "Praha-Velká Chuchle",
          "Praha-Zličín",
          "Praha-Dubeč",
          "Praha-Ďáblice",
          "Praha-Běchovice",
          "Praha-Lipence",
          "Praha-Dolní Měcholupy",
          "Praha-Klánovice",
          "Praha-Řeporyje",
          "Praha-Dolní Chabry",
          "Praha-Slivenec",
          "Praha 16",
          "Praha 19",
          "Praha 17",
          "Praha-Suchdol",
          "Praha 18",
          "Praha-Libuš",
          "Praha-Zbraslav",
          "Praha-Čakovice",
          "Praha-Kunratice",
          "Praha 22",
          "Praha 2",
          "Praha 7",
          "Praha 21",
          "Praha 1",
          "Praha 11",
          "Praha 13",
          "Praha 3",
          "Praha 15",
          "Praha 20",
          "Praha 14",
          "Praha 9",
          "Praha 12",
          "Praha 8",
          "Praha 5",
          "Praha 10",
          "Praha 4",
          "Praha 6"
         ],
         "yaxis": "y"
        },
        {
         "alignmentgroup": "True",
         "hovertemplate": "variable=cze_women_2020<br>value=%{x}<br>name=%{y}<extra></extra>",
         "legendgroup": "cze_women_2020",
         "marker": {
          "color": "#EF553B",
          "pattern": {
           "shape": ""
          }
         },
         "name": "cze_women_2020",
         "offsetgroup": "cze_women_2020",
         "orientation": "h",
         "showlegend": true,
         "textposition": "auto",
         "type": "bar",
         "x": [
          90.60974991815567,
          69.94601590123845,
          112.48944837909384,
          154.83983203645533,
          191.63970369051597,
          315.2924869070919,
          450.07060816231416,
          653.5477308635933,
          360.8537099304097,
          339.25671753859484,
          376.5270255043077,
          447.7350782771644,
          452.27449573765455,
          479.5927116050492,
          318.10872362788416,
          646.0598079013145,
          318.8706536460603,
          415.29319568746644,
          364.2737468793422,
          369.83406695093953,
          313.3570417381568,
          262.17922669163147,
          306.18740485645776,
          334.4204292955866,
          291.96384094738715,
          523.4809584688402,
          438.8094313314468,
          275.36271541822344,
          546.656420101962,
          367.92089444068836,
          316.2854539026277,
          526.2023287414274,
          993.6935023682007,
          685.2009699946468,
          673.884597804127,
          756.3109010283955,
          464.220551037239,
          462.7767811905506,
          615.4109038236188,
          328.0177173164808,
          1320.6697821925975,
          799.0912608154446,
          584.4263249837429,
          1210.7454453063203,
          747.2057508727544,
          558.4659589504791,
          1178.6868731377417,
          822.0334421589168,
          511.6433994944467,
          683.5523811139835,
          771.26573267818,
          466.68251665501356,
          800.2528731962984,
          668.7648706161558,
          1122.3769442986484,
          924.7994325668437,
          553.3909562846611
         ],
         "xaxis": "x",
         "y": [
          "Praha-Nedvězí",
          "Praha-Královice",
          "Praha-Přední Kopanina",
          "Praha-Lochkov",
          "Praha-Benice",
          "Praha-Křeslice",
          "Praha-Lysolaje",
          "Praha-Petrovice",
          "Praha-Březiněves",
          "Praha-Koloděje",
          "Praha-Újezd",
          "Praha-Troja",
          "Praha-Satalice",
          "Praha-Nebušice",
          "Praha-Vinoř",
          "Praha-Štěrboholy",
          "Praha-Kolovraty",
          "Praha-Šeberov",
          "Praha-Dolní Počernice",
          "Praha-Velká Chuchle",
          "Praha-Zličín",
          "Praha-Dubeč",
          "Praha-Ďáblice",
          "Praha-Běchovice",
          "Praha-Lipence",
          "Praha-Dolní Měcholupy",
          "Praha-Klánovice",
          "Praha-Řeporyje",
          "Praha-Dolní Chabry",
          "Praha-Slivenec",
          "Praha 16",
          "Praha 19",
          "Praha 17",
          "Praha-Suchdol",
          "Praha 18",
          "Praha-Libuš",
          "Praha-Zbraslav",
          "Praha-Čakovice",
          "Praha-Kunratice",
          "Praha 22",
          "Praha 2",
          "Praha 7",
          "Praha 21",
          "Praha 1",
          "Praha 11",
          "Praha 13",
          "Praha 3",
          "Praha 15",
          "Praha 20",
          "Praha 14",
          "Praha 9",
          "Praha 12",
          "Praha 8",
          "Praha 5",
          "Praha 10",
          "Praha 4",
          "Praha 6"
         ],
         "yaxis": "y"
        },
        {
         "alignmentgroup": "True",
         "hovertemplate": "variable=cze_elderly_60_plus_2020<br>value=%{x}<br>name=%{y}<extra></extra>",
         "legendgroup": "cze_elderly_60_plus_2020",
         "marker": {
          "color": "#00cc96",
          "pattern": {
           "shape": ""
          }
         },
         "name": "cze_elderly_60_plus_2020",
         "offsetgroup": "cze_elderly_60_plus_2020",
         "orientation": "h",
         "showlegend": true,
         "textposition": "auto",
         "type": "bar",
         "x": [
          39.71636942520357,
          30.64301649006637,
          49.39480805919986,
          68.05644534935647,
          84.04727284716252,
          138.33893931444325,
          197.51898134349068,
          286.8952012740429,
          158.4354335856075,
          148.9259012568257,
          165.1630105946578,
          196.6470041179149,
          198.56746124242414,
          210.60472853365383,
          139.6909241011911,
          283.727469377125,
          139.96716640489478,
          176.56573765693238,
          159.9913765512098,
          162.38628051114804,
          137.28789966713956,
          115.09605708065037,
          134.46177830152612,
          146.85549960951369,
          128.2490856742394,
          229.91375767691153,
          192.6821225301911,
          120.67721972867135,
          240.00153003120047,
          161.58467219591049,
          138.8309814541641,
          231.02735740913673,
          436.3175194733189,
          300.8414215577759,
          295.9018686776802,
          332.01195216478453,
          203.87383360179973,
          203.22638595089828,
          269.98243781711346,
          144.0232530577198,
          579.9360144722194,
          350.9083209536736,
          256.5902901669658,
          531.635705918981,
          328.0991501179608,
          245.15576512203057,
          517.566873474345,
          360.95750813420227,
          224.66424021122296,
          300.13477368114883,
          338.6776492778292,
          204.83005074445452,
          351.3991395867392,
          293.6542062345806,
          492.8330512004732,
          406.07983349058094,
          242.93423931173976
         ],
         "xaxis": "x",
         "y": [
          "Praha-Nedvězí",
          "Praha-Královice",
          "Praha-Přední Kopanina",
          "Praha-Lochkov",
          "Praha-Benice",
          "Praha-Křeslice",
          "Praha-Lysolaje",
          "Praha-Petrovice",
          "Praha-Březiněves",
          "Praha-Koloděje",
          "Praha-Újezd",
          "Praha-Troja",
          "Praha-Satalice",
          "Praha-Nebušice",
          "Praha-Vinoř",
          "Praha-Štěrboholy",
          "Praha-Kolovraty",
          "Praha-Šeberov",
          "Praha-Dolní Počernice",
          "Praha-Velká Chuchle",
          "Praha-Zličín",
          "Praha-Dubeč",
          "Praha-Ďáblice",
          "Praha-Běchovice",
          "Praha-Lipence",
          "Praha-Dolní Měcholupy",
          "Praha-Klánovice",
          "Praha-Řeporyje",
          "Praha-Dolní Chabry",
          "Praha-Slivenec",
          "Praha 16",
          "Praha 19",
          "Praha 17",
          "Praha-Suchdol",
          "Praha 18",
          "Praha-Libuš",
          "Praha-Zbraslav",
          "Praha-Čakovice",
          "Praha-Kunratice",
          "Praha 22",
          "Praha 2",
          "Praha 7",
          "Praha 21",
          "Praha 1",
          "Praha 11",
          "Praha 13",
          "Praha 3",
          "Praha 15",
          "Praha 20",
          "Praha 14",
          "Praha 9",
          "Praha 12",
          "Praha 8",
          "Praha 5",
          "Praha 10",
          "Praha 4",
          "Praha 6"
         ],
         "yaxis": "y"
        },
        {
         "alignmentgroup": "True",
         "hovertemplate": "variable=cze_youth_15_24_2020<br>value=%{x}<br>name=%{y}<extra></extra>",
         "legendgroup": "cze_youth_15_24_2020",
         "marker": {
          "color": "#ab63fa",
          "pattern": {
           "shape": ""
          }
         },
         "name": "cze_youth_15_24_2020",
         "offsetgroup": "cze_youth_15_24_2020",
         "orientation": "h",
         "showlegend": true,
         "textposition": "auto",
         "type": "bar",
         "x": [
          19.858184712601783,
          15.404777311582277,
          24.76024729685082,
          34.104348452473936,
          42.172656410898924,
          69.16946965722163,
          98.92575244055298,
          143.5631909679135,
          79.21771679280376,
          74.57277798922173,
          82.5815052973289,
          98.38453464868988,
          99.33789523148006,
          105.35828692443012,
          69.91400519294157,
          141.93317361890442,
          70.04720464172235,
          91.17603400542905,
          80.06724076959024,
          81.2618315755872,
          68.81656663952177,
          57.595985230775455,
          67.28658997027487,
          73.51821520492697,
          64.09942550737543,
          115.00114409792378,
          96.41092425368517,
          60.5889775401213,
          120.12434973755245,
          80.84677837295386,
          69.50448494596291,
          115.61647936790675,
          218.41228531450565,
          150.54082313777445,
          148.0976382895975,
          166.2430146013105,
          102.02095383041421,
          101.67371304273648,
          135.22092603091954,
          72.09093448759212,
          290.1650633062668,
          175.5702399743405,
          128.39669261006472,
          266.0782763283801,
          164.17609144077394,
          122.6717161021439,
          259.0059504402999,
          180.6397161666036,
          112.42933526797029,
          150.18914536945113,
          169.47801994640844,
          102.53034761820724,
          175.84116403110133,
          146.95458974852755,
          246.63824282679792,
          203.21906208589175,
          121.59596043226726
         ],
         "xaxis": "x",
         "y": [
          "Praha-Nedvězí",
          "Praha-Královice",
          "Praha-Přední Kopanina",
          "Praha-Lochkov",
          "Praha-Benice",
          "Praha-Křeslice",
          "Praha-Lysolaje",
          "Praha-Petrovice",
          "Praha-Březiněves",
          "Praha-Koloděje",
          "Praha-Újezd",
          "Praha-Troja",
          "Praha-Satalice",
          "Praha-Nebušice",
          "Praha-Vinoř",
          "Praha-Štěrboholy",
          "Praha-Kolovraty",
          "Praha-Šeberov",
          "Praha-Dolní Počernice",
          "Praha-Velká Chuchle",
          "Praha-Zličín",
          "Praha-Dubeč",
          "Praha-Ďáblice",
          "Praha-Běchovice",
          "Praha-Lipence",
          "Praha-Dolní Měcholupy",
          "Praha-Klánovice",
          "Praha-Řeporyje",
          "Praha-Dolní Chabry",
          "Praha-Slivenec",
          "Praha 16",
          "Praha 19",
          "Praha 17",
          "Praha-Suchdol",
          "Praha 18",
          "Praha-Libuš",
          "Praha-Zbraslav",
          "Praha-Čakovice",
          "Praha-Kunratice",
          "Praha 22",
          "Praha 2",
          "Praha 7",
          "Praha 21",
          "Praha 1",
          "Praha 11",
          "Praha 13",
          "Praha 3",
          "Praha 15",
          "Praha 20",
          "Praha 14",
          "Praha 9",
          "Praha 12",
          "Praha 8",
          "Praha 5",
          "Praha 10",
          "Praha 4",
          "Praha 6"
         ],
         "yaxis": "y"
        },
        {
         "alignmentgroup": "True",
         "hovertemplate": "variable=cze_children_under_five_2020<br>value=%{x}<br>name=%{y}<extra></extra>",
         "legendgroup": "cze_children_under_five_2020",
         "marker": {
          "color": "#FFA15A",
          "pattern": {
           "shape": ""
          }
         },
         "name": "cze_children_under_five_2020",
         "offsetgroup": "cze_children_under_five_2020",
         "orientation": "h",
         "showlegend": true,
         "textposition": "auto",
         "type": "bar",
         "x": [
          9.440776338777896,
          7.244408789771126,
          11.563161174163836,
          15.986413337097158,
          19.819658313249317,
          32.4795770564345,
          46.553295266142584,
          67.50475324095127,
          37.30036664937232,
          35.034928098029056,
          38.83562681550062,
          46.14063783772305,
          46.689894051000984,
          49.43562932122942,
          32.83216518374413,
          66.66137312825256,
          32.95590554442523,
          45.2160386228193,
          37.56505934230105,
          38.123682607312674,
          32.50949845428912,
          27.047573413952836,
          31.58236466320021,
          34.497472598210194,
          30.191030352611783,
          54.00361655098808,
          45.271216606078255,
          28.416731201668462,
          56.4370230248446,
          37.94626567403962,
          32.66087832928091,
          54.27875024266873,
          102.55109623878994,
          70.70614193119938,
          69.53767265900863,
          77.98567272409385,
          47.90110682317636,
          47.73015973395129,
          63.55230385371644,
          33.838062392415814,
          136.16574447852653,
          82.4164432276243,
          60.27861177897376,
          124.85440371337302,
          77.0484765122769,
          57.64507210001306,
          121.55605725131403,
          84.78678591290571,
          52.76352937024719,
          70.49818821962887,
          79.55785130537735,
          48.1869569356378,
          82.54000098174522,
          68.9777667129494,
          115.75856398765839,
          95.39062850492996,
          57.106196430900965
         ],
         "xaxis": "x",
         "y": [
          "Praha-Nedvězí",
          "Praha-Královice",
          "Praha-Přední Kopanina",
          "Praha-Lochkov",
          "Praha-Benice",
          "Praha-Křeslice",
          "Praha-Lysolaje",
          "Praha-Petrovice",
          "Praha-Březiněves",
          "Praha-Koloděje",
          "Praha-Újezd",
          "Praha-Troja",
          "Praha-Satalice",
          "Praha-Nebušice",
          "Praha-Vinoř",
          "Praha-Štěrboholy",
          "Praha-Kolovraty",
          "Praha-Šeberov",
          "Praha-Dolní Počernice",
          "Praha-Velká Chuchle",
          "Praha-Zličín",
          "Praha-Dubeč",
          "Praha-Ďáblice",
          "Praha-Běchovice",
          "Praha-Lipence",
          "Praha-Dolní Měcholupy",
          "Praha-Klánovice",
          "Praha-Řeporyje",
          "Praha-Dolní Chabry",
          "Praha-Slivenec",
          "Praha 16",
          "Praha 19",
          "Praha 17",
          "Praha-Suchdol",
          "Praha 18",
          "Praha-Libuš",
          "Praha-Zbraslav",
          "Praha-Čakovice",
          "Praha-Kunratice",
          "Praha 22",
          "Praha 2",
          "Praha 7",
          "Praha 21",
          "Praha 1",
          "Praha 11",
          "Praha 13",
          "Praha 3",
          "Praha 15",
          "Praha 20",
          "Praha 14",
          "Praha 9",
          "Praha 12",
          "Praha 8",
          "Praha 5",
          "Praha 10",
          "Praha 4",
          "Praha 6"
         ],
         "yaxis": "y"
        }
       ],
       "layout": {
        "barmode": "relative",
        "legend": {
         "title": {
          "text": "variable"
         },
         "tracegroupgap": 0
        },
        "template": {
         "data": {
          "bar": [
           {
            "error_x": {
             "color": "#2a3f5f"
            },
            "error_y": {
             "color": "#2a3f5f"
            },
            "marker": {
             "line": {
              "color": "white",
              "width": 0.5
             },
             "pattern": {
              "fillmode": "overlay",
              "size": 10,
              "solidity": 0.2
             }
            },
            "type": "bar"
           }
          ],
          "barpolar": [
           {
            "marker": {
             "line": {
              "color": "white",
              "width": 0.5
             },
             "pattern": {
              "fillmode": "overlay",
              "size": 10,
              "solidity": 0.2
             }
            },
            "type": "barpolar"
           }
          ],
          "carpet": [
           {
            "aaxis": {
             "endlinecolor": "#2a3f5f",
             "gridcolor": "#C8D4E3",
             "linecolor": "#C8D4E3",
             "minorgridcolor": "#C8D4E3",
             "startlinecolor": "#2a3f5f"
            },
            "baxis": {
             "endlinecolor": "#2a3f5f",
             "gridcolor": "#C8D4E3",
             "linecolor": "#C8D4E3",
             "minorgridcolor": "#C8D4E3",
             "startlinecolor": "#2a3f5f"
            },
            "type": "carpet"
           }
          ],
          "choropleth": [
           {
            "colorbar": {
             "outlinewidth": 0,
             "ticks": ""
            },
            "type": "choropleth"
           }
          ],
          "contour": [
           {
            "colorbar": {
             "outlinewidth": 0,
             "ticks": ""
            },
            "colorscale": [
             [
              0,
              "#0d0887"
             ],
             [
              0.1111111111111111,
              "#46039f"
             ],
             [
              0.2222222222222222,
              "#7201a8"
             ],
             [
              0.3333333333333333,
              "#9c179e"
             ],
             [
              0.4444444444444444,
              "#bd3786"
             ],
             [
              0.5555555555555556,
              "#d8576b"
             ],
             [
              0.6666666666666666,
              "#ed7953"
             ],
             [
              0.7777777777777778,
              "#fb9f3a"
             ],
             [
              0.8888888888888888,
              "#fdca26"
             ],
             [
              1,
              "#f0f921"
             ]
            ],
            "type": "contour"
           }
          ],
          "contourcarpet": [
           {
            "colorbar": {
             "outlinewidth": 0,
             "ticks": ""
            },
            "type": "contourcarpet"
           }
          ],
          "heatmap": [
           {
            "colorbar": {
             "outlinewidth": 0,
             "ticks": ""
            },
            "colorscale": [
             [
              0,
              "#0d0887"
             ],
             [
              0.1111111111111111,
              "#46039f"
             ],
             [
              0.2222222222222222,
              "#7201a8"
             ],
             [
              0.3333333333333333,
              "#9c179e"
             ],
             [
              0.4444444444444444,
              "#bd3786"
             ],
             [
              0.5555555555555556,
              "#d8576b"
             ],
             [
              0.6666666666666666,
              "#ed7953"
             ],
             [
              0.7777777777777778,
              "#fb9f3a"
             ],
             [
              0.8888888888888888,
              "#fdca26"
             ],
             [
              1,
              "#f0f921"
             ]
            ],
            "type": "heatmap"
           }
          ],
          "heatmapgl": [
           {
            "colorbar": {
             "outlinewidth": 0,
             "ticks": ""
            },
            "colorscale": [
             [
              0,
              "#0d0887"
             ],
             [
              0.1111111111111111,
              "#46039f"
             ],
             [
              0.2222222222222222,
              "#7201a8"
             ],
             [
              0.3333333333333333,
              "#9c179e"
             ],
             [
              0.4444444444444444,
              "#bd3786"
             ],
             [
              0.5555555555555556,
              "#d8576b"
             ],
             [
              0.6666666666666666,
              "#ed7953"
             ],
             [
              0.7777777777777778,
              "#fb9f3a"
             ],
             [
              0.8888888888888888,
              "#fdca26"
             ],
             [
              1,
              "#f0f921"
             ]
            ],
            "type": "heatmapgl"
           }
          ],
          "histogram": [
           {
            "marker": {
             "pattern": {
              "fillmode": "overlay",
              "size": 10,
              "solidity": 0.2
             }
            },
            "type": "histogram"
           }
          ],
          "histogram2d": [
           {
            "colorbar": {
             "outlinewidth": 0,
             "ticks": ""
            },
            "colorscale": [
             [
              0,
              "#0d0887"
             ],
             [
              0.1111111111111111,
              "#46039f"
             ],
             [
              0.2222222222222222,
              "#7201a8"
             ],
             [
              0.3333333333333333,
              "#9c179e"
             ],
             [
              0.4444444444444444,
              "#bd3786"
             ],
             [
              0.5555555555555556,
              "#d8576b"
             ],
             [
              0.6666666666666666,
              "#ed7953"
             ],
             [
              0.7777777777777778,
              "#fb9f3a"
             ],
             [
              0.8888888888888888,
              "#fdca26"
             ],
             [
              1,
              "#f0f921"
             ]
            ],
            "type": "histogram2d"
           }
          ],
          "histogram2dcontour": [
           {
            "colorbar": {
             "outlinewidth": 0,
             "ticks": ""
            },
            "colorscale": [
             [
              0,
              "#0d0887"
             ],
             [
              0.1111111111111111,
              "#46039f"
             ],
             [
              0.2222222222222222,
              "#7201a8"
             ],
             [
              0.3333333333333333,
              "#9c179e"
             ],
             [
              0.4444444444444444,
              "#bd3786"
             ],
             [
              0.5555555555555556,
              "#d8576b"
             ],
             [
              0.6666666666666666,
              "#ed7953"
             ],
             [
              0.7777777777777778,
              "#fb9f3a"
             ],
             [
              0.8888888888888888,
              "#fdca26"
             ],
             [
              1,
              "#f0f921"
             ]
            ],
            "type": "histogram2dcontour"
           }
          ],
          "mesh3d": [
           {
            "colorbar": {
             "outlinewidth": 0,
             "ticks": ""
            },
            "type": "mesh3d"
           }
          ],
          "parcoords": [
           {
            "line": {
             "colorbar": {
              "outlinewidth": 0,
              "ticks": ""
             }
            },
            "type": "parcoords"
           }
          ],
          "pie": [
           {
            "automargin": true,
            "type": "pie"
           }
          ],
          "scatter": [
           {
            "fillpattern": {
             "fillmode": "overlay",
             "size": 10,
             "solidity": 0.2
            },
            "type": "scatter"
           }
          ],
          "scatter3d": [
           {
            "line": {
             "colorbar": {
              "outlinewidth": 0,
              "ticks": ""
             }
            },
            "marker": {
             "colorbar": {
              "outlinewidth": 0,
              "ticks": ""
             }
            },
            "type": "scatter3d"
           }
          ],
          "scattercarpet": [
           {
            "marker": {
             "colorbar": {
              "outlinewidth": 0,
              "ticks": ""
             }
            },
            "type": "scattercarpet"
           }
          ],
          "scattergeo": [
           {
            "marker": {
             "colorbar": {
              "outlinewidth": 0,
              "ticks": ""
             }
            },
            "type": "scattergeo"
           }
          ],
          "scattergl": [
           {
            "marker": {
             "colorbar": {
              "outlinewidth": 0,
              "ticks": ""
             }
            },
            "type": "scattergl"
           }
          ],
          "scattermapbox": [
           {
            "marker": {
             "colorbar": {
              "outlinewidth": 0,
              "ticks": ""
             }
            },
            "type": "scattermapbox"
           }
          ],
          "scatterpolar": [
           {
            "marker": {
             "colorbar": {
              "outlinewidth": 0,
              "ticks": ""
             }
            },
            "type": "scatterpolar"
           }
          ],
          "scatterpolargl": [
           {
            "marker": {
             "colorbar": {
              "outlinewidth": 0,
              "ticks": ""
             }
            },
            "type": "scatterpolargl"
           }
          ],
          "scatterternary": [
           {
            "marker": {
             "colorbar": {
              "outlinewidth": 0,
              "ticks": ""
             }
            },
            "type": "scatterternary"
           }
          ],
          "surface": [
           {
            "colorbar": {
             "outlinewidth": 0,
             "ticks": ""
            },
            "colorscale": [
             [
              0,
              "#0d0887"
             ],
             [
              0.1111111111111111,
              "#46039f"
             ],
             [
              0.2222222222222222,
              "#7201a8"
             ],
             [
              0.3333333333333333,
              "#9c179e"
             ],
             [
              0.4444444444444444,
              "#bd3786"
             ],
             [
              0.5555555555555556,
              "#d8576b"
             ],
             [
              0.6666666666666666,
              "#ed7953"
             ],
             [
              0.7777777777777778,
              "#fb9f3a"
             ],
             [
              0.8888888888888888,
              "#fdca26"
             ],
             [
              1,
              "#f0f921"
             ]
            ],
            "type": "surface"
           }
          ],
          "table": [
           {
            "cells": {
             "fill": {
              "color": "#EBF0F8"
             },
             "line": {
              "color": "white"
             }
            },
            "header": {
             "fill": {
              "color": "#C8D4E3"
             },
             "line": {
              "color": "white"
             }
            },
            "type": "table"
           }
          ]
         },
         "layout": {
          "annotationdefaults": {
           "arrowcolor": "#2a3f5f",
           "arrowhead": 0,
           "arrowwidth": 1
          },
          "autotypenumbers": "strict",
          "coloraxis": {
           "colorbar": {
            "outlinewidth": 0,
            "ticks": ""
           }
          },
          "colorscale": {
           "diverging": [
            [
             0,
             "#8e0152"
            ],
            [
             0.1,
             "#c51b7d"
            ],
            [
             0.2,
             "#de77ae"
            ],
            [
             0.3,
             "#f1b6da"
            ],
            [
             0.4,
             "#fde0ef"
            ],
            [
             0.5,
             "#f7f7f7"
            ],
            [
             0.6,
             "#e6f5d0"
            ],
            [
             0.7,
             "#b8e186"
            ],
            [
             0.8,
             "#7fbc41"
            ],
            [
             0.9,
             "#4d9221"
            ],
            [
             1,
             "#276419"
            ]
           ],
           "sequential": [
            [
             0,
             "#0d0887"
            ],
            [
             0.1111111111111111,
             "#46039f"
            ],
            [
             0.2222222222222222,
             "#7201a8"
            ],
            [
             0.3333333333333333,
             "#9c179e"
            ],
            [
             0.4444444444444444,
             "#bd3786"
            ],
            [
             0.5555555555555556,
             "#d8576b"
            ],
            [
             0.6666666666666666,
             "#ed7953"
            ],
            [
             0.7777777777777778,
             "#fb9f3a"
            ],
            [
             0.8888888888888888,
             "#fdca26"
            ],
            [
             1,
             "#f0f921"
            ]
           ],
           "sequentialminus": [
            [
             0,
             "#0d0887"
            ],
            [
             0.1111111111111111,
             "#46039f"
            ],
            [
             0.2222222222222222,
             "#7201a8"
            ],
            [
             0.3333333333333333,
             "#9c179e"
            ],
            [
             0.4444444444444444,
             "#bd3786"
            ],
            [
             0.5555555555555556,
             "#d8576b"
            ],
            [
             0.6666666666666666,
             "#ed7953"
            ],
            [
             0.7777777777777778,
             "#fb9f3a"
            ],
            [
             0.8888888888888888,
             "#fdca26"
            ],
            [
             1,
             "#f0f921"
            ]
           ]
          },
          "colorway": [
           "#636efa",
           "#EF553B",
           "#00cc96",
           "#ab63fa",
           "#FFA15A",
           "#19d3f3",
           "#FF6692",
           "#B6E880",
           "#FF97FF",
           "#FECB52"
          ],
          "font": {
           "color": "#2a3f5f"
          },
          "geo": {
           "bgcolor": "white",
           "lakecolor": "white",
           "landcolor": "white",
           "showlakes": true,
           "showland": true,
           "subunitcolor": "#C8D4E3"
          },
          "hoverlabel": {
           "align": "left"
          },
          "hovermode": "closest",
          "mapbox": {
           "style": "light"
          },
          "paper_bgcolor": "white",
          "plot_bgcolor": "white",
          "polar": {
           "angularaxis": {
            "gridcolor": "#EBF0F8",
            "linecolor": "#EBF0F8",
            "ticks": ""
           },
           "bgcolor": "white",
           "radialaxis": {
            "gridcolor": "#EBF0F8",
            "linecolor": "#EBF0F8",
            "ticks": ""
           }
          },
          "scene": {
           "xaxis": {
            "backgroundcolor": "white",
            "gridcolor": "#DFE8F3",
            "gridwidth": 2,
            "linecolor": "#EBF0F8",
            "showbackground": true,
            "ticks": "",
            "zerolinecolor": "#EBF0F8"
           },
           "yaxis": {
            "backgroundcolor": "white",
            "gridcolor": "#DFE8F3",
            "gridwidth": 2,
            "linecolor": "#EBF0F8",
            "showbackground": true,
            "ticks": "",
            "zerolinecolor": "#EBF0F8"
           },
           "zaxis": {
            "backgroundcolor": "white",
            "gridcolor": "#DFE8F3",
            "gridwidth": 2,
            "linecolor": "#EBF0F8",
            "showbackground": true,
            "ticks": "",
            "zerolinecolor": "#EBF0F8"
           }
          },
          "shapedefaults": {
           "line": {
            "color": "#2a3f5f"
           }
          },
          "ternary": {
           "aaxis": {
            "gridcolor": "#DFE8F3",
            "linecolor": "#A2B1C6",
            "ticks": ""
           },
           "baxis": {
            "gridcolor": "#DFE8F3",
            "linecolor": "#A2B1C6",
            "ticks": ""
           },
           "bgcolor": "white",
           "caxis": {
            "gridcolor": "#DFE8F3",
            "linecolor": "#A2B1C6",
            "ticks": ""
           }
          },
          "title": {
           "x": 0.05
          },
          "xaxis": {
           "automargin": true,
           "gridcolor": "#EBF0F8",
           "linecolor": "#EBF0F8",
           "ticks": "",
           "title": {
            "standoff": 15
           },
           "zerolinecolor": "#EBF0F8",
           "zerolinewidth": 2
          },
          "yaxis": {
           "automargin": true,
           "gridcolor": "#EBF0F8",
           "linecolor": "#EBF0F8",
           "ticks": "",
           "title": {
            "standoff": 15
           },
           "zerolinecolor": "#EBF0F8",
           "zerolinewidth": 2
          }
         }
        },
        "title": {
         "text": "Population Density (p/km²)"
        },
        "xaxis": {
         "anchor": "y",
         "domain": [
          0,
          1
         ],
         "title": {
          "text": "Population Density"
         }
        },
        "yaxis": {
         "anchor": "x",
         "domain": [
          0,
          1
         ],
         "title": {
          "text": "District"
         }
        }
       }
      },
      "text/html": [
       "<div>                            <div id=\"f60a2170-82ff-42b4-8af8-dff59d678bb2\" class=\"plotly-graph-div\" style=\"height:525px; width:100%;\"></div>            <script type=\"text/javascript\">                require([\"plotly\"], function(Plotly) {                    window.PLOTLYENV=window.PLOTLYENV || {};                                    if (document.getElementById(\"f60a2170-82ff-42b4-8af8-dff59d678bb2\")) {                    Plotly.newPlot(                        \"f60a2170-82ff-42b4-8af8-dff59d678bb2\",                        [{\"alignmentgroup\":\"True\",\"hovertemplate\":\"variable=cze_men_2020\\u003cbr\\u003evalue=%{x}\\u003cbr\\u003ename=%{y}\\u003cextra\\u003e\\u003c\\u002fextra\\u003e\",\"legendgroup\":\"cze_men_2020\",\"marker\":{\"color\":\"#636efa\",\"pattern\":{\"shape\":\"\"}},\"name\":\"cze_men_2020\",\"offsetgroup\":\"cze_men_2020\",\"orientation\":\"h\",\"showlegend\":true,\"textposition\":\"auto\",\"x\":[84.8584723784404,65.5327553741365,105.32531591249233,145.09573247860564,179.71810470510283,295.3235617538767,421.8061074650133,612.3975730660271,338.0117915913804,317.9502095416744,352.53375031657026,419.53802182077806,423.78391073669576,449.2826311841144,298.0255829204999,605.2297168602597,298.8299002744504,390.411975165586,341.30539631004956,346.4790181464597,293.621186924314,245.634168486288,286.8592204858573,313.372146189336,273.8291288720247,490.459074905695,411.1436878499545,258.08734578901533,512.2174775846115,344.7284852912753,296.35074887331183,493.0319813709076,931.0726846401881,641.9605207954988,631.413804059859,708.6661587258336,435.1017203105186,433.60610875805116,576.6159231578963,307.3712120598583,1237.3150645161625,748.6547191500886,547.5442633292225,1134.4041948832448,700.0573125910217,523.2471031802054,1104.3037209494378,770.203646119134,479.36796559131994,640.4194222594006,722.6092396364387,437.28421487211523,749.7886868687126,626.5742948902314,1051.582633857623,866.4662973748646,518.494927538878],\"xaxis\":\"x\",\"y\":[\"Praha-Nedv\\u011bz\\u00ed\",\"Praha-Kr\\u00e1lovice\",\"Praha-P\\u0159edn\\u00ed Kopanina\",\"Praha-Lochkov\",\"Praha-Benice\",\"Praha-K\\u0159eslice\",\"Praha-Lysolaje\",\"Praha-Petrovice\",\"Praha-B\\u0159ezin\\u011bves\",\"Praha-Kolod\\u011bje\",\"Praha-\\u00dajezd\",\"Praha-Troja\",\"Praha-Satalice\",\"Praha-Nebu\\u0161ice\",\"Praha-Vino\\u0159\",\"Praha-\\u0160t\\u011brboholy\",\"Praha-Kolovraty\",\"Praha-\\u0160eberov\",\"Praha-Doln\\u00ed Po\\u010dernice\",\"Praha-Velk\\u00e1 Chuchle\",\"Praha-Zli\\u010d\\u00edn\",\"Praha-Dube\\u010d\",\"Praha-\\u010e\\u00e1blice\",\"Praha-B\\u011bchovice\",\"Praha-Lipence\",\"Praha-Doln\\u00ed M\\u011bcholupy\",\"Praha-Kl\\u00e1novice\",\"Praha-\\u0158eporyje\",\"Praha-Doln\\u00ed Chabry\",\"Praha-Slivenec\",\"Praha 16\",\"Praha 19\",\"Praha 17\",\"Praha-Suchdol\",\"Praha 18\",\"Praha-Libu\\u0161\",\"Praha-Zbraslav\",\"Praha-\\u010cakovice\",\"Praha-Kunratice\",\"Praha 22\",\"Praha 2\",\"Praha 7\",\"Praha 21\",\"Praha 1\",\"Praha 11\",\"Praha 13\",\"Praha 3\",\"Praha 15\",\"Praha 20\",\"Praha 14\",\"Praha 9\",\"Praha 12\",\"Praha 8\",\"Praha 5\",\"Praha 10\",\"Praha 4\",\"Praha 6\"],\"yaxis\":\"y\",\"type\":\"bar\"},{\"alignmentgroup\":\"True\",\"hovertemplate\":\"variable=cze_women_2020\\u003cbr\\u003evalue=%{x}\\u003cbr\\u003ename=%{y}\\u003cextra\\u003e\\u003c\\u002fextra\\u003e\",\"legendgroup\":\"cze_women_2020\",\"marker\":{\"color\":\"#EF553B\",\"pattern\":{\"shape\":\"\"}},\"name\":\"cze_women_2020\",\"offsetgroup\":\"cze_women_2020\",\"orientation\":\"h\",\"showlegend\":true,\"textposition\":\"auto\",\"x\":[90.60974991815567,69.94601590123845,112.48944837909384,154.83983203645533,191.63970369051597,315.2924869070919,450.07060816231416,653.5477308635933,360.8537099304097,339.25671753859484,376.5270255043077,447.7350782771644,452.27449573765455,479.5927116050492,318.10872362788416,646.0598079013145,318.8706536460603,415.29319568746644,364.2737468793422,369.83406695093953,313.3570417381568,262.17922669163147,306.18740485645776,334.4204292955866,291.96384094738715,523.4809584688402,438.8094313314468,275.36271541822344,546.656420101962,367.92089444068836,316.2854539026277,526.2023287414274,993.6935023682007,685.2009699946468,673.884597804127,756.3109010283955,464.220551037239,462.7767811905506,615.4109038236188,328.0177173164808,1320.6697821925975,799.0912608154446,584.4263249837429,1210.7454453063203,747.2057508727544,558.4659589504791,1178.6868731377417,822.0334421589168,511.6433994944467,683.5523811139835,771.26573267818,466.68251665501356,800.2528731962984,668.7648706161558,1122.3769442986484,924.7994325668437,553.3909562846611],\"xaxis\":\"x\",\"y\":[\"Praha-Nedv\\u011bz\\u00ed\",\"Praha-Kr\\u00e1lovice\",\"Praha-P\\u0159edn\\u00ed Kopanina\",\"Praha-Lochkov\",\"Praha-Benice\",\"Praha-K\\u0159eslice\",\"Praha-Lysolaje\",\"Praha-Petrovice\",\"Praha-B\\u0159ezin\\u011bves\",\"Praha-Kolod\\u011bje\",\"Praha-\\u00dajezd\",\"Praha-Troja\",\"Praha-Satalice\",\"Praha-Nebu\\u0161ice\",\"Praha-Vino\\u0159\",\"Praha-\\u0160t\\u011brboholy\",\"Praha-Kolovraty\",\"Praha-\\u0160eberov\",\"Praha-Doln\\u00ed Po\\u010dernice\",\"Praha-Velk\\u00e1 Chuchle\",\"Praha-Zli\\u010d\\u00edn\",\"Praha-Dube\\u010d\",\"Praha-\\u010e\\u00e1blice\",\"Praha-B\\u011bchovice\",\"Praha-Lipence\",\"Praha-Doln\\u00ed M\\u011bcholupy\",\"Praha-Kl\\u00e1novice\",\"Praha-\\u0158eporyje\",\"Praha-Doln\\u00ed Chabry\",\"Praha-Slivenec\",\"Praha 16\",\"Praha 19\",\"Praha 17\",\"Praha-Suchdol\",\"Praha 18\",\"Praha-Libu\\u0161\",\"Praha-Zbraslav\",\"Praha-\\u010cakovice\",\"Praha-Kunratice\",\"Praha 22\",\"Praha 2\",\"Praha 7\",\"Praha 21\",\"Praha 1\",\"Praha 11\",\"Praha 13\",\"Praha 3\",\"Praha 15\",\"Praha 20\",\"Praha 14\",\"Praha 9\",\"Praha 12\",\"Praha 8\",\"Praha 5\",\"Praha 10\",\"Praha 4\",\"Praha 6\"],\"yaxis\":\"y\",\"type\":\"bar\"},{\"alignmentgroup\":\"True\",\"hovertemplate\":\"variable=cze_elderly_60_plus_2020\\u003cbr\\u003evalue=%{x}\\u003cbr\\u003ename=%{y}\\u003cextra\\u003e\\u003c\\u002fextra\\u003e\",\"legendgroup\":\"cze_elderly_60_plus_2020\",\"marker\":{\"color\":\"#00cc96\",\"pattern\":{\"shape\":\"\"}},\"name\":\"cze_elderly_60_plus_2020\",\"offsetgroup\":\"cze_elderly_60_plus_2020\",\"orientation\":\"h\",\"showlegend\":true,\"textposition\":\"auto\",\"x\":[39.71636942520357,30.64301649006637,49.39480805919986,68.05644534935647,84.04727284716252,138.33893931444325,197.51898134349068,286.8952012740429,158.4354335856075,148.9259012568257,165.1630105946578,196.6470041179149,198.56746124242414,210.60472853365383,139.6909241011911,283.727469377125,139.96716640489478,176.56573765693238,159.9913765512098,162.38628051114804,137.28789966713956,115.09605708065037,134.46177830152612,146.85549960951369,128.2490856742394,229.91375767691153,192.6821225301911,120.67721972867135,240.00153003120047,161.58467219591049,138.8309814541641,231.02735740913673,436.3175194733189,300.8414215577759,295.9018686776802,332.01195216478453,203.87383360179973,203.22638595089828,269.98243781711346,144.0232530577198,579.9360144722194,350.9083209536736,256.5902901669658,531.635705918981,328.0991501179608,245.15576512203057,517.566873474345,360.95750813420227,224.66424021122296,300.13477368114883,338.6776492778292,204.83005074445452,351.3991395867392,293.6542062345806,492.8330512004732,406.07983349058094,242.93423931173976],\"xaxis\":\"x\",\"y\":[\"Praha-Nedv\\u011bz\\u00ed\",\"Praha-Kr\\u00e1lovice\",\"Praha-P\\u0159edn\\u00ed Kopanina\",\"Praha-Lochkov\",\"Praha-Benice\",\"Praha-K\\u0159eslice\",\"Praha-Lysolaje\",\"Praha-Petrovice\",\"Praha-B\\u0159ezin\\u011bves\",\"Praha-Kolod\\u011bje\",\"Praha-\\u00dajezd\",\"Praha-Troja\",\"Praha-Satalice\",\"Praha-Nebu\\u0161ice\",\"Praha-Vino\\u0159\",\"Praha-\\u0160t\\u011brboholy\",\"Praha-Kolovraty\",\"Praha-\\u0160eberov\",\"Praha-Doln\\u00ed Po\\u010dernice\",\"Praha-Velk\\u00e1 Chuchle\",\"Praha-Zli\\u010d\\u00edn\",\"Praha-Dube\\u010d\",\"Praha-\\u010e\\u00e1blice\",\"Praha-B\\u011bchovice\",\"Praha-Lipence\",\"Praha-Doln\\u00ed M\\u011bcholupy\",\"Praha-Kl\\u00e1novice\",\"Praha-\\u0158eporyje\",\"Praha-Doln\\u00ed Chabry\",\"Praha-Slivenec\",\"Praha 16\",\"Praha 19\",\"Praha 17\",\"Praha-Suchdol\",\"Praha 18\",\"Praha-Libu\\u0161\",\"Praha-Zbraslav\",\"Praha-\\u010cakovice\",\"Praha-Kunratice\",\"Praha 22\",\"Praha 2\",\"Praha 7\",\"Praha 21\",\"Praha 1\",\"Praha 11\",\"Praha 13\",\"Praha 3\",\"Praha 15\",\"Praha 20\",\"Praha 14\",\"Praha 9\",\"Praha 12\",\"Praha 8\",\"Praha 5\",\"Praha 10\",\"Praha 4\",\"Praha 6\"],\"yaxis\":\"y\",\"type\":\"bar\"},{\"alignmentgroup\":\"True\",\"hovertemplate\":\"variable=cze_youth_15_24_2020\\u003cbr\\u003evalue=%{x}\\u003cbr\\u003ename=%{y}\\u003cextra\\u003e\\u003c\\u002fextra\\u003e\",\"legendgroup\":\"cze_youth_15_24_2020\",\"marker\":{\"color\":\"#ab63fa\",\"pattern\":{\"shape\":\"\"}},\"name\":\"cze_youth_15_24_2020\",\"offsetgroup\":\"cze_youth_15_24_2020\",\"orientation\":\"h\",\"showlegend\":true,\"textposition\":\"auto\",\"x\":[19.858184712601783,15.404777311582277,24.76024729685082,34.104348452473936,42.172656410898924,69.16946965722163,98.92575244055298,143.5631909679135,79.21771679280376,74.57277798922173,82.5815052973289,98.38453464868988,99.33789523148006,105.35828692443012,69.91400519294157,141.93317361890442,70.04720464172235,91.17603400542905,80.06724076959024,81.2618315755872,68.81656663952177,57.595985230775455,67.28658997027487,73.51821520492697,64.09942550737543,115.00114409792378,96.41092425368517,60.5889775401213,120.12434973755245,80.84677837295386,69.50448494596291,115.61647936790675,218.41228531450565,150.54082313777445,148.0976382895975,166.2430146013105,102.02095383041421,101.67371304273648,135.22092603091954,72.09093448759212,290.1650633062668,175.5702399743405,128.39669261006472,266.0782763283801,164.17609144077394,122.6717161021439,259.0059504402999,180.6397161666036,112.42933526797029,150.18914536945113,169.47801994640844,102.53034761820724,175.84116403110133,146.95458974852755,246.63824282679792,203.21906208589175,121.59596043226726],\"xaxis\":\"x\",\"y\":[\"Praha-Nedv\\u011bz\\u00ed\",\"Praha-Kr\\u00e1lovice\",\"Praha-P\\u0159edn\\u00ed Kopanina\",\"Praha-Lochkov\",\"Praha-Benice\",\"Praha-K\\u0159eslice\",\"Praha-Lysolaje\",\"Praha-Petrovice\",\"Praha-B\\u0159ezin\\u011bves\",\"Praha-Kolod\\u011bje\",\"Praha-\\u00dajezd\",\"Praha-Troja\",\"Praha-Satalice\",\"Praha-Nebu\\u0161ice\",\"Praha-Vino\\u0159\",\"Praha-\\u0160t\\u011brboholy\",\"Praha-Kolovraty\",\"Praha-\\u0160eberov\",\"Praha-Doln\\u00ed Po\\u010dernice\",\"Praha-Velk\\u00e1 Chuchle\",\"Praha-Zli\\u010d\\u00edn\",\"Praha-Dube\\u010d\",\"Praha-\\u010e\\u00e1blice\",\"Praha-B\\u011bchovice\",\"Praha-Lipence\",\"Praha-Doln\\u00ed M\\u011bcholupy\",\"Praha-Kl\\u00e1novice\",\"Praha-\\u0158eporyje\",\"Praha-Doln\\u00ed Chabry\",\"Praha-Slivenec\",\"Praha 16\",\"Praha 19\",\"Praha 17\",\"Praha-Suchdol\",\"Praha 18\",\"Praha-Libu\\u0161\",\"Praha-Zbraslav\",\"Praha-\\u010cakovice\",\"Praha-Kunratice\",\"Praha 22\",\"Praha 2\",\"Praha 7\",\"Praha 21\",\"Praha 1\",\"Praha 11\",\"Praha 13\",\"Praha 3\",\"Praha 15\",\"Praha 20\",\"Praha 14\",\"Praha 9\",\"Praha 12\",\"Praha 8\",\"Praha 5\",\"Praha 10\",\"Praha 4\",\"Praha 6\"],\"yaxis\":\"y\",\"type\":\"bar\"},{\"alignmentgroup\":\"True\",\"hovertemplate\":\"variable=cze_children_under_five_2020\\u003cbr\\u003evalue=%{x}\\u003cbr\\u003ename=%{y}\\u003cextra\\u003e\\u003c\\u002fextra\\u003e\",\"legendgroup\":\"cze_children_under_five_2020\",\"marker\":{\"color\":\"#FFA15A\",\"pattern\":{\"shape\":\"\"}},\"name\":\"cze_children_under_five_2020\",\"offsetgroup\":\"cze_children_under_five_2020\",\"orientation\":\"h\",\"showlegend\":true,\"textposition\":\"auto\",\"x\":[9.440776338777896,7.244408789771126,11.563161174163836,15.986413337097158,19.819658313249317,32.4795770564345,46.553295266142584,67.50475324095127,37.30036664937232,35.034928098029056,38.83562681550062,46.14063783772305,46.689894051000984,49.43562932122942,32.83216518374413,66.66137312825256,32.95590554442523,45.2160386228193,37.56505934230105,38.123682607312674,32.50949845428912,27.047573413952836,31.58236466320021,34.497472598210194,30.191030352611783,54.00361655098808,45.271216606078255,28.416731201668462,56.4370230248446,37.94626567403962,32.66087832928091,54.27875024266873,102.55109623878994,70.70614193119938,69.53767265900863,77.98567272409385,47.90110682317636,47.73015973395129,63.55230385371644,33.838062392415814,136.16574447852653,82.4164432276243,60.27861177897376,124.85440371337302,77.0484765122769,57.64507210001306,121.55605725131403,84.78678591290571,52.76352937024719,70.49818821962887,79.55785130537735,48.1869569356378,82.54000098174522,68.9777667129494,115.75856398765839,95.39062850492996,57.106196430900965],\"xaxis\":\"x\",\"y\":[\"Praha-Nedv\\u011bz\\u00ed\",\"Praha-Kr\\u00e1lovice\",\"Praha-P\\u0159edn\\u00ed Kopanina\",\"Praha-Lochkov\",\"Praha-Benice\",\"Praha-K\\u0159eslice\",\"Praha-Lysolaje\",\"Praha-Petrovice\",\"Praha-B\\u0159ezin\\u011bves\",\"Praha-Kolod\\u011bje\",\"Praha-\\u00dajezd\",\"Praha-Troja\",\"Praha-Satalice\",\"Praha-Nebu\\u0161ice\",\"Praha-Vino\\u0159\",\"Praha-\\u0160t\\u011brboholy\",\"Praha-Kolovraty\",\"Praha-\\u0160eberov\",\"Praha-Doln\\u00ed Po\\u010dernice\",\"Praha-Velk\\u00e1 Chuchle\",\"Praha-Zli\\u010d\\u00edn\",\"Praha-Dube\\u010d\",\"Praha-\\u010e\\u00e1blice\",\"Praha-B\\u011bchovice\",\"Praha-Lipence\",\"Praha-Doln\\u00ed M\\u011bcholupy\",\"Praha-Kl\\u00e1novice\",\"Praha-\\u0158eporyje\",\"Praha-Doln\\u00ed Chabry\",\"Praha-Slivenec\",\"Praha 16\",\"Praha 19\",\"Praha 17\",\"Praha-Suchdol\",\"Praha 18\",\"Praha-Libu\\u0161\",\"Praha-Zbraslav\",\"Praha-\\u010cakovice\",\"Praha-Kunratice\",\"Praha 22\",\"Praha 2\",\"Praha 7\",\"Praha 21\",\"Praha 1\",\"Praha 11\",\"Praha 13\",\"Praha 3\",\"Praha 15\",\"Praha 20\",\"Praha 14\",\"Praha 9\",\"Praha 12\",\"Praha 8\",\"Praha 5\",\"Praha 10\",\"Praha 4\",\"Praha 6\"],\"yaxis\":\"y\",\"type\":\"bar\"}],                        {\"template\":{\"data\":{\"barpolar\":[{\"marker\":{\"line\":{\"color\":\"white\",\"width\":0.5},\"pattern\":{\"fillmode\":\"overlay\",\"size\":10,\"solidity\":0.2}},\"type\":\"barpolar\"}],\"bar\":[{\"error_x\":{\"color\":\"#2a3f5f\"},\"error_y\":{\"color\":\"#2a3f5f\"},\"marker\":{\"line\":{\"color\":\"white\",\"width\":0.5},\"pattern\":{\"fillmode\":\"overlay\",\"size\":10,\"solidity\":0.2}},\"type\":\"bar\"}],\"carpet\":[{\"aaxis\":{\"endlinecolor\":\"#2a3f5f\",\"gridcolor\":\"#C8D4E3\",\"linecolor\":\"#C8D4E3\",\"minorgridcolor\":\"#C8D4E3\",\"startlinecolor\":\"#2a3f5f\"},\"baxis\":{\"endlinecolor\":\"#2a3f5f\",\"gridcolor\":\"#C8D4E3\",\"linecolor\":\"#C8D4E3\",\"minorgridcolor\":\"#C8D4E3\",\"startlinecolor\":\"#2a3f5f\"},\"type\":\"carpet\"}],\"choropleth\":[{\"colorbar\":{\"outlinewidth\":0,\"ticks\":\"\"},\"type\":\"choropleth\"}],\"contourcarpet\":[{\"colorbar\":{\"outlinewidth\":0,\"ticks\":\"\"},\"type\":\"contourcarpet\"}],\"contour\":[{\"colorbar\":{\"outlinewidth\":0,\"ticks\":\"\"},\"colorscale\":[[0.0,\"#0d0887\"],[0.1111111111111111,\"#46039f\"],[0.2222222222222222,\"#7201a8\"],[0.3333333333333333,\"#9c179e\"],[0.4444444444444444,\"#bd3786\"],[0.5555555555555556,\"#d8576b\"],[0.6666666666666666,\"#ed7953\"],[0.7777777777777778,\"#fb9f3a\"],[0.8888888888888888,\"#fdca26\"],[1.0,\"#f0f921\"]],\"type\":\"contour\"}],\"heatmapgl\":[{\"colorbar\":{\"outlinewidth\":0,\"ticks\":\"\"},\"colorscale\":[[0.0,\"#0d0887\"],[0.1111111111111111,\"#46039f\"],[0.2222222222222222,\"#7201a8\"],[0.3333333333333333,\"#9c179e\"],[0.4444444444444444,\"#bd3786\"],[0.5555555555555556,\"#d8576b\"],[0.6666666666666666,\"#ed7953\"],[0.7777777777777778,\"#fb9f3a\"],[0.8888888888888888,\"#fdca26\"],[1.0,\"#f0f921\"]],\"type\":\"heatmapgl\"}],\"heatmap\":[{\"colorbar\":{\"outlinewidth\":0,\"ticks\":\"\"},\"colorscale\":[[0.0,\"#0d0887\"],[0.1111111111111111,\"#46039f\"],[0.2222222222222222,\"#7201a8\"],[0.3333333333333333,\"#9c179e\"],[0.4444444444444444,\"#bd3786\"],[0.5555555555555556,\"#d8576b\"],[0.6666666666666666,\"#ed7953\"],[0.7777777777777778,\"#fb9f3a\"],[0.8888888888888888,\"#fdca26\"],[1.0,\"#f0f921\"]],\"type\":\"heatmap\"}],\"histogram2dcontour\":[{\"colorbar\":{\"outlinewidth\":0,\"ticks\":\"\"},\"colorscale\":[[0.0,\"#0d0887\"],[0.1111111111111111,\"#46039f\"],[0.2222222222222222,\"#7201a8\"],[0.3333333333333333,\"#9c179e\"],[0.4444444444444444,\"#bd3786\"],[0.5555555555555556,\"#d8576b\"],[0.6666666666666666,\"#ed7953\"],[0.7777777777777778,\"#fb9f3a\"],[0.8888888888888888,\"#fdca26\"],[1.0,\"#f0f921\"]],\"type\":\"histogram2dcontour\"}],\"histogram2d\":[{\"colorbar\":{\"outlinewidth\":0,\"ticks\":\"\"},\"colorscale\":[[0.0,\"#0d0887\"],[0.1111111111111111,\"#46039f\"],[0.2222222222222222,\"#7201a8\"],[0.3333333333333333,\"#9c179e\"],[0.4444444444444444,\"#bd3786\"],[0.5555555555555556,\"#d8576b\"],[0.6666666666666666,\"#ed7953\"],[0.7777777777777778,\"#fb9f3a\"],[0.8888888888888888,\"#fdca26\"],[1.0,\"#f0f921\"]],\"type\":\"histogram2d\"}],\"histogram\":[{\"marker\":{\"pattern\":{\"fillmode\":\"overlay\",\"size\":10,\"solidity\":0.2}},\"type\":\"histogram\"}],\"mesh3d\":[{\"colorbar\":{\"outlinewidth\":0,\"ticks\":\"\"},\"type\":\"mesh3d\"}],\"parcoords\":[{\"line\":{\"colorbar\":{\"outlinewidth\":0,\"ticks\":\"\"}},\"type\":\"parcoords\"}],\"pie\":[{\"automargin\":true,\"type\":\"pie\"}],\"scatter3d\":[{\"line\":{\"colorbar\":{\"outlinewidth\":0,\"ticks\":\"\"}},\"marker\":{\"colorbar\":{\"outlinewidth\":0,\"ticks\":\"\"}},\"type\":\"scatter3d\"}],\"scattercarpet\":[{\"marker\":{\"colorbar\":{\"outlinewidth\":0,\"ticks\":\"\"}},\"type\":\"scattercarpet\"}],\"scattergeo\":[{\"marker\":{\"colorbar\":{\"outlinewidth\":0,\"ticks\":\"\"}},\"type\":\"scattergeo\"}],\"scattergl\":[{\"marker\":{\"colorbar\":{\"outlinewidth\":0,\"ticks\":\"\"}},\"type\":\"scattergl\"}],\"scattermapbox\":[{\"marker\":{\"colorbar\":{\"outlinewidth\":0,\"ticks\":\"\"}},\"type\":\"scattermapbox\"}],\"scatterpolargl\":[{\"marker\":{\"colorbar\":{\"outlinewidth\":0,\"ticks\":\"\"}},\"type\":\"scatterpolargl\"}],\"scatterpolar\":[{\"marker\":{\"colorbar\":{\"outlinewidth\":0,\"ticks\":\"\"}},\"type\":\"scatterpolar\"}],\"scatter\":[{\"fillpattern\":{\"fillmode\":\"overlay\",\"size\":10,\"solidity\":0.2},\"type\":\"scatter\"}],\"scatterternary\":[{\"marker\":{\"colorbar\":{\"outlinewidth\":0,\"ticks\":\"\"}},\"type\":\"scatterternary\"}],\"surface\":[{\"colorbar\":{\"outlinewidth\":0,\"ticks\":\"\"},\"colorscale\":[[0.0,\"#0d0887\"],[0.1111111111111111,\"#46039f\"],[0.2222222222222222,\"#7201a8\"],[0.3333333333333333,\"#9c179e\"],[0.4444444444444444,\"#bd3786\"],[0.5555555555555556,\"#d8576b\"],[0.6666666666666666,\"#ed7953\"],[0.7777777777777778,\"#fb9f3a\"],[0.8888888888888888,\"#fdca26\"],[1.0,\"#f0f921\"]],\"type\":\"surface\"}],\"table\":[{\"cells\":{\"fill\":{\"color\":\"#EBF0F8\"},\"line\":{\"color\":\"white\"}},\"header\":{\"fill\":{\"color\":\"#C8D4E3\"},\"line\":{\"color\":\"white\"}},\"type\":\"table\"}]},\"layout\":{\"annotationdefaults\":{\"arrowcolor\":\"#2a3f5f\",\"arrowhead\":0,\"arrowwidth\":1},\"autotypenumbers\":\"strict\",\"coloraxis\":{\"colorbar\":{\"outlinewidth\":0,\"ticks\":\"\"}},\"colorscale\":{\"diverging\":[[0,\"#8e0152\"],[0.1,\"#c51b7d\"],[0.2,\"#de77ae\"],[0.3,\"#f1b6da\"],[0.4,\"#fde0ef\"],[0.5,\"#f7f7f7\"],[0.6,\"#e6f5d0\"],[0.7,\"#b8e186\"],[0.8,\"#7fbc41\"],[0.9,\"#4d9221\"],[1,\"#276419\"]],\"sequential\":[[0.0,\"#0d0887\"],[0.1111111111111111,\"#46039f\"],[0.2222222222222222,\"#7201a8\"],[0.3333333333333333,\"#9c179e\"],[0.4444444444444444,\"#bd3786\"],[0.5555555555555556,\"#d8576b\"],[0.6666666666666666,\"#ed7953\"],[0.7777777777777778,\"#fb9f3a\"],[0.8888888888888888,\"#fdca26\"],[1.0,\"#f0f921\"]],\"sequentialminus\":[[0.0,\"#0d0887\"],[0.1111111111111111,\"#46039f\"],[0.2222222222222222,\"#7201a8\"],[0.3333333333333333,\"#9c179e\"],[0.4444444444444444,\"#bd3786\"],[0.5555555555555556,\"#d8576b\"],[0.6666666666666666,\"#ed7953\"],[0.7777777777777778,\"#fb9f3a\"],[0.8888888888888888,\"#fdca26\"],[1.0,\"#f0f921\"]]},\"colorway\":[\"#636efa\",\"#EF553B\",\"#00cc96\",\"#ab63fa\",\"#FFA15A\",\"#19d3f3\",\"#FF6692\",\"#B6E880\",\"#FF97FF\",\"#FECB52\"],\"font\":{\"color\":\"#2a3f5f\"},\"geo\":{\"bgcolor\":\"white\",\"lakecolor\":\"white\",\"landcolor\":\"white\",\"showlakes\":true,\"showland\":true,\"subunitcolor\":\"#C8D4E3\"},\"hoverlabel\":{\"align\":\"left\"},\"hovermode\":\"closest\",\"mapbox\":{\"style\":\"light\"},\"paper_bgcolor\":\"white\",\"plot_bgcolor\":\"white\",\"polar\":{\"angularaxis\":{\"gridcolor\":\"#EBF0F8\",\"linecolor\":\"#EBF0F8\",\"ticks\":\"\"},\"bgcolor\":\"white\",\"radialaxis\":{\"gridcolor\":\"#EBF0F8\",\"linecolor\":\"#EBF0F8\",\"ticks\":\"\"}},\"scene\":{\"xaxis\":{\"backgroundcolor\":\"white\",\"gridcolor\":\"#DFE8F3\",\"gridwidth\":2,\"linecolor\":\"#EBF0F8\",\"showbackground\":true,\"ticks\":\"\",\"zerolinecolor\":\"#EBF0F8\"},\"yaxis\":{\"backgroundcolor\":\"white\",\"gridcolor\":\"#DFE8F3\",\"gridwidth\":2,\"linecolor\":\"#EBF0F8\",\"showbackground\":true,\"ticks\":\"\",\"zerolinecolor\":\"#EBF0F8\"},\"zaxis\":{\"backgroundcolor\":\"white\",\"gridcolor\":\"#DFE8F3\",\"gridwidth\":2,\"linecolor\":\"#EBF0F8\",\"showbackground\":true,\"ticks\":\"\",\"zerolinecolor\":\"#EBF0F8\"}},\"shapedefaults\":{\"line\":{\"color\":\"#2a3f5f\"}},\"ternary\":{\"aaxis\":{\"gridcolor\":\"#DFE8F3\",\"linecolor\":\"#A2B1C6\",\"ticks\":\"\"},\"baxis\":{\"gridcolor\":\"#DFE8F3\",\"linecolor\":\"#A2B1C6\",\"ticks\":\"\"},\"bgcolor\":\"white\",\"caxis\":{\"gridcolor\":\"#DFE8F3\",\"linecolor\":\"#A2B1C6\",\"ticks\":\"\"}},\"title\":{\"x\":0.05},\"xaxis\":{\"automargin\":true,\"gridcolor\":\"#EBF0F8\",\"linecolor\":\"#EBF0F8\",\"ticks\":\"\",\"title\":{\"standoff\":15},\"zerolinecolor\":\"#EBF0F8\",\"zerolinewidth\":2},\"yaxis\":{\"automargin\":true,\"gridcolor\":\"#EBF0F8\",\"linecolor\":\"#EBF0F8\",\"ticks\":\"\",\"title\":{\"standoff\":15},\"zerolinecolor\":\"#EBF0F8\",\"zerolinewidth\":2}}},\"xaxis\":{\"anchor\":\"y\",\"domain\":[0.0,1.0],\"title\":{\"text\":\"Population Density\"}},\"yaxis\":{\"anchor\":\"x\",\"domain\":[0.0,1.0],\"title\":{\"text\":\"District\"}},\"legend\":{\"title\":{\"text\":\"variable\"},\"tracegroupgap\":0},\"title\":{\"text\":\"Population Density (p\\u002fkm\\u00b2)\"},\"barmode\":\"relative\"},                        {\"responsive\": true}                    ).then(function(){\n",
       "                            \n",
       "var gd = document.getElementById('f60a2170-82ff-42b4-8af8-dff59d678bb2');\n",
       "var x = new MutationObserver(function (mutations, observer) {{\n",
       "        var display = window.getComputedStyle(gd).display;\n",
       "        if (!display || display === 'none') {{\n",
       "            console.log([gd, 'removed!']);\n",
       "            Plotly.purge(gd);\n",
       "            observer.disconnect();\n",
       "        }}\n",
       "}});\n",
       "\n",
       "// Listen for the removal of the full notebook cells\n",
       "var notebookContainer = gd.closest('#notebook-container');\n",
       "if (notebookContainer) {{\n",
       "    x.observe(notebookContainer, {childList: true});\n",
       "}}\n",
       "\n",
       "// Listen for the clearing of the current output cell\n",
       "var outputEl = gd.closest('.output');\n",
       "if (outputEl) {{\n",
       "    x.observe(outputEl, {childList: true});\n",
       "}}\n",
       "\n",
       "                        })                };                });            </script>        </div>"
      ]
     },
     "metadata": {},
     "output_type": "display_data"
    }
   ],
   "source": [
    "pop_figures = pop.loc[:, [c for c in pop.columns if c.startswith(\"cze\")]+[\"name\", \"area (km²)\"]]\n",
    "pop_figures.set_index(\"name\", inplace=True)\n",
    "pop_figures.sort_values(by=\"cze_general_2020\", ascending=True, inplace=True)\n",
    "\n",
    "fig = px.bar(pop_figures.drop([\"area (km²)\", \"cze_general_2020\"], axis=1), \n",
    "             orientation=\"h\",\n",
    "             template=\"plotly_white\",\n",
    "             title=\"Total Population (p)\")\n",
    "fig.update_layout(yaxis_title=\"District\",\n",
    "                  xaxis_title=\"Total Population\")\n",
    "fig.show()\n",
    "\n",
    "pop_density = (pop_figures.T / pop_figures[\"area (km²)\"]).T\n",
    "\n",
    "fig = px.bar(pop_density.drop([\"area (km²)\", \"cze_general_2020\"], axis=1),\n",
    "             orientation=\"h\",\n",
    "             template=\"plotly_white\",\n",
    "             title=\"Population Density (p/km²)\")\n",
    "fig.update_layout(yaxis_title=\"District\",\n",
    "                  xaxis_title=\"Population Density\")\n",
    "fig.show()"
   ]
  },
  {
   "cell_type": "code",
   "execution_count": 122,
   "metadata": {},
   "outputs": [
    {
     "data": {
      "text/plain": [
       "cze_general_2020                1.348192e+06\n",
       "cze_men_2020                    6.521620e+05\n",
       "cze_women_2020                  6.960310e+05\n",
       "cze_elderly_60_plus_2020        3.055230e+05\n",
       "cze_youth_15_24_2020            1.529390e+05\n",
       "cze_children_under_five_2020    7.183900e+04\n",
       "area (km²)                      1.203044e+03\n",
       "dtype: float64"
      ]
     },
     "execution_count": 122,
     "metadata": {},
     "output_type": "execute_result"
    }
   ],
   "source": [
    "pop_figures.sum()"
   ]
  },
  {
   "cell_type": "code",
   "execution_count": 127,
   "metadata": {},
   "outputs": [
    {
     "data": {
      "text/plain": [
       "cze_general_2020                1.348192e+06\n",
       "cze_men_2020                    6.521620e+05\n",
       "cze_women_2020                  6.960310e+05\n",
       "cze_elderly_60_plus_2020        3.055230e+05\n",
       "cze_youth_15_24_2020            1.529390e+05\n",
       "cze_children_under_five_2020    7.183900e+04\n",
       "area (km²)                      1.203044e+03\n",
       "dtype: float64"
      ]
     },
     "execution_count": 127,
     "metadata": {},
     "output_type": "execute_result"
    }
   ],
   "source": [
    "pop_figures.sum(axis=0)"
   ]
  },
  {
   "cell_type": "code",
   "execution_count": 144,
   "metadata": {},
   "outputs": [
    {
     "data": {
      "text/html": [
       "<div>\n",
       "<style scoped>\n",
       "    .dataframe tbody tr th:only-of-type {\n",
       "        vertical-align: middle;\n",
       "    }\n",
       "\n",
       "    .dataframe tbody tr th {\n",
       "        vertical-align: top;\n",
       "    }\n",
       "\n",
       "    .dataframe thead th {\n",
       "        text-align: right;\n",
       "    }\n",
       "</style>\n",
       "<table border=\"1\" class=\"dataframe\">\n",
       "  <thead>\n",
       "    <tr style=\"text-align: right;\">\n",
       "      <th></th>\n",
       "      <th>Filtered</th>\n",
       "      <th>Total</th>\n",
       "      <th>Ratio</th>\n",
       "    </tr>\n",
       "  </thead>\n",
       "  <tbody>\n",
       "    <tr>\n",
       "      <th>cze_general_2020</th>\n",
       "      <td>949925.0</td>\n",
       "      <td>1348192.0</td>\n",
       "      <td>0.704592</td>\n",
       "    </tr>\n",
       "    <tr>\n",
       "      <th>cze_men_2020</th>\n",
       "      <td>459507.0</td>\n",
       "      <td>652162.0</td>\n",
       "      <td>0.704590</td>\n",
       "    </tr>\n",
       "    <tr>\n",
       "      <th>cze_women_2020</th>\n",
       "      <td>490415.0</td>\n",
       "      <td>696031.0</td>\n",
       "      <td>0.704588</td>\n",
       "    </tr>\n",
       "    <tr>\n",
       "      <th>cze_elderly_60_plus_2020</th>\n",
       "      <td>215250.0</td>\n",
       "      <td>305523.0</td>\n",
       "      <td>0.704530</td>\n",
       "    </tr>\n",
       "    <tr>\n",
       "      <th>cze_youth_15_24_2020</th>\n",
       "      <td>107761.0</td>\n",
       "      <td>152939.0</td>\n",
       "      <td>0.704601</td>\n",
       "    </tr>\n",
       "    <tr>\n",
       "      <th>cze_children_under_five_2020</th>\n",
       "      <td>50622.0</td>\n",
       "      <td>71839.0</td>\n",
       "      <td>0.704659</td>\n",
       "    </tr>\n",
       "    <tr>\n",
       "      <th>area (km²)</th>\n",
       "      <td>792.0</td>\n",
       "      <td>1203.0</td>\n",
       "      <td>0.658354</td>\n",
       "    </tr>\n",
       "  </tbody>\n",
       "</table>\n",
       "</div>"
      ],
      "text/plain": [
       "                              Filtered      Total     Ratio\n",
       "cze_general_2020              949925.0  1348192.0  0.704592\n",
       "cze_men_2020                  459507.0   652162.0  0.704590\n",
       "cze_women_2020                490415.0   696031.0  0.704588\n",
       "cze_elderly_60_plus_2020      215250.0   305523.0  0.704530\n",
       "cze_youth_15_24_2020          107761.0   152939.0  0.704601\n",
       "cze_children_under_five_2020   50622.0    71839.0  0.704659\n",
       "area (km²)                       792.0     1203.0  0.658354"
      ]
     },
     "execution_count": 144,
     "metadata": {},
     "output_type": "execute_result"
    }
   ],
   "source": [
    "filtered_sum_df = round(pd.DataFrame(pop_figures.sample(40).sum().rename(\"Filtered\")))\n",
    "filtered_sum_df[\"Total\"] = round(pop_figures.sum())\n",
    "filtered_sum_df[\"Ratio\"] = filtered_sum_df[\"Filtered\"] / filtered_sum_df[\"Total\"]\n",
    "filtered_sum_df"
   ]
  },
  {
   "cell_type": "code",
   "execution_count": null,
   "metadata": {},
   "outputs": [],
   "source": []
  },
  {
   "cell_type": "code",
   "execution_count": 38,
   "metadata": {},
   "outputs": [],
   "source": [
    "pop.to_feather(\"../data/processed/prague_population_districts_meta2020.feather\")"
   ]
  },
  {
   "cell_type": "markdown",
   "metadata": {},
   "source": [
    "# Load LST"
   ]
  },
  {
   "cell_type": "code",
   "execution_count": 23,
   "metadata": {},
   "outputs": [
    {
     "data": {
      "text/plain": [
       "<matplotlib.collections.QuadMesh at 0x7efe40fd1a10>"
      ]
     },
     "execution_count": 23,
     "metadata": {},
     "output_type": "execute_result"
    },
    {
     "data": {
      "image/png": "[encoded data removed]",
      "text/plain": [
       "<Figure size 640x480 with 2 Axes>"
      ]
     },
     "metadata": {},
     "output_type": "display_data"
    }
   ],
   "source": [
    "data_path = \"../data/processed/Prague_LC08_L1TP_192025_20180817_20200831_02_T1/\"\n",
    "scene = [f for f in os.listdir(data_path)][0]\n",
    "xds = rxr.open_rasterio(data_path + scene, masked=True)\n",
    "xds.plot()"
   ]
  },
  {
   "cell_type": "code",
   "execution_count": 84,
   "metadata": {},
   "outputs": [],
   "source": [
    "lst_dict = {}\n",
    "for i, district in pop.iterrows():\n",
    "        # Clip the TIFF data using the district's geometry\n",
    "        clipped = xds.rio.clip([district.geometry], pop.crs, drop=True).squeeze()\n",
    "        # Convert the clipped xarray Dataset to a DataFrame\n",
    "        clipped_df = clipped.to_dataframe(name='lst').dropna().reset_index()\n",
    "        lst_dict[i] = clipped\n",
    "\n",
    "# Save the dictionary to a pickle file\n",
    "with open('../data/processed/lst_dict.pkl', 'wb') as file:\n",
    "    pickle.dump(lst_dict, file)"
   ]
  },
  {
   "cell_type": "code",
   "execution_count": 35,
   "metadata": {},
   "outputs": [
    {
     "data": {
      "text/plain": [
       "<matplotlib.collections.QuadMesh at 0x7efe402aaa90>"
      ]
     },
     "execution_count": 35,
     "metadata": {},
     "output_type": "execute_result"
    },
    {
     "data": {
      "image/png": "[encoded data removed]",
      "text/plain": [
       "<Figure size 640x480 with 2 Axes>"
      ]
     },
     "metadata": {},
     "output_type": "display_data"
    }
   ],
   "source": [
    "lst_test = lst_dict[i]\n",
    "threshold = 30\n",
    "lst_test.where((lst_test < 20) | (lst_test > 40)).plot()"
   ]
  },
  {
   "cell_type": "code",
   "execution_count": 88,
   "metadata": {},
   "outputs": [],
   "source": [
    "def array_to_colored_png(data, cmap='jet', vmin=None, vmax=None, transparent=np.nan):\n",
    "        if vmin is None:\n",
    "            vmin = np.nanmin(data)\n",
    "        if vmax is None:\n",
    "            vmax = np.nanmax(data)\n",
    "\n",
    "        # Normalize the data and apply the colormap\n",
    "        norm = plt.Normalize(vmin=vmin, vmax=vmax)\n",
    "        mapper = plt.cm.ScalarMappable(norm=norm, cmap=cmap)\n",
    "        colored_data = mapper.to_rgba(data, bytes=True)  # Get RGBA data from the colormap\n",
    "\n",
    "        # Set transparency for NaNs or data below a threshold\n",
    "        if transparent is not None:\n",
    "            alpha_channel = np.isnan(data) if np.isnan(transparent) else (data <= transparent)\n",
    "            colored_data[..., 3] = np.where(alpha_channel, 0, 255)  # Update alpha channel: 0 is transparent, 255 is opaque\n",
    "\n",
    "        # Convert array to an image\n",
    "        img = Image.fromarray(colored_data)\n",
    "        img_byte_arr = BytesIO()\n",
    "        img.save(img_byte_arr, format='PNG')\n",
    "        img_byte_arr = img_byte_arr.getvalue()\n",
    "        \n",
    "        # Convert to base64 and create data URL\n",
    "        base64_encoded = base64.b64encode(img_byte_arr)\n",
    "        base64_data_url = f\"data:image/png;base64,{base64_encoded.decode()}\"\n",
    "\n",
    "        return base64_data_url"
   ]
  },
  {
   "cell_type": "code",
   "execution_count": 106,
   "metadata": {},
   "outputs": [
    {
     "data": {
      "text/html": [
       "<div style=\"width:100%;\"><div style=\"position:relative;width:100%;height:0;padding-bottom:60%;\"><span style=\"color:#565656\">Make this Notebook Trusted to load map: File -> Trust Notebook</span><iframe srcdoc=\"&lt;!DOCTYPE html&gt;\n",
       "&lt;html&gt;\n",
       "&lt;head&gt;\n",
       "    \n",
       "    &lt;meta http-equiv=&quot;content-type&quot; content=&quot;text/html; charset=UTF-8&quot; /&gt;\n",
       "    \n",
       "        &lt;script&gt;\n",
       "            L_NO_TOUCH = false;\n",
       "            L_DISABLE_3D = false;\n",
       "        &lt;/script&gt;\n",
       "    \n",
       "    &lt;style&gt;html, body {width: 100%;height: 100%;margin: 0;padding: 0;}&lt;/style&gt;\n",
       "    &lt;style&gt;#map {position:absolute;top:0;bottom:0;right:0;left:0;}&lt;/style&gt;\n",
       "    &lt;script src=&quot;https://cdn.jsdelivr.net/npm/leaflet@1.9.3/dist/leaflet.js&quot;&gt;&lt;/script&gt;\n",
       "    &lt;script src=&quot;https://code.jquery.com/jquery-3.7.1.min.js&quot;&gt;&lt;/script&gt;\n",
       "    &lt;script src=&quot;https://cdn.jsdelivr.net/npm/bootstrap@5.2.2/dist/js/bootstrap.bundle.min.js&quot;&gt;&lt;/script&gt;\n",
       "    &lt;script src=&quot;https://cdnjs.cloudflare.com/ajax/libs/Leaflet.awesome-markers/2.0.2/leaflet.awesome-markers.js&quot;&gt;&lt;/script&gt;\n",
       "    &lt;link rel=&quot;stylesheet&quot; href=&quot;https://cdn.jsdelivr.net/npm/leaflet@1.9.3/dist/leaflet.css&quot;/&gt;\n",
       "    &lt;link rel=&quot;stylesheet&quot; href=&quot;https://cdn.jsdelivr.net/npm/bootstrap@5.2.2/dist/css/bootstrap.min.css&quot;/&gt;\n",
       "    &lt;link rel=&quot;stylesheet&quot; href=&quot;https://netdna.bootstrapcdn.com/bootstrap/3.0.0/css/bootstrap-glyphicons.css&quot;/&gt;\n",
       "    &lt;link rel=&quot;stylesheet&quot; href=&quot;https://cdn.jsdelivr.net/npm/@fortawesome/fontawesome-free@6.2.0/css/all.min.css&quot;/&gt;\n",
       "    &lt;link rel=&quot;stylesheet&quot; href=&quot;https://cdnjs.cloudflare.com/ajax/libs/Leaflet.awesome-markers/2.0.2/leaflet.awesome-markers.css&quot;/&gt;\n",
       "    &lt;link rel=&quot;stylesheet&quot; href=&quot;https://cdn.jsdelivr.net/gh/python-visualization/folium/folium/templates/leaflet.awesome.rotate.min.css&quot;/&gt;\n",
       "    \n",
       "            &lt;meta name=&quot;viewport&quot; content=&quot;width=device-width,\n",
       "                initial-scale=1.0, maximum-scale=1.0, user-scalable=no&quot; /&gt;\n",
       "            &lt;style&gt;\n",
       "                #map_5dc89c188b1d3b6512cd5cd5b93f3c6a {\n",
       "                    position: relative;\n",
       "                    width: 100.0%;\n",
       "                    height: 100.0%;\n",
       "                    left: 0.0%;\n",
       "                    top: 0.0%;\n",
       "                }\n",
       "                .leaflet-container { font-size: 1rem; }\n",
       "            &lt;/style&gt;\n",
       "        \n",
       "    \n",
       "                &lt;style&gt;\n",
       "                    .leaflet-image-layer {\n",
       "                        /* old android/safari*/\n",
       "                        image-rendering: -webkit-optimize-contrast;\n",
       "                        image-rendering: crisp-edges; /* safari */\n",
       "                        image-rendering: pixelated; /* chrome */\n",
       "                        image-rendering: -moz-crisp-edges; /* firefox */\n",
       "                        image-rendering: -o-crisp-edges; /* opera */\n",
       "                        -ms-interpolation-mode: nearest-neighbor; /* ie */\n",
       "                    }\n",
       "                &lt;/style&gt;\n",
       "            \n",
       "    &lt;script src=&quot;https://cdnjs.cloudflare.com/ajax/libs/d3/3.5.5/d3.min.js&quot;&gt;&lt;/script&gt;\n",
       "&lt;/head&gt;\n",
       "&lt;body&gt;\n",
       "    \n",
       "    \n",
       "            &lt;div class=&quot;folium-map&quot; id=&quot;map_5dc89c188b1d3b6512cd5cd5b93f3c6a&quot; &gt;&lt;/div&gt;\n",
       "        \n",
       "&lt;/body&gt;\n",
       "&lt;script&gt;\n",
       "    \n",
       "    \n",
       "            var map_5dc89c188b1d3b6512cd5cd5b93f3c6a = L.map(\n",
       "                &quot;map_5dc89c188b1d3b6512cd5cd5b93f3c6a&quot;,\n",
       "                {\n",
       "                    center: [0.0, 0.0],\n",
       "                    crs: L.CRS.EPSG3857,\n",
       "                    zoom: 1,\n",
       "                    zoomControl: true,\n",
       "                    preferCanvas: false,\n",
       "                }\n",
       "            );\n",
       "\n",
       "            \n",
       "\n",
       "        \n",
       "    \n",
       "            var tile_layer_37949470b73a6be53349c9e1a5d4bf14 = L.tileLayer(\n",
       "                &quot;https://tile.openstreetmap.org/{z}/{x}/{y}.png&quot;,\n",
       "                {&quot;attribution&quot;: &quot;\\u0026copy; \\u003ca href=\\&quot;https://www.openstreetmap.org/copyright\\&quot;\\u003eOpenStreetMap\\u003c/a\\u003e contributors&quot;, &quot;detectRetina&quot;: false, &quot;maxNativeZoom&quot;: 19, &quot;maxZoom&quot;: 19, &quot;minZoom&quot;: 0, &quot;noWrap&quot;: false, &quot;opacity&quot;: 1, &quot;subdomains&quot;: &quot;abc&quot;, &quot;tms&quot;: false}\n",
       "            );\n",
       "        \n",
       "    \n",
       "            tile_layer_37949470b73a6be53349c9e1a5d4bf14.addTo(map_5dc89c188b1d3b6512cd5cd5b93f3c6a);\n",
       "        \n",
       "    \n",
       "            var image_overlay_243038088667983f05edb982f97e77a2 = L.imageOverlay(\n",
       "                &quot;data:image/png;base64,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&quot;,\n",
       "                [[50.075627558003774, 14.384822834488114], [50.09537804305877, 14.438111879070455]],\n",
       "                {&quot;crossOrigin&quot;: false, &quot;interactive&quot;: true, &quot;opacity&quot;: 0.6, &quot;zindex&quot;: 1}\n",
       "            );\n",
       "        \n",
       "    \n",
       "            image_overlay_243038088667983f05edb982f97e77a2.addTo(map_5dc89c188b1d3b6512cd5cd5b93f3c6a);\n",
       "        \n",
       "    \n",
       "            var image_overlay_cea7c8a7ecba34fb8dbaba119c61856a = L.imageOverlay(\n",
       "                &quot;data:image/png;base64,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&quot;,\n",
       "                [[50.08643442718481, 14.475749595873369], [50.131525157216025, 14.533137797731275]],\n",
       "                {&quot;crossOrigin&quot;: false, &quot;interactive&quot;: true, &quot;opacity&quot;: 0.6, &quot;zindex&quot;: 1}\n",
       "            );\n",
       "        \n",
       "    \n",
       "            image_overlay_cea7c8a7ecba34fb8dbaba119c61856a.addTo(map_5dc89c188b1d3b6512cd5cd5b93f3c6a);\n",
       "        \n",
       "    \n",
       "            var image_overlay_7e5c48c33c1558db76a5045f0d6613f4 = L.imageOverlay(\n",
       "                &quot;data:image/png;base64,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&quot;,\n",
       "                [[49.96345970891787, 14.396002354330562], [50.02308381474427, 14.467178630660824]],\n",
       "                {&quot;crossOrigin&quot;: false, &quot;interactive&quot;: true, &quot;opacity&quot;: 0.6, &quot;zindex&quot;: 1}\n",
       "            );\n",
       "        \n",
       "    \n",
       "            image_overlay_7e5c48c33c1558db76a5045f0d6613f4.addTo(map_5dc89c188b1d3b6512cd5cd5b93f3c6a);\n",
       "        \n",
       "    \n",
       "            var image_overlay_667025e2ec833eb1c42b3425492562c9 = L.imageOverlay(\n",
       "                &quot;data:image/png;base64,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&quot;,\n",
       "                [[50.13525166383017, 14.419851996661121], [50.159101306160736, 14.467923931983654]],\n",
       "                {&quot;crossOrigin&quot;: false, &quot;interactive&quot;: true, &quot;opacity&quot;: 0.6, &quot;zindex&quot;: 1}\n",
       "            );\n",
       "        \n",
       "    \n",
       "            image_overlay_667025e2ec833eb1c42b3425492562c9.addTo(map_5dc89c188b1d3b6512cd5cd5b93f3c6a);\n",
       "        \n",
       "    \n",
       "            map_5dc89c188b1d3b6512cd5cd5b93f3c6a.fitBounds(\n",
       "                [[49.96345970891787, 14.384822834488114], [50.159101306160736, 14.533137797731275]],\n",
       "                {}\n",
       "            );\n",
       "        \n",
       "    \n",
       "    var color_map_193cc57cda78a7e441063a0039df6901 = {};\n",
       "\n",
       "    \n",
       "    color_map_193cc57cda78a7e441063a0039df6901.color = d3.scale.threshold()\n",
       "              .domain([31.109891891479492, 31.154035174536084, 31.198178457592675, 31.242321740649267, 31.28646502370586, 31.33060830676245, 31.37475158981904, 31.418894872875633, 31.463038155932225, 31.507181438988816, 31.551324722045408, 31.595468005102, 31.639611288158594, 31.683754571215186, 31.727897854271777, 31.77204113732837, 31.81618442038496, 31.860327703441552, 31.904470986498144, 31.948614269554735, 31.992757552611327, 32.036900835667915, 32.081044118724506, 32.125187401781105, 32.169330684837696, 32.21347396789429, 32.25761725095088, 32.30176053400747, 32.34590381706406, 32.390047100120654, 32.434190383177246, 32.47833366623384, 32.52247694929043, 32.56662023234702, 32.61076351540361, 32.6549067984602, 32.699050081516795, 32.743193364573386, 32.78733664762998, 32.83147993068657, 32.87562321374316, 32.91976649679975, 32.963909779856344, 33.008053062912936, 33.05219634596953, 33.09633962902612, 33.14048291208271, 33.1846261951393, 33.22876947819589, 33.272912761252485, 33.317056044309076, 33.36119932736567, 33.40534261042226, 33.44948589347885, 33.49362917653544, 33.537772459592034, 33.581915742648626, 33.62605902570522, 33.67020230876181, 33.7143455918184, 33.75848887487499, 33.80263215793158, 33.846775440988175, 33.89091872404477, 33.93506200710136, 33.97920529015795, 34.02334857321454, 34.06749185627113, 34.11163513932773, 34.155778422384316, 34.199921705440914, 34.244064988497506, 34.2882082715541, 34.33235155461069, 34.37649483766728, 34.42063812072387, 34.464781403780464, 34.508924686837055, 34.55306796989365, 34.59721125295024, 34.64135453600683, 34.68549781906342, 34.72964110212001, 34.773784385176604, 34.817927668233196, 34.86207095128979, 34.90621423434638, 34.95035751740297, 34.99450080045956, 35.038644083516154, 35.082787366572745, 35.12693064962934, 35.17107393268593, 35.21521721574252, 35.25936049879911, 35.3035037818557, 35.347647064912294, 35.391790347968886, 35.43593363102548, 35.48007691408207, 35.52422019713866, 35.56836348019525, 35.612506763251844, 35.656650046308435, 35.70079332936503, 35.74493661242162, 35.78907989547821, 35.8332231785348, 35.87736646159139, 35.921509744647985, 35.965653027704576, 36.009796310761175, 36.05393959381776, 36.09808287687436, 36.14222615993094, 36.18636944298754, 36.230512726044125, 36.274656009100724, 36.318799292157316, 36.36294257521391, 36.4070858582705, 36.45122914132709, 36.49537242438368, 36.53951570744027, 36.583658990496865, 36.627802273553456, 36.67194555661005, 36.71608883966664, 36.76023212272323, 36.80437540577982, 36.848518688836414, 36.892661971893006, 36.9368052549496, 36.98094853800619, 37.02509182106278, 37.06923510411937, 37.11337838717596, 37.157521670232555, 37.201664953289146, 37.24580823634574, 37.28995151940233, 37.33409480245892, 37.37823808551551, 37.422381368572104, 37.466524651628696, 37.51066793468529, 37.55481121774188, 37.59895450079847, 37.64309778385506, 37.68724106691165, 37.731384349968245, 37.775527633024836, 37.81967091608143, 37.86381419913802, 37.90795748219461, 37.9521007652512, 37.9962440483078, 38.040387331364386, 38.084530614420984, 38.12867389747757, 38.17281718053417, 38.21696046359075, 38.26110374664735, 38.30524702970394, 38.349390312760534, 38.393533595817125, 38.43767687887372, 38.48182016193031, 38.5259634449869, 38.57010672804349, 38.61425001110008, 38.658393294156674, 38.702536577213266, 38.74667986026986, 38.79082314332645, 38.83496642638304, 38.87910970943963, 38.923252992496224, 38.967396275552815, 39.01153955860941, 39.055682841666, 39.09982612472259, 39.14396940777918, 39.18811269083577, 39.232255973892364, 39.276399256948956, 39.32054254000555, 39.36468582306214, 39.40882910611873, 39.45297238917532, 39.497115672231914, 39.541258955288505, 39.5854022383451, 39.62954552140169, 39.67368880445828, 39.71783208751487, 39.76197537057146, 39.806118653628054, 39.850261936684646, 39.894405219741245, 39.93854850279783, 39.98269178585443, 40.02683506891101, 40.07097835196761, 40.115121635024195, 40.159264918080794, 40.20340820113738, 40.24755148419398, 40.29169476725056, 40.33583805030716, 40.37998133336375, 40.42412461642034, 40.468267899476935, 40.512411182533526, 40.55655446559012, 40.60069774864671, 40.6448410317033, 40.68898431475989, 40.733127597816484, 40.777270880873075, 40.82141416392967, 40.86555744698626, 40.90970073004285, 40.95384401309944, 40.99798729615603, 41.042130579212625, 41.086273862269216, 41.13041714532581, 41.1745604283824, 41.21870371143899, 41.26284699449558, 41.306990277552174, 41.351133560608766, 41.39527684366536, 41.43942012672195, 41.48356340977854, 41.52770669283513, 41.57184997589172, 41.615993258948315, 41.660136542004906, 41.7042798250615, 41.74842310811809, 41.79256639117468, 41.83670967423127, 41.88085295728787, 41.924996240344456, 41.969139523401054, 42.01328280645764, 42.05742608951424, 42.10156937257082, 42.14571265562742, 42.189855938684005, 42.2339992217406, 42.27814250479719, 42.32228578785379, 42.36642907091037, 42.41057235396697, 42.45471563702356, 42.49885892008015, 42.543002203136744, 42.587145486193336, 42.63128876924993, 42.67543205230652, 42.71957533536311, 42.7637186184197, 42.807861901476294, 42.852005184532885, 42.89614846758948, 42.94029175064607, 42.98443503370266, 43.02857831675925, 43.07272159981584, 43.116864882872434, 43.161008165929026, 43.20515144898562, 43.24929473204221, 43.2934380150988, 43.33758129815539, 43.381724581211984, 43.425867864268575, 43.47001114732517, 43.51415443038176, 43.55829771343835, 43.60244099649494, 43.64658427955153, 43.690727562608124, 43.734870845664716, 43.77901412872131, 43.8231574117779, 43.86730069483449, 43.91144397789108, 43.95558726094768, 43.999730544004265, 44.043873827060864, 44.08801711011745, 44.13216039317405, 44.17630367623063, 44.22044695928723, 44.264590242343814, 44.30873352540041, 44.352876808457, 44.397020091513596, 44.44116337457019, 44.48530665762678, 44.52944994068337, 44.57359322373996, 44.617736506796554, 44.661879789853145, 44.70602307290974, 44.75016635596633, 44.79430963902292, 44.83845292207951, 44.8825962051361, 44.926739488192695, 44.970882771249286, 45.01502605430588, 45.05916933736247, 45.10331262041906, 45.14745590347565, 45.191599186532244, 45.235742469588835, 45.27988575264543, 45.32402903570202, 45.36817231875861, 45.4123156018152, 45.45645888487179, 45.500602167928385, 45.544745450984976, 45.58888873404157, 45.63303201709816, 45.67717530015475, 45.72131858321134, 45.765461866267934, 45.809605149324526, 45.85374843238112, 45.89789171543771, 45.94203499849431, 45.98617828155089, 46.03032156460749, 46.074464847664075, 46.11860813072067, 46.16275141377726, 46.20689469683386, 46.25103797989044, 46.29518126294704, 46.339324546003624, 46.38346782906022, 46.427611112116814, 46.471754395173406, 46.51589767823, 46.56004096128659, 46.60418424434318, 46.64832752739977, 46.69247081045636, 46.736614093512955, 46.78075737656955, 46.82490065962614, 46.86904394268273, 46.91318722573932, 46.95733050879591, 47.001473791852504, 47.045617074909096, 47.08976035796569, 47.13390364102228, 47.17804692407887, 47.22219020713546, 47.26633349019205, 47.310476773248645, 47.35462005630524, 47.39876333936183, 47.44290662241842, 47.48704990547501, 47.5311931885316, 47.575336471588194, 47.619479754644786, 47.663623037701385, 47.70776632075797, 47.75190960381457, 47.79605288687115, 47.84019616992775, 47.884339452984335, 47.928482736040934, 47.97262601909752, 48.01676930215412, 48.0609125852107, 48.1050558682673, 48.149199151323884, 48.19334243438048, 48.23748571743707, 48.281629000493666, 48.32577228355025, 48.36991556660685, 48.414058849663434, 48.45820213272003, 48.50234541577662, 48.546488698833215, 48.5906319818898, 48.6347752649464, 48.67891854800299, 48.72306183105958, 48.76720511411617, 48.811348397172765, 48.855491680229356, 48.89963496328595, 48.94377824634254, 48.98792152939913, 49.03206481245572, 49.076208095512314, 49.120351378568905, 49.1644946616255, 49.20863794468209, 49.25278122773868, 49.29692451079527, 49.34106779385186, 49.385211076908455, 49.429354359965046, 49.47349764302164, 49.51764092607823, 49.56178420913482, 49.60592749219141, 49.65007077524801, 49.694214058304595, 49.738357341361194, 49.78250062441778, 49.82664390747438, 49.87078719053096, 49.91493047358756, 49.959073756644145, 50.00321703970074, 50.04736032275733, 50.09150360581393, 50.13564688887051, 50.17979017192711, 50.223933454983694, 50.26807673804029, 50.31222002109688, 50.356363304153476, 50.40050658721006, 50.44464987026666, 50.48879315332324, 50.53293643637984, 50.577079719436426, 50.621223002493025, 50.66536628554962, 50.70950956860621, 50.7536528516628, 50.79779613471939, 50.84193941777598, 50.886082700832574, 50.930225983889166, 50.97436926694576, 51.01851255000235, 51.06265583305894, 51.10679911611553, 51.15094239917212, 51.195085682228715, 51.23922896528531, 51.2833722483419, 51.32751553139849, 51.37165881445508, 51.41580209751167, 51.459945380568264, 51.504088663624856, 51.54823194668145, 51.59237522973804, 51.63651851279464, 51.68066179585122, 51.72480507890782, 51.768948361964405, 51.813091645021004, 51.85723492807759, 51.90137821113419, 51.94552149419077, 51.98966477724737, 52.033808060303954, 52.07795134336055, 52.12209462641714, 52.166237909473736, 52.21038119253032, 52.25452447558692, 52.298667758643504, 52.3428110417001, 52.38695432475669, 52.431097607813285, 52.47524089086987, 52.51938417392647, 52.56352745698305, 52.60767074003965, 52.65181402309624, 52.695957306152835, 52.740100589209426, 52.78424387226602, 52.82838715532261, 52.8725304383792, 52.91667372143579, 52.960817004492384, 53.004960287548975, 53.04910357060557, 53.09324685366216, 53.13739013671875])\n",
       "              .range([&#x27;#000183ff&#x27;, &#x27;#000284ff&#x27;, &#x27;#000286ff&#x27;, &#x27;#000387ff&#x27;, &#x27;#000389ff&#x27;, &#x27;#00048aff&#x27;, &#x27;#00048bff&#x27;, &#x27;#00058dff&#x27;, &#x27;#00068eff&#x27;, &#x27;#000690ff&#x27;, &#x27;#000791ff&#x27;, &#x27;#000793ff&#x27;, &#x27;#000894ff&#x27;, &#x27;#000995ff&#x27;, &#x27;#000997ff&#x27;, &#x27;#000a98ff&#x27;, &#x27;#000a9aff&#x27;, &#x27;#000b9bff&#x27;, &#x27;#000b9cff&#x27;, &#x27;#000c9eff&#x27;, &#x27;#000d9fff&#x27;, &#x27;#000da1ff&#x27;, &#x27;#000ea2ff&#x27;, &#x27;#000ea4ff&#x27;, &#x27;#000fa5ff&#x27;, &#x27;#000fa6ff&#x27;, &#x27;#0010a8ff&#x27;, &#x27;#0011a9ff&#x27;, &#x27;#0011abff&#x27;, &#x27;#0012acff&#x27;, &#x27;#0012adff&#x27;, &#x27;#0013afff&#x27;, &#x27;#0014b0ff&#x27;, &#x27;#0014b2ff&#x27;, &#x27;#0015b3ff&#x27;, &#x27;#0015b4ff&#x27;, &#x27;#0016b6ff&#x27;, &#x27;#0016b7ff&#x27;, &#x27;#0017b9ff&#x27;, &#x27;#0018baff&#x27;, &#x27;#0018bcff&#x27;, &#x27;#0019bdff&#x27;, &#x27;#0019beff&#x27;, &#x27;#001ac0ff&#x27;, &#x27;#001bc1ff&#x27;, &#x27;#001bc3ff&#x27;, &#x27;#001cc4ff&#x27;, &#x27;#001cc5ff&#x27;, &#x27;#001dc7ff&#x27;, &#x27;#001dc8ff&#x27;, &#x27;#001ecaff&#x27;, &#x27;#001fcbff&#x27;, &#x27;#001fccff&#x27;, &#x27;#0020ceff&#x27;, &#x27;#0020cfff&#x27;, &#x27;#0021d1ff&#x27;, &#x27;#0022d2ff&#x27;, &#x27;#0022d4ff&#x27;, &#x27;#0023d5ff&#x27;, &#x27;#0023d6ff&#x27;, &#x27;#0024d8ff&#x27;, &#x27;#0024d9ff&#x27;, &#x27;#0025dbff&#x27;, &#x27;#0026dcff&#x27;, &#x27;#0026ddff&#x27;, &#x27;#0027dfff&#x27;, &#x27;#0027e0ff&#x27;, &#x27;#0028e2ff&#x27;, &#x27;#0029e3ff&#x27;, &#x27;#0029e4ff&#x27;, &#x27;#002ae6ff&#x27;, &#x27;#002ae7ff&#x27;, &#x27;#002be9ff&#x27;, &#x27;#002beaff&#x27;, &#x27;#002cecff&#x27;, &#x27;#002dedff&#x27;, &#x27;#002deeff&#x27;, &#x27;#002ef0ff&#x27;, &#x27;#002ef1ff&#x27;, &#x27;#002ff3ff&#x27;, &#x27;#002ff4ff&#x27;, &#x27;#0030f5ff&#x27;, &#x27;#0031f7ff&#x27;, &#x27;#0031f8ff&#x27;, &#x27;#0032faff&#x27;, &#x27;#0032fbff&#x27;, &#x27;#0033fcff&#x27;, &#x27;#0034feff&#x27;, &#x27;#0034ffff&#x27;, &#x27;#0036ffff&#x27;, &#x27;#0038ffff&#x27;, &#x27;#003affff&#x27;, &#x27;#003cffff&#x27;, &#x27;#003effff&#x27;, &#x27;#0040ffff&#x27;, &#x27;#0042feff&#x27;, &#x27;#0044feff&#x27;, &#x27;#0046feff&#x27;, &#x27;#0048feff&#x27;, &#x27;#004afeff&#x27;, &#x27;#004cfeff&#x27;, &#x27;#004efeff&#x27;, &#x27;#0050fdff&#x27;, &#x27;#0053fdff&#x27;, &#x27;#0055fdff&#x27;, &#x27;#0157fdff&#x27;, &#x27;#0159fdff&#x27;, &#x27;#015bfdff&#x27;, &#x27;#015dfcff&#x27;, &#x27;#015ffcff&#x27;, &#x27;#0161fcff&#x27;, &#x27;#0163fcff&#x27;, &#x27;#0165fcff&#x27;, &#x27;#0167fcff&#x27;, &#x27;#0169fcff&#x27;, &#x27;#016bfbff&#x27;, &#x27;#016dfbff&#x27;, &#x27;#016ffbff&#x27;, &#x27;#0171fbff&#x27;, &#x27;#0173fbff&#x27;, &#x27;#0175fbff&#x27;, &#x27;#0277faff&#x27;, &#x27;#0279faff&#x27;, &#x27;#027bfaff&#x27;, &#x27;#027dfaff&#x27;, &#x27;#027ffaff&#x27;, &#x27;#0281faff&#x27;, &#x27;#0283faff&#x27;, &#x27;#0285f9ff&#x27;, &#x27;#0288f9ff&#x27;, &#x27;#028af9ff&#x27;, &#x27;#028cf9ff&#x27;, &#x27;#028ef9ff&#x27;, &#x27;#0290f9ff&#x27;, &#x27;#0292f8ff&#x27;, &#x27;#0294f8ff&#x27;, &#x27;#0296f8ff&#x27;, &#x27;#0398f8ff&#x27;, &#x27;#039af8ff&#x27;, &#x27;#039cf8ff&#x27;, &#x27;#039ef8ff&#x27;, &#x27;#03a0f7ff&#x27;, &#x27;#03a2f7ff&#x27;, &#x27;#03a4f7ff&#x27;, &#x27;#03a6f7ff&#x27;, &#x27;#03a8f7ff&#x27;, &#x27;#03aaf7ff&#x27;, &#x27;#03acf6ff&#x27;, &#x27;#03aef6ff&#x27;, &#x27;#03b0f6ff&#x27;, &#x27;#03b2f6ff&#x27;, &#x27;#03b4f6ff&#x27;, &#x27;#03b6f6ff&#x27;, &#x27;#04b8f6ff&#x27;, &#x27;#04baf5ff&#x27;, &#x27;#04bdf5ff&#x27;, &#x27;#04bff5ff&#x27;, &#x27;#04c1f5ff&#x27;, &#x27;#04c3f5ff&#x27;, &#x27;#04c5f5ff&#x27;, &#x27;#04c7f4ff&#x27;, &#x27;#04c9f4ff&#x27;, &#x27;#04cbf4ff&#x27;, &#x27;#04cdf4ff&#x27;, &#x27;#04cff4ff&#x27;, &#x27;#04d1f4ff&#x27;, &#x27;#04d3f4ff&#x27;, &#x27;#04d5f3ff&#x27;, &#x27;#04d7f3ff&#x27;, &#x27;#05d9f3ff&#x27;, &#x27;#05dbf3ff&#x27;, &#x27;#05ddf3ff&#x27;, &#x27;#05dff3ff&#x27;, &#x27;#05e1f2ff&#x27;, &#x27;#05e3f2ff&#x27;, &#x27;#05e5f2ff&#x27;, &#x27;#05e7f2ff&#x27;, &#x27;#05e9f2ff&#x27;, &#x27;#05ebf2ff&#x27;, &#x27;#06edf1ff&#x27;, &#x27;#07edefff&#x27;, &#x27;#09edeeff&#x27;, &#x27;#0beeecff&#x27;, &#x27;#0ceeeaff&#x27;, &#x27;#0eeee9ff&#x27;, &#x27;#10eee7ff&#x27;, &#x27;#11eee5ff&#x27;, &#x27;#13efe4ff&#x27;, &#x27;#15efe2ff&#x27;, &#x27;#16efe0ff&#x27;, &#x27;#18efdfff&#x27;, &#x27;#1aefddff&#x27;, &#x27;#1bf0dbff&#x27;, &#x27;#1df0daff&#x27;, &#x27;#1ff0d8ff&#x27;, &#x27;#20f0d6ff&#x27;, &#x27;#22f0d5ff&#x27;, &#x27;#24f1d3ff&#x27;, &#x27;#26f1d1ff&#x27;, &#x27;#27f1d0ff&#x27;, &#x27;#29f1ceff&#x27;, &#x27;#2bf1ccff&#x27;, &#x27;#2cf2cbff&#x27;, &#x27;#2ef2c9ff&#x27;, &#x27;#30f2c7ff&#x27;, &#x27;#31f2c5ff&#x27;, &#x27;#33f3c4ff&#x27;, &#x27;#35f3c2ff&#x27;, &#x27;#36f3c0ff&#x27;, &#x27;#38f3bfff&#x27;, &#x27;#3af3bdff&#x27;, &#x27;#3bf4bbff&#x27;, &#x27;#3df4baff&#x27;, &#x27;#3ff4b8ff&#x27;, &#x27;#40f4b6ff&#x27;, &#x27;#42f4b5ff&#x27;, &#x27;#44f5b3ff&#x27;, &#x27;#45f5b1ff&#x27;, &#x27;#47f5b0ff&#x27;, &#x27;#49f5aeff&#x27;, &#x27;#4af5acff&#x27;, &#x27;#4cf6abff&#x27;, &#x27;#4ef6a9ff&#x27;, &#x27;#50f6a7ff&#x27;, &#x27;#51f6a6ff&#x27;, &#x27;#53f6a4ff&#x27;, &#x27;#55f7a2ff&#x27;, &#x27;#56f7a1ff&#x27;, &#x27;#58f79fff&#x27;, &#x27;#5af79dff&#x27;, &#x27;#5bf79bff&#x27;, &#x27;#5df89aff&#x27;, &#x27;#5ff898ff&#x27;, &#x27;#60f896ff&#x27;, &#x27;#62f895ff&#x27;, &#x27;#64f893ff&#x27;, &#x27;#65f991ff&#x27;, &#x27;#67f990ff&#x27;, &#x27;#69f98eff&#x27;, &#x27;#6af98cff&#x27;, &#x27;#6cf98bff&#x27;, &#x27;#6efa89ff&#x27;, &#x27;#6ffa87ff&#x27;, &#x27;#71fa86ff&#x27;, &#x27;#73fa84ff&#x27;, &#x27;#74fb82ff&#x27;, &#x27;#76fb81ff&#x27;, &#x27;#78fb7fff&#x27;, &#x27;#7afb7dff&#x27;, &#x27;#7bfb7cff&#x27;, &#x27;#7dfc7aff&#x27;, &#x27;#7ffc78ff&#x27;, &#x27;#80fc77ff&#x27;, &#x27;#82fc75ff&#x27;, &#x27;#84fc73ff&#x27;, &#x27;#85fd71ff&#x27;, &#x27;#87fd70ff&#x27;, &#x27;#89fd6eff&#x27;, &#x27;#8afd6cff&#x27;, &#x27;#8cfd6bff&#x27;, &#x27;#8efe69ff&#x27;, &#x27;#8ffe67ff&#x27;, &#x27;#91fe66ff&#x27;, &#x27;#93fe64ff&#x27;, &#x27;#94fe62ff&#x27;, &#x27;#96ff61ff&#x27;, &#x27;#98ff5fff&#x27;, &#x27;#99ff5dff&#x27;, &#x27;#9bff5cff&#x27;, &#x27;#9dff5aff&#x27;, &#x27;#9eff59ff&#x27;, &#x27;#9ffe58ff&#x27;, &#x27;#a0fd57ff&#x27;, &#x27;#a1fc56ff&#x27;, &#x27;#a2fc55ff&#x27;, &#x27;#a3fb54ff&#x27;, &#x27;#a5fa53ff&#x27;, &#x27;#a6f952ff&#x27;, &#x27;#a7f851ff&#x27;, &#x27;#a8f750ff&#x27;, &#x27;#a9f64fff&#x27;, &#x27;#aaf64eff&#x27;, &#x27;#abf54dff&#x27;, &#x27;#acf44cff&#x27;, &#x27;#adf34bff&#x27;, &#x27;#aef24aff&#x27;, &#x27;#aff149ff&#x27;, &#x27;#b0f048ff&#x27;, &#x27;#b2f047ff&#x27;, &#x27;#b3ef46ff&#x27;, &#x27;#b4ee45ff&#x27;, &#x27;#b5ed44ff&#x27;, &#x27;#b6ec43ff&#x27;, &#x27;#b7eb42ff&#x27;, &#x27;#b8ea41ff&#x27;, &#x27;#b9ea40ff&#x27;, &#x27;#bae93fff&#x27;, &#x27;#bbe83eff&#x27;, &#x27;#bce73dff&#x27;, &#x27;#bde63cff&#x27;, &#x27;#bfe53bff&#x27;, &#x27;#c0e43aff&#x27;, &#x27;#c1e439ff&#x27;, &#x27;#c2e338ff&#x27;, &#x27;#c3e237ff&#x27;, &#x27;#c4e136ff&#x27;, &#x27;#c5e035ff&#x27;, &#x27;#c6df34ff&#x27;, &#x27;#c7df33ff&#x27;, &#x27;#c8de32ff&#x27;, &#x27;#c9dd31ff&#x27;, &#x27;#cadc30ff&#x27;, &#x27;#ccdb2fff&#x27;, &#x27;#cdda2eff&#x27;, &#x27;#ced92dff&#x27;, &#x27;#cfd92cff&#x27;, &#x27;#d0d82bff&#x27;, &#x27;#d1d72aff&#x27;, &#x27;#d2d629ff&#x27;, &#x27;#d3d528ff&#x27;, &#x27;#d4d427ff&#x27;, &#x27;#d5d326ff&#x27;, &#x27;#d6d325ff&#x27;, &#x27;#d7d224ff&#x27;, &#x27;#d9d123ff&#x27;, &#x27;#dad022ff&#x27;, &#x27;#dbcf21ff&#x27;, &#x27;#dcce20ff&#x27;, &#x27;#ddcd1fff&#x27;, &#x27;#decd1eff&#x27;, &#x27;#dfcc1dff&#x27;, &#x27;#e0cb1cff&#x27;, &#x27;#e1ca1bff&#x27;, &#x27;#e2c91aff&#x27;, &#x27;#e3c819ff&#x27;, &#x27;#e4c718ff&#x27;, &#x27;#e6c717ff&#x27;, &#x27;#e7c616ff&#x27;, &#x27;#e8c515ff&#x27;, &#x27;#e9c414ff&#x27;, &#x27;#eac313ff&#x27;, &#x27;#ebc212ff&#x27;, &#x27;#ecc111ff&#x27;, &#x27;#edc110ff&#x27;, &#x27;#eec00fff&#x27;, &#x27;#efbf0eff&#x27;, &#x27;#f0be0dff&#x27;, &#x27;#f1bd0cff&#x27;, &#x27;#f3bc0bff&#x27;, &#x27;#f4bc0aff&#x27;, &#x27;#f5bb09ff&#x27;, &#x27;#f6ba08ff&#x27;, &#x27;#f7b907ff&#x27;, &#x27;#f8b806ff&#x27;, &#x27;#f9b705ff&#x27;, &#x27;#fab604ff&#x27;, &#x27;#fbb603ff&#x27;, &#x27;#fcb502ff&#x27;, &#x27;#fdb401ff&#x27;, &#x27;#feb300ff&#x27;, &#x27;#ffb200ff&#x27;, &#x27;#ffb000ff&#x27;, &#x27;#ffae00ff&#x27;, &#x27;#ffac00ff&#x27;, &#x27;#ffaa00ff&#x27;, &#x27;#fea800ff&#x27;, &#x27;#fea700ff&#x27;, &#x27;#fea500ff&#x27;, &#x27;#fea300ff&#x27;, &#x27;#fea100ff&#x27;, &#x27;#fd9f00ff&#x27;, &#x27;#fd9d00ff&#x27;, &#x27;#fd9b00ff&#x27;, &#x27;#fd9900ff&#x27;, &#x27;#fd9700ff&#x27;, &#x27;#fc9500ff&#x27;, &#x27;#fc9300ff&#x27;, &#x27;#fc9100ff&#x27;, &#x27;#fc8f00ff&#x27;, &#x27;#fc8d00ff&#x27;, &#x27;#fb8c00ff&#x27;, &#x27;#fb8a00ff&#x27;, &#x27;#fb8800ff&#x27;, &#x27;#fb8600ff&#x27;, &#x27;#fb8400ff&#x27;, &#x27;#fa8200ff&#x27;, &#x27;#fa8000ff&#x27;, &#x27;#fa7e00ff&#x27;, &#x27;#fa7c00ff&#x27;, &#x27;#fa7a00ff&#x27;, &#x27;#f97800ff&#x27;, &#x27;#f97600ff&#x27;, &#x27;#f97400ff&#x27;, &#x27;#f97200ff&#x27;, &#x27;#f97100ff&#x27;, &#x27;#f86f00ff&#x27;, &#x27;#f86d00ff&#x27;, &#x27;#f86b00ff&#x27;, &#x27;#f86900ff&#x27;, &#x27;#f86700ff&#x27;, &#x27;#f76500ff&#x27;, &#x27;#f76300ff&#x27;, &#x27;#f76100ff&#x27;, &#x27;#f75f00ff&#x27;, &#x27;#f75d00ff&#x27;, &#x27;#f65b00ff&#x27;, &#x27;#f65900ff&#x27;, &#x27;#f65700ff&#x27;, &#x27;#f65600ff&#x27;, &#x27;#f55400ff&#x27;, &#x27;#f55200ff&#x27;, &#x27;#f55000ff&#x27;, &#x27;#f54e00ff&#x27;, &#x27;#f54c00ff&#x27;, &#x27;#f44a00ff&#x27;, &#x27;#f44800ff&#x27;, &#x27;#f44600ff&#x27;, &#x27;#f44400ff&#x27;, &#x27;#f44200ff&#x27;, &#x27;#f34000ff&#x27;, &#x27;#f33e00ff&#x27;, &#x27;#f33c00ff&#x27;, &#x27;#f33b00ff&#x27;, &#x27;#f33900ff&#x27;, &#x27;#f23700ff&#x27;, &#x27;#f23500ff&#x27;, &#x27;#f23300ff&#x27;, &#x27;#f23100ff&#x27;, &#x27;#f22f00ff&#x27;, &#x27;#f12d00ff&#x27;, &#x27;#f12b00ff&#x27;, &#x27;#f12900ff&#x27;, &#x27;#f12700ff&#x27;, &#x27;#f12500ff&#x27;, &#x27;#f02300ff&#x27;, &#x27;#f02100ff&#x27;, &#x27;#f02000ff&#x27;, &#x27;#f01e00ff&#x27;, &#x27;#f01c00ff&#x27;, &#x27;#ef1a00ff&#x27;, &#x27;#ef1800ff&#x27;, &#x27;#ef1600ff&#x27;, &#x27;#ef1400ff&#x27;, &#x27;#ef1200ff&#x27;, &#x27;#ee1000ff&#x27;, &#x27;#ee0e00ff&#x27;, &#x27;#ee0c00ff&#x27;, &#x27;#ee0a00ff&#x27;, &#x27;#ee0800ff&#x27;, &#x27;#ed0600ff&#x27;, &#x27;#ed0500ff&#x27;, &#x27;#ed0300ff&#x27;, &#x27;#eb0300ff&#x27;, &#x27;#ea0300ff&#x27;, &#x27;#e90300ff&#x27;, &#x27;#e80300ff&#x27;, &#x27;#e60300ff&#x27;, &#x27;#e50300ff&#x27;, &#x27;#e40300ff&#x27;, &#x27;#e30300ff&#x27;, &#x27;#e20300ff&#x27;, &#x27;#e00300ff&#x27;, &#x27;#df0300ff&#x27;, &#x27;#de0300ff&#x27;, &#x27;#dd0300ff&#x27;, &#x27;#dc0300ff&#x27;, &#x27;#da0300ff&#x27;, &#x27;#d90300ff&#x27;, &#x27;#d80300ff&#x27;, &#x27;#d70300ff&#x27;, &#x27;#d60300ff&#x27;, &#x27;#d40300ff&#x27;, &#x27;#d30200ff&#x27;, &#x27;#d20200ff&#x27;, &#x27;#d10200ff&#x27;, &#x27;#d00200ff&#x27;, &#x27;#ce0200ff&#x27;, &#x27;#cd0200ff&#x27;, &#x27;#cc0200ff&#x27;, &#x27;#cb0200ff&#x27;, &#x27;#c90200ff&#x27;, &#x27;#c80200ff&#x27;, &#x27;#c70200ff&#x27;, &#x27;#c60200ff&#x27;, &#x27;#c50200ff&#x27;, &#x27;#c30200ff&#x27;, &#x27;#c20200ff&#x27;, &#x27;#c10200ff&#x27;, &#x27;#c00200ff&#x27;, &#x27;#bf0200ff&#x27;, &#x27;#bd0200ff&#x27;, &#x27;#bc0200ff&#x27;, &#x27;#bb0200ff&#x27;, &#x27;#ba0200ff&#x27;, &#x27;#b90200ff&#x27;, &#x27;#b70100ff&#x27;, &#x27;#b60100ff&#x27;, &#x27;#b50100ff&#x27;, &#x27;#b40100ff&#x27;, &#x27;#b20100ff&#x27;]);\n",
       "    \n",
       "\n",
       "    color_map_193cc57cda78a7e441063a0039df6901.x = d3.scale.linear()\n",
       "              .domain([31.109891891479492, 53.13739013671875])\n",
       "              .range([0, 450 - 50]);\n",
       "\n",
       "    color_map_193cc57cda78a7e441063a0039df6901.legend = L.control({position: &#x27;topright&#x27;});\n",
       "    color_map_193cc57cda78a7e441063a0039df6901.legend.onAdd = function (map) {var div = L.DomUtil.create(&#x27;div&#x27;, &#x27;legend&#x27;); return div};\n",
       "    color_map_193cc57cda78a7e441063a0039df6901.legend.addTo(map_5dc89c188b1d3b6512cd5cd5b93f3c6a);\n",
       "\n",
       "    color_map_193cc57cda78a7e441063a0039df6901.xAxis = d3.svg.axis()\n",
       "        .scale(color_map_193cc57cda78a7e441063a0039df6901.x)\n",
       "        .orient(&quot;top&quot;)\n",
       "        .tickSize(1)\n",
       "        .tickValues([31.0, 35.0, 39.0, 43.0, 47.0, 51.0, 55.0]);\n",
       "\n",
       "    color_map_193cc57cda78a7e441063a0039df6901.svg = d3.select(&quot;.legend.leaflet-control&quot;).append(&quot;svg&quot;)\n",
       "        .attr(&quot;id&quot;, &#x27;legend&#x27;)\n",
       "        .attr(&quot;width&quot;, 450)\n",
       "        .attr(&quot;height&quot;, 40);\n",
       "\n",
       "    color_map_193cc57cda78a7e441063a0039df6901.g = color_map_193cc57cda78a7e441063a0039df6901.svg.append(&quot;g&quot;)\n",
       "        .attr(&quot;class&quot;, &quot;key&quot;)\n",
       "        .attr(&quot;transform&quot;, &quot;translate(25,16)&quot;);\n",
       "\n",
       "    color_map_193cc57cda78a7e441063a0039df6901.g.selectAll(&quot;rect&quot;)\n",
       "        .data(color_map_193cc57cda78a7e441063a0039df6901.color.range().map(function(d, i) {\n",
       "          return {\n",
       "            x0: i ? color_map_193cc57cda78a7e441063a0039df6901.x(color_map_193cc57cda78a7e441063a0039df6901.color.domain()[i - 1]) : color_map_193cc57cda78a7e441063a0039df6901.x.range()[0],\n",
       "            x1: i &lt; color_map_193cc57cda78a7e441063a0039df6901.color.domain().length ? color_map_193cc57cda78a7e441063a0039df6901.x(color_map_193cc57cda78a7e441063a0039df6901.color.domain()[i]) : color_map_193cc57cda78a7e441063a0039df6901.x.range()[1],\n",
       "            z: d\n",
       "          };\n",
       "        }))\n",
       "      .enter().append(&quot;rect&quot;)\n",
       "        .attr(&quot;height&quot;, 40 - 30)\n",
       "        .attr(&quot;x&quot;, function(d) { return d.x0; })\n",
       "        .attr(&quot;width&quot;, function(d) { return d.x1 - d.x0; })\n",
       "        .style(&quot;fill&quot;, function(d) { return d.z; });\n",
       "\n",
       "    color_map_193cc57cda78a7e441063a0039df6901.g.call(color_map_193cc57cda78a7e441063a0039df6901.xAxis).append(&quot;text&quot;)\n",
       "        .attr(&quot;class&quot;, &quot;caption&quot;)\n",
       "        .attr(&quot;y&quot;, 21)\n",
       "        .text(&quot;Land Surface Temperature&quot;);\n",
       "&lt;/script&gt;\n",
       "&lt;/html&gt;\" style=\"position:absolute;width:100%;height:100%;left:0;top:0;border:none !important;\" allowfullscreen webkitallowfullscreen mozallowfullscreen></iframe></div></div>"
      ],
      "text/plain": [
       "<folium.folium.Map at 0x7efdd1478750>"
      ]
     },
     "execution_count": 106,
     "metadata": {},
     "output_type": "execute_result"
    }
   ],
   "source": [
    "m = folium.Map()\n",
    " \n",
    "for key in [1, 3, 4, 6]:\n",
    "    this_lst = lst_dict[key]\n",
    "    img_bytes = array_to_colored_png(this_lst)\n",
    "    left, bottom, right, top = this_lst.rio.bounds()\n",
    "\n",
    "    # Create an image overlay\n",
    "    img_overlay = folium.raster_layers.ImageOverlay(\n",
    "        img_bytes,\n",
    "        bounds=[[bottom, left], [top, right]],\n",
    "        opacity=0.6,\n",
    "        interactive=True,\n",
    "        cross_origin=False,\n",
    "        zindex=1,\n",
    "        name=\"Land Surface Temperature 10:00, 17.08.2018\"\n",
    "    )\n",
    "    img_overlay.add_to(m)\n",
    "\n",
    "colorbar = hw_maps.generate_colorbar(data=this_lst)\n",
    "\n",
    "m.fit_bounds(m.get_bounds())\n",
    "colorbar.add_to(m)\n",
    "m"
   ]
  },
  {
   "cell_type": "code",
   "execution_count": null,
   "metadata": {},
   "outputs": [],
   "source": [
    "\n",
    "def add_raster_to_map(lst_path, m):\n",
    "    with rio.open(lst_path) as src:\n",
    "        image_bounds = src.bounds\n",
    "        data = src.read(1)\n",
    "    \n",
    "    img_bytes = array_to_colored_png(data)\n",
    "    left, bottom, right, top = image_bounds\n",
    "\n",
    "    # Create an image overlay\n",
    "    img_overlay = folium.raster_layers.ImageOverlay(\n",
    "        img_bytes,\n",
    "        bounds=[[bottom, left], [top, right]],\n",
    "        opacity=0.6,\n",
    "        interactive=True,\n",
    "        cross_origin=False,\n",
    "        zindex=1,\n",
    "        name=\"Land Surface Temperature 10:00, 17.08.2018\"\n",
    "    )\n",
    "    img_overlay.add_to(m)\n",
    "\n",
    "    # Create Colorbar\n",
    "    colorbar = generate_colorbar(data=data)\n",
    "    colorbar.add_to(m)\n",
    "    return m"
   ]
  },
  {
   "cell_type": "code",
   "execution_count": 36,
   "metadata": {},
   "outputs": [
    {
     "ename": "AttributeError",
     "evalue": "'numpy.ndarray' object has no attribute 'plot'",
     "output_type": "error",
     "traceback": [
      "\u001b[0;31m---------------------------------------------------------------------------\u001b[0m",
      "\u001b[0;31mAttributeError\u001b[0m                            Traceback (most recent call last)",
      "Cell \u001b[0;32mIn[36], line 3\u001b[0m\n\u001b[1;32m      1\u001b[0m masked_lst \u001b[38;5;241m=\u001b[39m np\u001b[38;5;241m.\u001b[39mma\u001b[38;5;241m.\u001b[39mmasked_outside(lst_test, \u001b[38;5;241m20\u001b[39m, \u001b[38;5;241m40\u001b[39m)\n\u001b[1;32m      2\u001b[0m lst_with_nan \u001b[38;5;241m=\u001b[39m masked_lst\u001b[38;5;241m.\u001b[39mfilled(np\u001b[38;5;241m.\u001b[39mnan)\n\u001b[0;32m----> 3\u001b[0m \u001b[43mlst_with_nan\u001b[49m\u001b[38;5;241;43m.\u001b[39;49m\u001b[43mplot\u001b[49m()\n",
      "\u001b[0;31mAttributeError\u001b[0m: 'numpy.ndarray' object has no attribute 'plot'"
     ]
    }
   ],
   "source": [
    "masked_lst = np.ma.masked_outside(lst_test, 20, 40)\n",
    "lst_with_nan = masked_lst.filled(np.nan)\n",
    "lst_with_nan.plot()"
   ]
  },
  {
   "cell_type": "code",
   "execution_count": null,
   "metadata": {},
   "outputs": [],
   "source": []
  }
 ],
 "metadata": {
  "kernelspec": {
   "display_name": "Python 3",
   "language": "python",
   "name": "python3"
  },
  "language_info": {
   "codemirror_mode": {
    "name": "ipython",
    "version": 3
   },
   "file_extension": ".py",
   "mimetype": "text/x-python",
   "name": "python",
   "nbconvert_exporter": "python",
   "pygments_lexer": "ipython3",
   "version": "3.11.10"
  }
 },
 "nbformat": 4,
 "nbformat_minor": 2
}
