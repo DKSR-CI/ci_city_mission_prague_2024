{
 "cells": [
  {
   "cell_type": "code",
   "execution_count": 2,
   "metadata": {},
   "outputs": [],
   "source": [
    "import pandas as pd\n",
    "import geopandas as gpd\n",
    "import numpy as np\n",
    "import matplotlib.pyplot as plt\n",
    "import seaborn as sns\n",
    "from keplergl import KeplerGl\n",
    "from datetime import datetime\n",
    "from shapely.geometry import LineString, shape, Point\n",
    "from shapely import to_geojson\n",
    "import zipfile\n",
    "import os\n",
    "import osmnx as ox\n",
    "from geopy.geocoders import Nominatim\n",
    "from typing import List\n",
    "import h3\n",
    "import ast\n",
    "import altair as alt\n",
    "from shapely import Point\n",
    "\n",
    "%matplotlib inline"
   ]
  },
  {
   "cell_type": "code",
   "execution_count": 3,
   "metadata": {},
   "outputs": [],
   "source": [
    "#geom is ecpected to be geojson format\n",
    "### take care to take that one level of the nested json --> ['features'][0]\n",
    "\n",
    "def shape_filter(df, geom, bbox:bool=False):\n",
    "    lng_min, lng_max, lat_min, lat_max = 100, 0, 100, 0\n",
    "    geom_shape = geom['geometry']['coordinates'][0]\n",
    "    for i in geom_shape:\n",
    "        if i[0] < lng_min:\n",
    "            lng_min = i[0]\n",
    "        elif i[0] > lng_max:\n",
    "            lng_max = i[0]\n",
    "        else:\n",
    "            pass\n",
    "        if i[1] < lat_min:\n",
    "            lat_min = i[1]\n",
    "        elif i[1] > lat_max:\n",
    "            lat_max = i[1]\n",
    "        else:\n",
    "            pass\n",
    "\n",
    "    sub_df = df[df['Longitude'] > lng_min]\n",
    "    sub_df = sub_df[sub_df['Longitude'] < lng_max]\n",
    "    sub_df = sub_df[sub_df['Latitude'] > lat_min]\n",
    "    sub_df = sub_df[sub_df['Latitude'] < lat_max]\n",
    "\n",
    "    if bbox==False:\n",
    "        sub_df['geo_check'] = sub_df.apply(lambda x: polygon_check(x['Longitude'], x['Latitude'],geom), axis=1)\n",
    "        sub_df = sub_df[sub_df['geo_check']].drop('geo_check',axis=1)\n",
    "    sub_df.reset_index(drop=True,inplace=True)\n",
    "    return sub_df"
   ]
  },
  {
   "cell_type": "code",
   "execution_count": 4,
   "metadata": {},
   "outputs": [],
   "source": [
    "df = pd.read_csv('../data/interim/waypoints.csv', header=None)"
   ]
  },
  {
   "cell_type": "code",
   "execution_count": 5,
   "metadata": {},
   "outputs": [],
   "source": [
    "header = pd.read_csv('../data/interim/TripBulkReportWaypointsHeaders.csv')"
   ]
  },
  {
   "cell_type": "code",
   "execution_count": 6,
   "metadata": {},
   "outputs": [],
   "source": [
    "df.drop([11], axis=1, inplace=True)"
   ]
  },
  {
   "cell_type": "code",
   "execution_count": 8,
   "metadata": {},
   "outputs": [],
   "source": [
    "df.columns = header.columns"
   ]
  },
  {
   "cell_type": "markdown",
   "metadata": {},
   "source": [
    "### filter trip starts in district 1"
   ]
  },
  {
   "cell_type": "code",
   "execution_count": 9,
   "metadata": {},
   "outputs": [],
   "source": [
    "district1 = {\n",
    "  \"type\": \"FeatureCollection\",\n",
    "  \"features\": [\n",
    "    {\n",
    "      \"type\": \"Feature\",\n",
    "      \"properties\": {},\n",
    "      \"geometry\": {\n",
    "        \"coordinates\": [\n",
    "          [\n",
    "            [\n",
    "              14.3997219836956,\n",
    "              50.08946066514625\n",
    "            ],\n",
    "            [\n",
    "              14.3997219836956,\n",
    "              50.08568425669637\n",
    "            ],\n",
    "            [\n",
    "              14.409012189651008,\n",
    "              50.08568425669637\n",
    "            ],\n",
    "            [\n",
    "              14.409012189651008,\n",
    "              50.08946066514625\n",
    "            ],\n",
    "            [\n",
    "              14.3997219836956,\n",
    "              50.08946066514625\n",
    "            ]\n",
    "          ]\n",
    "        ],\n",
    "        \"type\": \"Polygon\"\n",
    "      }\n",
    "    }\n",
    "  ]\n",
    "}"
   ]
  },
  {
   "cell_type": "code",
   "execution_count": 10,
   "metadata": {},
   "outputs": [],
   "source": [
    "trip_df = pd.read_csv('../data/interim/trips.csv',header=None,on_bad_lines='skip')\n",
    "headers = pd.read_csv('../data/interim/TripBulkReportTripsHeaders.csv')\n",
    "trip_df.drop([31], axis=1, inplace=True)\n",
    "trip_df.columns = headers.columns"
   ]
  },
  {
   "cell_type": "code",
   "execution_count": 12,
   "metadata": {},
   "outputs": [],
   "source": [
    "trip_df['Longitude'] = trip_df['StartLocLon']\n",
    "trip_df['Latitude'] = trip_df['StartLocLat']"
   ]
  },
  {
   "cell_type": "code",
   "execution_count": 13,
   "metadata": {},
   "outputs": [
    {
     "data": {
      "text/html": [
       "<div>\n",
       "<style scoped>\n",
       "    .dataframe tbody tr th:only-of-type {\n",
       "        vertical-align: middle;\n",
       "    }\n",
       "\n",
       "    .dataframe tbody tr th {\n",
       "        vertical-align: top;\n",
       "    }\n",
       "\n",
       "    .dataframe thead th {\n",
       "        text-align: right;\n",
       "    }\n",
       "</style>\n",
       "<table border=\"1\" class=\"dataframe\">\n",
       "  <thead>\n",
       "    <tr style=\"text-align: right;\">\n",
       "      <th></th>\n",
       "      <th>TripId</th>\n",
       "      <th>DeviceId</th>\n",
       "      <th>ProviderId</th>\n",
       "      <th>Mode</th>\n",
       "      <th>StartDate</th>\n",
       "      <th>StartWDay</th>\n",
       "      <th>EndDate</th>\n",
       "      <th>EndWDay</th>\n",
       "      <th>StartLocLat</th>\n",
       "      <th>StartLocLon</th>\n",
       "      <th>...</th>\n",
       "      <th>MovementType</th>\n",
       "      <th>OriginCbg</th>\n",
       "      <th>DestCbg</th>\n",
       "      <th>StartTimezone</th>\n",
       "      <th>EndTimezone</th>\n",
       "      <th>WaypointFreqSec</th>\n",
       "      <th>StartQk</th>\n",
       "      <th>EndQk</th>\n",
       "      <th>Longitude</th>\n",
       "      <th>Latitude</th>\n",
       "    </tr>\n",
       "  </thead>\n",
       "  <tbody>\n",
       "    <tr>\n",
       "      <th>0</th>\n",
       "      <td>00680db75571fdb2ed00fc87b1b419ef</td>\n",
       "      <td>8867e80fcdbb3d6b74e73339f72ef8dc</td>\n",
       "      <td>98b297950041a42470269d56260243a1</td>\n",
       "      <td>1</td>\n",
       "      <td>2024-08-06T13:30:57.000Z</td>\n",
       "      <td>2</td>\n",
       "      <td>2024-08-06T14:03:07.000Z</td>\n",
       "      <td>2</td>\n",
       "      <td>50.0753</td>\n",
       "      <td>14.4336</td>\n",
       "      <td>...</td>\n",
       "      <td>1</td>\n",
       "      <td>NaN</td>\n",
       "      <td>NaN</td>\n",
       "      <td>Europe/Prague</td>\n",
       "      <td>Europe/Prague</td>\n",
       "      <td>10.052083</td>\n",
       "      <td>120212302122221132</td>\n",
       "      <td>120212302122221332</td>\n",
       "      <td>14.4336</td>\n",
       "      <td>50.0753</td>\n",
       "    </tr>\n",
       "    <tr>\n",
       "      <th>1</th>\n",
       "      <td>00e7ac3b46277d46b9cc31d4821cfea4</td>\n",
       "      <td>69c400ce2c69ad168e0366f65244bb41</td>\n",
       "      <td>7fe1f8abaad094e0b5cb1b01d712f708</td>\n",
       "      <td>1</td>\n",
       "      <td>2024-08-07T11:07:37.000Z</td>\n",
       "      <td>3</td>\n",
       "      <td>2024-08-07T13:42:37.000Z</td>\n",
       "      <td>3</td>\n",
       "      <td>50.0654</td>\n",
       "      <td>14.5404</td>\n",
       "      <td>...</td>\n",
       "      <td>1</td>\n",
       "      <td>NaN</td>\n",
       "      <td>NaN</td>\n",
       "      <td>Europe/Prague</td>\n",
       "      <td>Europe/Warsaw</td>\n",
       "      <td>290.625000</td>\n",
       "      <td>120212302123233320</td>\n",
       "      <td>120212311202310133</td>\n",
       "      <td>14.5404</td>\n",
       "      <td>50.0654</td>\n",
       "    </tr>\n",
       "    <tr>\n",
       "      <th>2</th>\n",
       "      <td>0135963269dbb22d3bb82ddd46b25d46</td>\n",
       "      <td>c83fad98fe1936a88a7d85135e91b8f6</td>\n",
       "      <td>8e6b42f1644ecb1327dc03ab345e618b</td>\n",
       "      <td>1</td>\n",
       "      <td>2024-08-04T09:32:56.999Z</td>\n",
       "      <td>7</td>\n",
       "      <td>2024-08-04T10:37:18.000Z</td>\n",
       "      <td>7</td>\n",
       "      <td>49.5178</td>\n",
       "      <td>15.3967</td>\n",
       "      <td>...</td>\n",
       "      <td>1</td>\n",
       "      <td>NaN</td>\n",
       "      <td>NaN</td>\n",
       "      <td>Europe/Prague</td>\n",
       "      <td>Europe/Prague</td>\n",
       "      <td>5.182552</td>\n",
       "      <td>120212321313203011</td>\n",
       "      <td>120212302021102112</td>\n",
       "      <td>15.3967</td>\n",
       "      <td>49.5178</td>\n",
       "    </tr>\n",
       "    <tr>\n",
       "      <th>3</th>\n",
       "      <td>0289a5664287f93a28157cfe95df3042</td>\n",
       "      <td>e14ac160a67a08a25c7422f16b561ec2</td>\n",
       "      <td>7fe1f8abaad094e0b5cb1b01d712f708</td>\n",
       "      <td>1</td>\n",
       "      <td>2024-08-06T10:32:49.000Z</td>\n",
       "      <td>2</td>\n",
       "      <td>2024-08-06T11:04:06.000Z</td>\n",
       "      <td>2</td>\n",
       "      <td>50.0932</td>\n",
       "      <td>14.3988</td>\n",
       "      <td>...</td>\n",
       "      <td>1</td>\n",
       "      <td>NaN</td>\n",
       "      <td>NaN</td>\n",
       "      <td>Europe/Prague</td>\n",
       "      <td>Europe/Prague</td>\n",
       "      <td>11.658385</td>\n",
       "      <td>120212302033132322</td>\n",
       "      <td>120212302120330233</td>\n",
       "      <td>14.3988</td>\n",
       "      <td>50.0932</td>\n",
       "    </tr>\n",
       "    <tr>\n",
       "      <th>4</th>\n",
       "      <td>045c25562a5f7fcc906b08f4175b2dad</td>\n",
       "      <td>8d4540b29323e3bfba4db57be982b5f5</td>\n",
       "      <td>f4f6dce2f3a0f9dada0c2b5b66452017</td>\n",
       "      <td>1</td>\n",
       "      <td>2024-08-07T09:54:51.000Z</td>\n",
       "      <td>3</td>\n",
       "      <td>2024-08-07T10:00:40.000Z</td>\n",
       "      <td>3</td>\n",
       "      <td>50.0351</td>\n",
       "      <td>14.3060</td>\n",
       "      <td>...</td>\n",
       "      <td>1</td>\n",
       "      <td>NaN</td>\n",
       "      <td>NaN</td>\n",
       "      <td>Europe/Prague</td>\n",
       "      <td>Europe/Prague</td>\n",
       "      <td>49.857143</td>\n",
       "      <td>120212302210310001</td>\n",
       "      <td>120212302210322033</td>\n",
       "      <td>14.3060</td>\n",
       "      <td>50.0351</td>\n",
       "    </tr>\n",
       "  </tbody>\n",
       "</table>\n",
       "<p>5 rows × 33 columns</p>\n",
       "</div>"
      ],
      "text/plain": [
       "                             TripId                          DeviceId  \\\n",
       "0  00680db75571fdb2ed00fc87b1b419ef  8867e80fcdbb3d6b74e73339f72ef8dc   \n",
       "1  00e7ac3b46277d46b9cc31d4821cfea4  69c400ce2c69ad168e0366f65244bb41   \n",
       "2  0135963269dbb22d3bb82ddd46b25d46  c83fad98fe1936a88a7d85135e91b8f6   \n",
       "3  0289a5664287f93a28157cfe95df3042  e14ac160a67a08a25c7422f16b561ec2   \n",
       "4  045c25562a5f7fcc906b08f4175b2dad  8d4540b29323e3bfba4db57be982b5f5   \n",
       "\n",
       "                         ProviderId  Mode                 StartDate  \\\n",
       "0  98b297950041a42470269d56260243a1     1  2024-08-06T13:30:57.000Z   \n",
       "1  7fe1f8abaad094e0b5cb1b01d712f708     1  2024-08-07T11:07:37.000Z   \n",
       "2  8e6b42f1644ecb1327dc03ab345e618b     1  2024-08-04T09:32:56.999Z   \n",
       "3  7fe1f8abaad094e0b5cb1b01d712f708     1  2024-08-06T10:32:49.000Z   \n",
       "4  f4f6dce2f3a0f9dada0c2b5b66452017     1  2024-08-07T09:54:51.000Z   \n",
       "\n",
       "   StartWDay                   EndDate  EndWDay  StartLocLat  StartLocLon  \\\n",
       "0          2  2024-08-06T14:03:07.000Z        2      50.0753      14.4336   \n",
       "1          3  2024-08-07T13:42:37.000Z        3      50.0654      14.5404   \n",
       "2          7  2024-08-04T10:37:18.000Z        7      49.5178      15.3967   \n",
       "3          2  2024-08-06T11:04:06.000Z        2      50.0932      14.3988   \n",
       "4          3  2024-08-07T10:00:40.000Z        3      50.0351      14.3060   \n",
       "\n",
       "   ...  MovementType  OriginCbg DestCbg  StartTimezone    EndTimezone  \\\n",
       "0  ...             1        NaN     NaN  Europe/Prague  Europe/Prague   \n",
       "1  ...             1        NaN     NaN  Europe/Prague  Europe/Warsaw   \n",
       "2  ...             1        NaN     NaN  Europe/Prague  Europe/Prague   \n",
       "3  ...             1        NaN     NaN  Europe/Prague  Europe/Prague   \n",
       "4  ...             1        NaN     NaN  Europe/Prague  Europe/Prague   \n",
       "\n",
       "   WaypointFreqSec             StartQk               EndQk Longitude  Latitude  \n",
       "0        10.052083  120212302122221132  120212302122221332   14.4336   50.0753  \n",
       "1       290.625000  120212302123233320  120212311202310133   14.5404   50.0654  \n",
       "2         5.182552  120212321313203011  120212302021102112   15.3967   49.5178  \n",
       "3        11.658385  120212302033132322  120212302120330233   14.3988   50.0932  \n",
       "4        49.857143  120212302210310001  120212302210322033   14.3060   50.0351  \n",
       "\n",
       "[5 rows x 33 columns]"
      ]
     },
     "execution_count": 13,
     "metadata": {},
     "output_type": "execute_result"
    }
   ],
   "source": [
    "trip_df.head()"
   ]
  },
  {
   "cell_type": "code",
   "execution_count": 14,
   "metadata": {},
   "outputs": [
    {
     "data": {
      "text/html": [
       "<div>\n",
       "<style scoped>\n",
       "    .dataframe tbody tr th:only-of-type {\n",
       "        vertical-align: middle;\n",
       "    }\n",
       "\n",
       "    .dataframe tbody tr th {\n",
       "        vertical-align: top;\n",
       "    }\n",
       "\n",
       "    .dataframe thead th {\n",
       "        text-align: right;\n",
       "    }\n",
       "</style>\n",
       "<table border=\"1\" class=\"dataframe\">\n",
       "  <thead>\n",
       "    <tr style=\"text-align: right;\">\n",
       "      <th></th>\n",
       "      <th>geometry</th>\n",
       "    </tr>\n",
       "  </thead>\n",
       "  <tbody>\n",
       "    <tr>\n",
       "      <th>0</th>\n",
       "      <td>POLYGON ((14.39972 50.08946, 14.39972 50.08568...</td>\n",
       "    </tr>\n",
       "  </tbody>\n",
       "</table>\n",
       "</div>"
      ],
      "text/plain": [
       "                                            geometry\n",
       "0  POLYGON ((14.39972 50.08946, 14.39972 50.08568..."
      ]
     },
     "execution_count": 14,
     "metadata": {},
     "output_type": "execute_result"
    }
   ],
   "source": [
    "gdf = gpd.GeoDataFrame.from_features(district1)\n",
    "gdf"
   ]
  },
  {
   "cell_type": "code",
   "execution_count": 16,
   "metadata": {},
   "outputs": [],
   "source": [
    "df['geometry'] = df.apply(lambda x: Point(x['Longitude'], x['Latitude']), axis=1)"
   ]
  },
  {
   "cell_type": "code",
   "execution_count": 17,
   "metadata": {},
   "outputs": [],
   "source": [
    "gdf_wp = gpd.GeoDataFrame(df, geometry=df['geometry'])"
   ]
  },
  {
   "cell_type": "code",
   "execution_count": 18,
   "metadata": {},
   "outputs": [
    {
     "name": "stderr",
     "output_type": "stream",
     "text": [
      "/usr/local/lib/python3.11/site-packages/IPython/core/interactiveshell.py:3517: FutureWarning: The `op` parameter is deprecated and will be removed in a future release. Please use the `predicate` parameter instead.\n",
      "  if await self.run_code(code, result, async_=asy):\n"
     ]
    }
   ],
   "source": [
    "gdf_within = gpd.sjoin(gdf_wp, gdf, how=\"inner\", op=\"within\")"
   ]
  },
  {
   "cell_type": "code",
   "execution_count": 19,
   "metadata": {},
   "outputs": [
    {
     "data": {
      "text/html": [
       "<div>\n",
       "<style scoped>\n",
       "    .dataframe tbody tr th:only-of-type {\n",
       "        vertical-align: middle;\n",
       "    }\n",
       "\n",
       "    .dataframe tbody tr th {\n",
       "        vertical-align: top;\n",
       "    }\n",
       "\n",
       "    .dataframe thead th {\n",
       "        text-align: right;\n",
       "    }\n",
       "</style>\n",
       "<table border=\"1\" class=\"dataframe\">\n",
       "  <thead>\n",
       "    <tr style=\"text-align: right;\">\n",
       "      <th></th>\n",
       "      <th>TripId</th>\n",
       "      <th>WaypointSequence</th>\n",
       "      <th>CaptureDate</th>\n",
       "      <th>Latitude</th>\n",
       "      <th>Longitude</th>\n",
       "      <th>SegmentId</th>\n",
       "      <th>ZoneName</th>\n",
       "      <th>Frc</th>\n",
       "      <th>DeviceId</th>\n",
       "      <th>RawSpeed</th>\n",
       "      <th>RawSpeedMetric</th>\n",
       "      <th>geometry</th>\n",
       "      <th>index_right</th>\n",
       "    </tr>\n",
       "  </thead>\n",
       "  <tbody>\n",
       "    <tr>\n",
       "      <th>54631</th>\n",
       "      <td>abe3c2039c444e7b10ecafd0236e5a17</td>\n",
       "      <td>92</td>\n",
       "      <td>2024-08-05T10:29:10.000Z</td>\n",
       "      <td>50.089329</td>\n",
       "      <td>14.399761</td>\n",
       "      <td>NaN</td>\n",
       "      <td>NaN</td>\n",
       "      <td>NaN</td>\n",
       "      <td>b7b7e6f1dc9286630209fceafd6dff99</td>\n",
       "      <td>NaN</td>\n",
       "      <td>kph</td>\n",
       "      <td>POINT (14.39976 50.08933)</td>\n",
       "      <td>0</td>\n",
       "    </tr>\n",
       "    <tr>\n",
       "      <th>54632</th>\n",
       "      <td>abe3c2039c444e7b10ecafd0236e5a17</td>\n",
       "      <td>93</td>\n",
       "      <td>2024-08-05T10:29:13.000Z</td>\n",
       "      <td>50.089307</td>\n",
       "      <td>14.399822</td>\n",
       "      <td>NaN</td>\n",
       "      <td>NaN</td>\n",
       "      <td>NaN</td>\n",
       "      <td>b7b7e6f1dc9286630209fceafd6dff99</td>\n",
       "      <td>NaN</td>\n",
       "      <td>kph</td>\n",
       "      <td>POINT (14.39982 50.08931)</td>\n",
       "      <td>0</td>\n",
       "    </tr>\n",
       "    <tr>\n",
       "      <th>54633</th>\n",
       "      <td>abe3c2039c444e7b10ecafd0236e5a17</td>\n",
       "      <td>94</td>\n",
       "      <td>2024-08-05T10:29:16.000Z</td>\n",
       "      <td>50.089308</td>\n",
       "      <td>14.399869</td>\n",
       "      <td>NaN</td>\n",
       "      <td>NaN</td>\n",
       "      <td>NaN</td>\n",
       "      <td>b7b7e6f1dc9286630209fceafd6dff99</td>\n",
       "      <td>NaN</td>\n",
       "      <td>kph</td>\n",
       "      <td>POINT (14.39987 50.08931)</td>\n",
       "      <td>0</td>\n",
       "    </tr>\n",
       "    <tr>\n",
       "      <th>54634</th>\n",
       "      <td>abe3c2039c444e7b10ecafd0236e5a17</td>\n",
       "      <td>95</td>\n",
       "      <td>2024-08-05T10:29:19.000Z</td>\n",
       "      <td>50.089310</td>\n",
       "      <td>14.399888</td>\n",
       "      <td>NaN</td>\n",
       "      <td>NaN</td>\n",
       "      <td>NaN</td>\n",
       "      <td>b7b7e6f1dc9286630209fceafd6dff99</td>\n",
       "      <td>NaN</td>\n",
       "      <td>kph</td>\n",
       "      <td>POINT (14.39989 50.08931)</td>\n",
       "      <td>0</td>\n",
       "    </tr>\n",
       "    <tr>\n",
       "      <th>54635</th>\n",
       "      <td>abe3c2039c444e7b10ecafd0236e5a17</td>\n",
       "      <td>96</td>\n",
       "      <td>2024-08-05T10:29:22.000Z</td>\n",
       "      <td>50.089311</td>\n",
       "      <td>14.399920</td>\n",
       "      <td>NaN</td>\n",
       "      <td>NaN</td>\n",
       "      <td>NaN</td>\n",
       "      <td>b7b7e6f1dc9286630209fceafd6dff99</td>\n",
       "      <td>NaN</td>\n",
       "      <td>kph</td>\n",
       "      <td>POINT (14.39992 50.08931)</td>\n",
       "      <td>0</td>\n",
       "    </tr>\n",
       "  </tbody>\n",
       "</table>\n",
       "</div>"
      ],
      "text/plain": [
       "                                 TripId  WaypointSequence  \\\n",
       "54631  abe3c2039c444e7b10ecafd0236e5a17                92   \n",
       "54632  abe3c2039c444e7b10ecafd0236e5a17                93   \n",
       "54633  abe3c2039c444e7b10ecafd0236e5a17                94   \n",
       "54634  abe3c2039c444e7b10ecafd0236e5a17                95   \n",
       "54635  abe3c2039c444e7b10ecafd0236e5a17                96   \n",
       "\n",
       "                    CaptureDate   Latitude  Longitude  SegmentId  ZoneName  \\\n",
       "54631  2024-08-05T10:29:10.000Z  50.089329  14.399761        NaN       NaN   \n",
       "54632  2024-08-05T10:29:13.000Z  50.089307  14.399822        NaN       NaN   \n",
       "54633  2024-08-05T10:29:16.000Z  50.089308  14.399869        NaN       NaN   \n",
       "54634  2024-08-05T10:29:19.000Z  50.089310  14.399888        NaN       NaN   \n",
       "54635  2024-08-05T10:29:22.000Z  50.089311  14.399920        NaN       NaN   \n",
       "\n",
       "       Frc                          DeviceId  RawSpeed RawSpeedMetric  \\\n",
       "54631  NaN  b7b7e6f1dc9286630209fceafd6dff99       NaN            kph   \n",
       "54632  NaN  b7b7e6f1dc9286630209fceafd6dff99       NaN            kph   \n",
       "54633  NaN  b7b7e6f1dc9286630209fceafd6dff99       NaN            kph   \n",
       "54634  NaN  b7b7e6f1dc9286630209fceafd6dff99       NaN            kph   \n",
       "54635  NaN  b7b7e6f1dc9286630209fceafd6dff99       NaN            kph   \n",
       "\n",
       "                        geometry  index_right  \n",
       "54631  POINT (14.39976 50.08933)            0  \n",
       "54632  POINT (14.39982 50.08931)            0  \n",
       "54633  POINT (14.39987 50.08931)            0  \n",
       "54634  POINT (14.39989 50.08931)            0  \n",
       "54635  POINT (14.39992 50.08931)            0  "
      ]
     },
     "execution_count": 19,
     "metadata": {},
     "output_type": "execute_result"
    }
   ],
   "source": [
    "gdf_within.head()"
   ]
  },
  {
   "cell_type": "markdown",
   "metadata": {},
   "source": [
    "### merge with waypoints"
   ]
  },
  {
   "cell_type": "code",
   "execution_count": 126,
   "metadata": {},
   "outputs": [
    {
     "ename": "",
     "evalue": "",
     "output_type": "error",
     "traceback": [
      "\u001b[1;31mThe Kernel crashed while executing code in the current cell or a previous cell. \n",
      "\u001b[1;31mPlease review the code in the cell(s) to identify a possible cause of the failure. \n",
      "\u001b[1;31mClick <a href='https://aka.ms/vscodeJupyterKernelCrash'>here</a> for more info. \n",
      "\u001b[1;31mView Jupyter <a href='command:jupyter.viewOutput'>log</a> for further details."
     ]
    }
   ],
   "source": [
    "district_data = pd.merge(df, gdf_within, how='inner', on='TripId')"
   ]
  },
  {
   "cell_type": "code",
   "execution_count": 119,
   "metadata": {},
   "outputs": [
    {
     "data": {
      "text/plain": [
       "Index(['TripId', 'WaypointSequence_x', 'CaptureDate_x', 'Latitude_x',\n",
       "       'Longitude_x', 'SegmentId_x', 'ZoneName_x', 'Frc_x', 'DeviceId_x',\n",
       "       'RawSpeed_x', 'RawSpeedMetric_x', 'geometry_x', 'WaypointSequence_y',\n",
       "       'CaptureDate_y', 'Latitude_y', 'Longitude_y', 'SegmentId_y',\n",
       "       'ZoneName_y', 'Frc_y', 'DeviceId_y', 'RawSpeed_y', 'RawSpeedMetric_y',\n",
       "       'geometry_y', 'index_right'],\n",
       "      dtype='object')"
      ]
     },
     "execution_count": 119,
     "metadata": {},
     "output_type": "execute_result"
    }
   ],
   "source": [
    "district_data.columns"
   ]
  },
  {
   "cell_type": "code",
   "execution_count": 122,
   "metadata": {},
   "outputs": [],
   "source": [
    "cols = ['TripId', 'CaptureDate_x', 'RawSpeedMetric_x', 'RawSpeed_x', 'geometry_x']"
   ]
  },
  {
   "cell_type": "code",
   "execution_count": 1,
   "metadata": {},
   "outputs": [
    {
     "ename": "NameError",
     "evalue": "name 'district_data' is not defined",
     "output_type": "error",
     "traceback": [
      "\u001b[0;31m---------------------------------------------------------------------------\u001b[0m",
      "\u001b[0;31mNameError\u001b[0m                                 Traceback (most recent call last)",
      "Cell \u001b[0;32mIn[1], line 1\u001b[0m\n\u001b[0;32m----> 1\u001b[0m district_data \u001b[38;5;241m=\u001b[39m \u001b[43mdistrict_data\u001b[49m[cols]\n",
      "\u001b[0;31mNameError\u001b[0m: name 'district_data' is not defined"
     ]
    }
   ],
   "source": [
    "district_data = district_data[cols]"
   ]
  },
  {
   "cell_type": "code",
   "execution_count": 125,
   "metadata": {},
   "outputs": [
    {
     "data": {
      "text/plain": [
       "['TripId', 'CaptureDate_x', 'RawSpeedMetric_x', 'RawSpeed_x', 'geometry_x']"
      ]
     },
     "execution_count": 125,
     "metadata": {},
     "output_type": "execute_result"
    }
   ],
   "source": [
    "district_data"
   ]
  },
  {
   "cell_type": "code",
   "execution_count": 118,
   "metadata": {},
   "outputs": [],
   "source": [
    "test = district_data[0:10000]"
   ]
  },
  {
   "cell_type": "code",
   "execution_count": null,
   "metadata": {},
   "outputs": [],
   "source": []
  },
  {
   "cell_type": "code",
   "execution_count": null,
   "metadata": {},
   "outputs": [],
   "source": [
    "test "
   ]
  }
 ],
 "metadata": {
  "kernelspec": {
   "display_name": "Python 3",
   "language": "python",
   "name": "python3"
  },
  "language_info": {
   "codemirror_mode": {
    "name": "ipython",
    "version": 3
   },
   "file_extension": ".py",
   "mimetype": "text/x-python",
   "name": "python",
   "nbconvert_exporter": "python",
   "pygments_lexer": "ipython3",
   "version": "3.11.10"
  }
 },
 "nbformat": 4,
 "nbformat_minor": 2
}
