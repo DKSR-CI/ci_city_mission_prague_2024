{
 "cells": [
  {
   "cell_type": "code",
   "execution_count": 2,
   "metadata": {},
   "outputs": [],
   "source": [
    "import numpy as np\n",
    "import pandas as pd\n",
    "import json\n",
    "import math\n",
    "import matplotlib.pyplot as plt\n",
    "import seaborn as sns\n",
    "from keplergl import KeplerGl\n",
    "import requests\n",
    "from datetime import datetime\n",
    "import networkx as nx\n",
    "import osmnx as ox\n",
    "from shapely.geometry import LineString\n",
    "from shapely import to_geojson\n",
    "import os\n",
    "\n",
    "%matplotlib inline"
   ]
  },
  {
   "cell_type": "code",
   "execution_count": 3,
   "metadata": {},
   "outputs": [],
   "source": [
    "def create_mds_data(df, G):\n",
    "    df.sort_values('timestamp', inplace=True, ignore_index=True)\n",
    "\n",
    "    df['lat'] = df['lat'].apply(lambda x: round(x,3))\n",
    "    df['lon'] = df['lon'].apply(lambda x: round(x,3))\n",
    "    reduced_df = df.drop_duplicates(['bike_id','lat', 'lon'])\n",
    "    point_counts = reduced_df['bike_id'].value_counts()\n",
    "    ids = point_counts[point_counts > 1].keys()\n",
    "\n",
    "    reduced_df = reduced_df[reduced_df['bike_id'].isin(ids)].reset_index(drop=True)\n",
    "    reduced_df['timestamp'] = pd.to_datetime(reduced_df['timestamp'], format='%Y-%m-%dT%H:%M:%S.%fZ')\n",
    "\n",
    "\n",
    "    dates, bike_ids, edges, lengths, global_edges = [], [], [], [], []\n",
    "\n",
    "    for id in ids:\n",
    "        trip = reduced_df[reduced_df['bike_id'] == id].reset_index(drop=True)\n",
    "        for i in range(1,len(trip.index)):\n",
    "            edges_i = []\n",
    "            length = 0\n",
    "            start = ox.nearest_nodes(G, trip['lon'][i-1], trip['lat'][i-1])\n",
    "            end = ox.nearest_nodes(G, trip['lon'][i], trip['lat'][i])\n",
    "            path = ox.shortest_path(G, start, end)\n",
    "            try:\n",
    "                for j in range(1,len(path)):\n",
    "                    length += G.get_edge_data(path[j-1],path[j])[0]['length']\n",
    "                    edges_i.append((path[j-1],path[j]))\n",
    "                    global_edges.append((path[j-1],path[j]))\n",
    "                dates.append(trip['timestamp'][0].date())\n",
    "                bike_ids.append(id)\n",
    "                edges.append(edges_i)\n",
    "                lengths.append(length)\n",
    "            except:\n",
    "                pass\n",
    "\n",
    "    trip_df = pd.DataFrame({'date':dates, 'bike_id':bike_ids, 'trip_edges':edges, 'trip_length':lengths})\n",
    "\n",
    "    \n",
    "\n",
    "    return trip_df, global_edges"
   ]
  },
  {
   "cell_type": "code",
   "execution_count": 4,
   "metadata": {},
   "outputs": [],
   "source": [
    "def get_name_shape(G:nx.classes.multidigraph.MultiDiGraph) -> pd.DataFrame:\n",
    "    nodes = ox.graph_to_gdfs(G, edges=False)\n",
    "    nodes_dict = nodes.to_dict()\n",
    "\n",
    "    G_edges = list(G.edges())\n",
    "    G_shapes = []\n",
    "    G_names = []\n",
    "    for edge in G_edges:\n",
    "        try:\n",
    "            name_i = G.get_edge_data(edge[0],edge[1])[0]['name']\n",
    "            G_names.append(name_i)\n",
    "        except:\n",
    "            G_names.append(None)\n",
    "        try:\n",
    "            shape_i = G.get_edge_data(edge[0],edge[1])[0]['geometry']\n",
    "            G_shapes.append(shape_i)\n",
    "        except:\n",
    "            start = (nodes_dict['x'][edge[0]],nodes_dict['y'][edge[0]])\n",
    "            end = (nodes_dict['x'][edge[1]],nodes_dict['y'][edge[1]])\n",
    "            G_shapes.append(LineString([start,end]))\n",
    "\n",
    "    #G_edges = [str(edge) for edge in G_edges]\n",
    "    #G_shapes = [str(edge) for edge in G_shapes]\n",
    "    #G_names = [str(edge) for edge in G_names]\n",
    "\n",
    "    name_shape_df = pd.DataFrame({'edge':G_edges, 'name':G_names, 'shape':G_shapes})\n",
    "    #edge_name_dict = dict(zip(G_edges,G_names))\n",
    "    #edge_shape_dict = dict(zip(G_edges,G_shapes))\n",
    "    return name_shape_df"
   ]
  },
  {
   "cell_type": "code",
   "execution_count": 5,
   "metadata": {},
   "outputs": [],
   "source": [
    "G = ox.graph_from_place('Prague, Czechia', network_type='drive')"
   ]
  },
  {
   "cell_type": "code",
   "execution_count": 6,
   "metadata": {},
   "outputs": [],
   "source": [
    "name_shape_df = get_name_shape(G)"
   ]
  },
  {
   "cell_type": "code",
   "execution_count": 7,
   "metadata": {},
   "outputs": [],
   "source": [
    "import sys\n",
    "sys.path.append('../')"
   ]
  },
  {
   "cell_type": "code",
   "execution_count": 33,
   "metadata": {},
   "outputs": [],
   "source": [
    "user = \"admin2\"\n",
    "pw = \"ycAlXSnEn#MuEwLj9\""
   ]
  },
  {
   "cell_type": "code",
   "execution_count": 35,
   "metadata": {},
   "outputs": [],
   "source": [
    "url = 'https://pilot.dksr.city/UrbanPulseData/historic/sensordata?eventTypeName=NextBikePragV1EventType&since=2024-09-01T00:00:00.000Z&until=2024-09-03T00:00:00.000Z'\n",
    "text = requests.get(url, auth=(user, pw))\n",
    "\n",
    "data = json.loads(text.text)\n",
    "df = pd.json_normalize(data['sensordata'])"
   ]
  },
  {
   "cell_type": "code",
   "execution_count": null,
   "metadata": {},
   "outputs": [],
   "source": []
  }
 ],
 "metadata": {
  "kernelspec": {
   "display_name": ".venv",
   "language": "python",
   "name": "python3"
  },
  "language_info": {
   "codemirror_mode": {
    "name": "ipython",
    "version": 3
   },
   "file_extension": ".py",
   "mimetype": "text/x-python",
   "name": "python",
   "nbconvert_exporter": "python",
   "pygments_lexer": "ipython3",
   "version": "3.11.10"
  }
 },
 "nbformat": 4,
 "nbformat_minor": 2
}
