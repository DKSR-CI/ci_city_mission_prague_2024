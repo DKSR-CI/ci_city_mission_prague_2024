{
 "cells": [
  {
   "cell_type": "code",
   "execution_count": 23,
   "metadata": {},
   "outputs": [],
   "source": [
    "import numpy as np\n",
    "import pandas as pd\n",
    "import json\n",
    "import math\n",
    "import matplotlib.pyplot as plt\n",
    "import seaborn as sns\n",
    "from keplergl import KeplerGl\n",
    "import requests\n",
    "from datetime import datetime\n",
    "import networkx as nx\n",
    "import osmnx as ox\n",
    "from shapely.geometry import LineString\n",
    "from shapely import to_geojson\n",
    "import os\n",
    "\n",
    "%matplotlib inline"
   ]
  },
  {
   "cell_type": "code",
   "execution_count": 3,
   "metadata": {},
   "outputs": [],
   "source": [
    "def create_mds_data(df, G):\n",
    "    df.sort_values('timestamp', inplace=True, ignore_index=True)\n",
    "\n",
    "    df['lat'] = df['lat'].apply(lambda x: round(x,3))\n",
    "    df['lon'] = df['lon'].apply(lambda x: round(x,3))\n",
    "    reduced_df = df.drop_duplicates(['bike_id','lat', 'lon'])\n",
    "    point_counts = reduced_df['bike_id'].value_counts()\n",
    "    ids = point_counts[point_counts > 1].keys()\n",
    "\n",
    "    reduced_df = reduced_df[reduced_df['bike_id'].isin(ids)].reset_index(drop=True)\n",
    "    reduced_df['timestamp'] = pd.to_datetime(reduced_df['timestamp'], format='%Y-%m-%dT%H:%M:%S.%fZ')\n",
    "\n",
    "\n",
    "    dates, bike_ids, edges, lengths, global_edges = [], [], [], [], []\n",
    "\n",
    "    for id in ids:\n",
    "        trip = reduced_df[reduced_df['bike_id'] == id].reset_index(drop=True)\n",
    "        for i in range(1,len(trip.index)):\n",
    "            edges_i = []\n",
    "            length = 0\n",
    "            start = ox.nearest_nodes(G, trip['lon'][i-1], trip['lat'][i-1])\n",
    "            end = ox.nearest_nodes(G, trip['lon'][i], trip['lat'][i])\n",
    "            path = ox.shortest_path(G, start, end)\n",
    "            try:\n",
    "                for j in range(1,len(path)):\n",
    "                    length += G.get_edge_data(path[j-1],path[j])[0]['length']\n",
    "                    edges_i.append((path[j-1],path[j]))\n",
    "                    global_edges.append((path[j-1],path[j]))\n",
    "                dates.append(trip['timestamp'][0].date())\n",
    "                bike_ids.append(id)\n",
    "                edges.append(edges_i)\n",
    "                lengths.append(length)\n",
    "            except:\n",
    "                pass\n",
    "\n",
    "    trip_df = pd.DataFrame({'date':dates, 'bike_id':bike_ids, 'trip_edges':edges, 'trip_length':lengths})\n",
    "\n",
    "    \n",
    "\n",
    "    return trip_df, global_edges"
   ]
  },
  {
   "cell_type": "code",
   "execution_count": 4,
   "metadata": {},
   "outputs": [],
   "source": [
    "def get_name_shape(G:nx.classes.multidigraph.MultiDiGraph) -> pd.DataFrame:\n",
    "    nodes = ox.graph_to_gdfs(G, edges=False)\n",
    "    nodes_dict = nodes.to_dict()\n",
    "\n",
    "    G_edges = list(G.edges())\n",
    "    G_shapes = []\n",
    "    G_names = []\n",
    "    for edge in G_edges:\n",
    "        try:\n",
    "            name_i = G.get_edge_data(edge[0],edge[1])[0]['name']\n",
    "            G_names.append(name_i)\n",
    "        except:\n",
    "            G_names.append(None)\n",
    "        try:\n",
    "            shape_i = G.get_edge_data(edge[0],edge[1])[0]['geometry']\n",
    "            G_shapes.append(shape_i)\n",
    "        except:\n",
    "            start = (nodes_dict['x'][edge[0]],nodes_dict['y'][edge[0]])\n",
    "            end = (nodes_dict['x'][edge[1]],nodes_dict['y'][edge[1]])\n",
    "            G_shapes.append(LineString([start,end]))\n",
    "\n",
    "    #G_edges = [str(edge) for edge in G_edges]\n",
    "    #G_shapes = [str(edge) for edge in G_shapes]\n",
    "    #G_names = [str(edge) for edge in G_names]\n",
    "\n",
    "    name_shape_df = pd.DataFrame({'edge':G_edges, 'name':G_names, 'shape':G_shapes})\n",
    "    #edge_name_dict = dict(zip(G_edges,G_names))\n",
    "    #edge_shape_dict = dict(zip(G_edges,G_shapes))\n",
    "    return name_shape_df"
   ]
  },
  {
   "cell_type": "code",
   "execution_count": 5,
   "metadata": {},
   "outputs": [],
   "source": [
    "G = ox.graph_from_place('Prague, Czechia', network_type='drive')"
   ]
  },
  {
   "cell_type": "code",
   "execution_count": 6,
   "metadata": {},
   "outputs": [],
   "source": [
    "name_shape_df = get_name_shape(G)"
   ]
  },
  {
   "cell_type": "code",
   "execution_count": 20,
   "metadata": {},
   "outputs": [],
   "source": [
    "import sys\n",
    "sys.path.append('../')"
   ]
  },
  {
   "cell_type": "code",
   "execution_count": 21,
   "metadata": {},
   "outputs": [],
   "source": [
    "user = os.environ.get(\"oup_usr\")\n",
    "pw = os.environ.get(\"oup_pw\")"
   ]
  },
  {
   "cell_type": "code",
   "execution_count": 22,
   "metadata": {},
   "outputs": [
    {
     "name": "stdout",
     "output_type": "stream",
     "text": [
      "None\n"
     ]
    }
   ],
   "source": [
    "print(user)"
   ]
  },
  {
   "cell_type": "code",
   "execution_count": 12,
   "metadata": {},
   "outputs": [
    {
     "ename": "JSONDecodeError",
     "evalue": "Expecting value: line 1 column 1 (char 0)",
     "output_type": "error",
     "traceback": [
      "\u001b[1;31m---------------------------------------------------------------------------\u001b[0m",
      "\u001b[1;31mJSONDecodeError\u001b[0m                           Traceback (most recent call last)",
      "Cell \u001b[1;32mIn[12], line 4\u001b[0m\n\u001b[0;32m      1\u001b[0m url \u001b[38;5;241m=\u001b[39m \u001b[38;5;124m'\u001b[39m\u001b[38;5;124mhttps://pilot.dksr.city/UrbanPulseData/historic/sensordata?eventTypeName=NextBikePragV1EventType&since=2024-09-01T00:00:00.000Z&until=2024-04-03T00:00:00.000Z\u001b[39m\u001b[38;5;124m'\u001b[39m\n\u001b[0;32m      2\u001b[0m text \u001b[38;5;241m=\u001b[39m requests\u001b[38;5;241m.\u001b[39mget(url, auth\u001b[38;5;241m=\u001b[39m(user, pw))\n\u001b[1;32m----> 4\u001b[0m data \u001b[38;5;241m=\u001b[39m \u001b[43mjson\u001b[49m\u001b[38;5;241;43m.\u001b[39;49m\u001b[43mloads\u001b[49m\u001b[43m(\u001b[49m\u001b[43mtext\u001b[49m\u001b[38;5;241;43m.\u001b[39;49m\u001b[43mtext\u001b[49m\u001b[43m)\u001b[49m\n\u001b[0;32m      5\u001b[0m df \u001b[38;5;241m=\u001b[39m pd\u001b[38;5;241m.\u001b[39mjson_normalize(data[\u001b[38;5;124m'\u001b[39m\u001b[38;5;124msensordata\u001b[39m\u001b[38;5;124m'\u001b[39m])\n",
      "File \u001b[1;32mc:\\Users\\FabianLandua\\anaconda3\\Lib\\json\\__init__.py:346\u001b[0m, in \u001b[0;36mloads\u001b[1;34m(s, cls, object_hook, parse_float, parse_int, parse_constant, object_pairs_hook, **kw)\u001b[0m\n\u001b[0;32m    341\u001b[0m     s \u001b[38;5;241m=\u001b[39m s\u001b[38;5;241m.\u001b[39mdecode(detect_encoding(s), \u001b[38;5;124m'\u001b[39m\u001b[38;5;124msurrogatepass\u001b[39m\u001b[38;5;124m'\u001b[39m)\n\u001b[0;32m    343\u001b[0m \u001b[38;5;28;01mif\u001b[39;00m (\u001b[38;5;28mcls\u001b[39m \u001b[38;5;129;01mis\u001b[39;00m \u001b[38;5;28;01mNone\u001b[39;00m \u001b[38;5;129;01mand\u001b[39;00m object_hook \u001b[38;5;129;01mis\u001b[39;00m \u001b[38;5;28;01mNone\u001b[39;00m \u001b[38;5;129;01mand\u001b[39;00m\n\u001b[0;32m    344\u001b[0m         parse_int \u001b[38;5;129;01mis\u001b[39;00m \u001b[38;5;28;01mNone\u001b[39;00m \u001b[38;5;129;01mand\u001b[39;00m parse_float \u001b[38;5;129;01mis\u001b[39;00m \u001b[38;5;28;01mNone\u001b[39;00m \u001b[38;5;129;01mand\u001b[39;00m\n\u001b[0;32m    345\u001b[0m         parse_constant \u001b[38;5;129;01mis\u001b[39;00m \u001b[38;5;28;01mNone\u001b[39;00m \u001b[38;5;129;01mand\u001b[39;00m object_pairs_hook \u001b[38;5;129;01mis\u001b[39;00m \u001b[38;5;28;01mNone\u001b[39;00m \u001b[38;5;129;01mand\u001b[39;00m \u001b[38;5;129;01mnot\u001b[39;00m kw):\n\u001b[1;32m--> 346\u001b[0m     \u001b[38;5;28;01mreturn\u001b[39;00m \u001b[43m_default_decoder\u001b[49m\u001b[38;5;241;43m.\u001b[39;49m\u001b[43mdecode\u001b[49m\u001b[43m(\u001b[49m\u001b[43ms\u001b[49m\u001b[43m)\u001b[49m\n\u001b[0;32m    347\u001b[0m \u001b[38;5;28;01mif\u001b[39;00m \u001b[38;5;28mcls\u001b[39m \u001b[38;5;129;01mis\u001b[39;00m \u001b[38;5;28;01mNone\u001b[39;00m:\n\u001b[0;32m    348\u001b[0m     \u001b[38;5;28mcls\u001b[39m \u001b[38;5;241m=\u001b[39m JSONDecoder\n",
      "File \u001b[1;32mc:\\Users\\FabianLandua\\anaconda3\\Lib\\json\\decoder.py:337\u001b[0m, in \u001b[0;36mJSONDecoder.decode\u001b[1;34m(self, s, _w)\u001b[0m\n\u001b[0;32m    332\u001b[0m \u001b[38;5;28;01mdef\u001b[39;00m \u001b[38;5;21mdecode\u001b[39m(\u001b[38;5;28mself\u001b[39m, s, _w\u001b[38;5;241m=\u001b[39mWHITESPACE\u001b[38;5;241m.\u001b[39mmatch):\n\u001b[0;32m    333\u001b[0m \u001b[38;5;250m    \u001b[39m\u001b[38;5;124;03m\"\"\"Return the Python representation of ``s`` (a ``str`` instance\u001b[39;00m\n\u001b[0;32m    334\u001b[0m \u001b[38;5;124;03m    containing a JSON document).\u001b[39;00m\n\u001b[0;32m    335\u001b[0m \n\u001b[0;32m    336\u001b[0m \u001b[38;5;124;03m    \"\"\"\u001b[39;00m\n\u001b[1;32m--> 337\u001b[0m     obj, end \u001b[38;5;241m=\u001b[39m \u001b[38;5;28;43mself\u001b[39;49m\u001b[38;5;241;43m.\u001b[39;49m\u001b[43mraw_decode\u001b[49m\u001b[43m(\u001b[49m\u001b[43ms\u001b[49m\u001b[43m,\u001b[49m\u001b[43m \u001b[49m\u001b[43midx\u001b[49m\u001b[38;5;241;43m=\u001b[39;49m\u001b[43m_w\u001b[49m\u001b[43m(\u001b[49m\u001b[43ms\u001b[49m\u001b[43m,\u001b[49m\u001b[43m \u001b[49m\u001b[38;5;241;43m0\u001b[39;49m\u001b[43m)\u001b[49m\u001b[38;5;241;43m.\u001b[39;49m\u001b[43mend\u001b[49m\u001b[43m(\u001b[49m\u001b[43m)\u001b[49m\u001b[43m)\u001b[49m\n\u001b[0;32m    338\u001b[0m     end \u001b[38;5;241m=\u001b[39m _w(s, end)\u001b[38;5;241m.\u001b[39mend()\n\u001b[0;32m    339\u001b[0m     \u001b[38;5;28;01mif\u001b[39;00m end \u001b[38;5;241m!=\u001b[39m \u001b[38;5;28mlen\u001b[39m(s):\n",
      "File \u001b[1;32mc:\\Users\\FabianLandua\\anaconda3\\Lib\\json\\decoder.py:355\u001b[0m, in \u001b[0;36mJSONDecoder.raw_decode\u001b[1;34m(self, s, idx)\u001b[0m\n\u001b[0;32m    353\u001b[0m     obj, end \u001b[38;5;241m=\u001b[39m \u001b[38;5;28mself\u001b[39m\u001b[38;5;241m.\u001b[39mscan_once(s, idx)\n\u001b[0;32m    354\u001b[0m \u001b[38;5;28;01mexcept\u001b[39;00m \u001b[38;5;167;01mStopIteration\u001b[39;00m \u001b[38;5;28;01mas\u001b[39;00m err:\n\u001b[1;32m--> 355\u001b[0m     \u001b[38;5;28;01mraise\u001b[39;00m JSONDecodeError(\u001b[38;5;124m\"\u001b[39m\u001b[38;5;124mExpecting value\u001b[39m\u001b[38;5;124m\"\u001b[39m, s, err\u001b[38;5;241m.\u001b[39mvalue) \u001b[38;5;28;01mfrom\u001b[39;00m \u001b[38;5;28;01mNone\u001b[39;00m\n\u001b[0;32m    356\u001b[0m \u001b[38;5;28;01mreturn\u001b[39;00m obj, end\n",
      "\u001b[1;31mJSONDecodeError\u001b[0m: Expecting value: line 1 column 1 (char 0)"
     ]
    }
   ],
   "source": [
    "url = 'https://pilot.dksr.city/UrbanPulseData/historic/sensordata?eventTypeName=NextBikePragV1EventType&since=2024-09-01T00:00:00.000Z&until=2024-04-03T00:00:00.000Z'\n",
    "text = requests.get(url, auth=(user, pw))\n",
    "\n",
    "data = json.loads(text.text)\n",
    "df = pd.json_normalize(data['sensordata'])"
   ]
  },
  {
   "cell_type": "code",
   "execution_count": 13,
   "metadata": {},
   "outputs": [
    {
     "data": {
      "text/plain": [
       "'Invalid credentials.'"
      ]
     },
     "execution_count": 13,
     "metadata": {},
     "output_type": "execute_result"
    }
   ],
   "source": [
    "text.text"
   ]
  },
  {
   "cell_type": "code",
   "execution_count": null,
   "metadata": {},
   "outputs": [],
   "source": []
  }
 ],
 "metadata": {
  "kernelspec": {
   "display_name": ".venv",
   "language": "python",
   "name": "python3"
  },
  "language_info": {
   "codemirror_mode": {
    "name": "ipython",
    "version": 3
   },
   "file_extension": ".py",
   "mimetype": "text/x-python",
   "name": "python",
   "nbconvert_exporter": "python",
   "pygments_lexer": "ipython3",
   "version": "3.11.5"
  }
 },
 "nbformat": 4,
 "nbformat_minor": 2
}
