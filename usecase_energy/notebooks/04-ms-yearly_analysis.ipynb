{
 "cells": [
  {
   "cell_type": "code",
   "execution_count": null,
   "metadata": {},
   "outputs": [],
   "source": []
  },
  {
   "cell_type": "code",
   "execution_count": 1,
   "metadata": {},
   "outputs": [],
   "source": [
    "%load_ext autoreload\n",
    "%autoreload 2\n",
    "\n",
    "import sys\n",
    "sys.path.append(\"../\")\n",
    "\n",
    "import plotly.express as px\n",
    "import numpy as np\n",
    "import pandas as pd"
   ]
  },
  {
   "cell_type": "code",
   "execution_count": 2,
   "metadata": {},
   "outputs": [],
   "source": [
    "all_buildings_df = pd.read_parquet(\"../data/processed/all_buildings.parquet\")\n",
    "\n",
    "all_buildings_df.replace(0, np.nan, inplace=True)\n",
    "\n",
    "all_buildings_df.drop(columns=['10.6-PF1'], inplace=True)\n",
    "\n",
    "all_buildings_df = all_buildings_df.asfreq(\"h\")"
   ]
  },
  {
   "cell_type": "code",
   "execution_count": null,
   "metadata": {},
   "outputs": [],
   "source": []
  },
  {
   "cell_type": "code",
   "execution_count": null,
   "metadata": {},
   "outputs": [],
   "source": [
    "all_buildings_diff_df = all_buildings_df.ffill().diff()[~all_buildings_df.isna()]\n",
    "\n",
    "all_buildings_diff_df = all_buildings_diff_df[all_buildings_diff_df > 0]\n",
    "all_buildings_diff_df = all_buildings_diff_df[all_buildings_diff_df < 2000]\n",
    "\n",
    "# convert all to kWh\n",
    "for col in [x for x in all_buildings_diff_df if \"TF\" in x]:\n",
    "    all_buildings_diff_df[col] = all_buildings_diff_df[col] * 277.78\n",
    "\n",
    "for col in [x for x in all_buildings_diff_df if \"PF\" in x]:\n",
    "    all_buildings_diff_df[col] = all_buildings_diff_df[col] * 10.694\n",
    "    \n",
    "all_buildings_cumsum_df = all_buildings_diff_df.cumsum()\n",
    "\n",
    "all_buildings_cumsum_df"
   ]
  },
  {
   "cell_type": "code",
   "execution_count": null,
   "metadata": {},
   "outputs": [],
   "source": [
    "px.scatter(all_buildings_diff_df)"
   ]
  },
  {
   "cell_type": "code",
   "execution_count": null,
   "metadata": {},
   "outputs": [],
   "source": [
    "px.scatter(all_buildings_cumsum_df)"
   ]
  },
  {
   "cell_type": "code",
   "execution_count": 7,
   "metadata": {},
   "outputs": [],
   "source": [
    "all_buildings_diff_df.to_parquet(\"../data/processed/all_buildings_cleaned_diff_kwh.parquet\")\n",
    "\n",
    "all_buildings_cumsum_df.to_parquet(\"../data/processed/all_buildings_cleaned_cumsum_kwh.parquet\")"
   ]
  },
  {
   "cell_type": "code",
   "execution_count": null,
   "metadata": {},
   "outputs": [],
   "source": []
  },
  {
   "cell_type": "code",
   "execution_count": 7,
   "metadata": {},
   "outputs": [],
   "source": [
    "all_buildings_year_max_df = all_buildings_cumsum_df.resample(\"YE\").max()\n",
    "\n",
    "all_buildings_year_min_df = all_buildings_cumsum_df.resample(\"YE\").min()\n",
    "\n",
    "all_buildings_year_dif_df = all_buildings_year_max_df - all_buildings_year_min_df\n",
    "\n",
    "all_buildings_year_dif_df.index = [2021, 2022, 2023, 2024]\n",
    "\n",
    "all_buildings_year_dif_df.drop(2024, inplace=True)\n"
   ]
  },
  {
   "cell_type": "code",
   "execution_count": null,
   "metadata": {},
   "outputs": [],
   "source": [
    "\n",
    "all_buildings_year_dif_df"
   ]
  },
  {
   "cell_type": "code",
   "execution_count": 9,
   "metadata": {},
   "outputs": [],
   "source": [
    "all_buildings_year_dif_df.to_parquet(\"../data/processed/all_buildings_yearly_kwh.parquet\")"
   ]
  },
  {
   "cell_type": "code",
   "execution_count": null,
   "metadata": {},
   "outputs": [],
   "source": [
    "px.bar(all_buildings_year_dif_df,\n",
    "       barmode=\"group\",\n",
    "       title=\"Yearly primary energy demand [kWh]\")"
   ]
  },
  {
   "cell_type": "code",
   "execution_count": null,
   "metadata": {},
   "outputs": [],
   "source": [
    "all_buildings_year_dif_df"
   ]
  },
  {
   "cell_type": "code",
   "execution_count": null,
   "metadata": {},
   "outputs": [],
   "source": []
  }
 ],
 "metadata": {
  "kernelspec": {
   "display_name": "Python 3",
   "language": "python",
   "name": "python3"
  },
  "language_info": {
   "codemirror_mode": {
    "name": "ipython",
    "version": 3
   },
   "file_extension": ".py",
   "mimetype": "text/x-python",
   "name": "python",
   "nbconvert_exporter": "python",
   "pygments_lexer": "ipython3",
   "version": "3.11.10"
  }
 },
 "nbformat": 4,
 "nbformat_minor": 2
}
