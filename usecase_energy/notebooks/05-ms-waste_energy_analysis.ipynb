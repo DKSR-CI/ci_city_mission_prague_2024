{
 "cells": [
  {
   "cell_type": "code",
   "execution_count": null,
   "metadata": {},
   "outputs": [],
   "source": []
  },
  {
   "cell_type": "code",
   "execution_count": null,
   "metadata": {},
   "outputs": [],
   "source": [
    "%load_ext autoreload\n",
    "%autoreload 2\n",
    "\n",
    "import sys\n",
    "sys.path.append(\"../\")\n",
    "\n",
    "from pathlib import Path\n",
    "import plotly.express as px\n",
    "import numpy as np\n",
    "import pandas as pd\n",
    "\n",
    "\n",
    "import src.data_loading as data_loading\n",
    "import src.make_features as make_features"
   ]
  },
  {
   "cell_type": "code",
   "execution_count": null,
   "metadata": {},
   "outputs": [],
   "source": []
  },
  {
   "cell_type": "code",
   "execution_count": 16,
   "metadata": {},
   "outputs": [],
   "source": [
    "RAW_DATA_FOLDER = Path(\"../data/raw\")\n",
    "\n",
    "GAS_AND_HEAT_FOLDER = RAW_DATA_FOLDER.joinpath(\"Data gas and heat - new\")\n",
    "\n",
    "building_names = [\n",
    "    '10.10-PF1',\n",
    "    '10.25-PF1',\n",
    "    '10.26-TF1',\n",
    "    '10.28-PF1',\n",
    "    '10.33-PF1',\n",
    "    '10.4-TF1',\n",
    "    # '10.6-PF1',\n",
    "    '10.6-PF2',\n",
    "    '10.9.2-PF1',\n",
    "    '2.2-PF1',\n",
    "    '2.3.-PF1',\n",
    "    '2.7-PF1',\n",
    "    '2.8.-PF1',\n",
    "    '2.9-PF1',\n",
    "    '22.3-PF1'\n",
    "]"
   ]
  },
  {
   "cell_type": "code",
   "execution_count": 17,
   "metadata": {},
   "outputs": [],
   "source": [
    "all_buildings_metadata_df = data_loading.get_building_metadata_df(data_folder=RAW_DATA_FOLDER,\n",
    "                                                                  building_list=building_names)\n",
    "\n",
    "all_buildings_diff_df = pd.read_parquet(\"../data/processed/all_buildings_cleaned_diff_kwh.parquet\")\n"
   ]
  },
  {
   "cell_type": "code",
   "execution_count": null,
   "metadata": {},
   "outputs": [],
   "source": []
  },
  {
   "cell_type": "code",
   "execution_count": null,
   "metadata": {},
   "outputs": [],
   "source": [
    "all_buildings_diff_kwh_m2_df = all_buildings_diff_df.copy()\n",
    "\n",
    "\n",
    "for building in all_buildings_diff_df.columns:\n",
    "\n",
    "    if building == \"2.3.-PF1\":\n",
    "        building_1 = \"2.3/PF1\"\n",
    "    elif building == \"2.8.-PF1\":\n",
    "        building_1 = \"2.8/PF1\"\n",
    "    elif building == \"22.3-PF1\":\n",
    "        building_1 = \"22.3/P1\"\n",
    "    else:\n",
    "        building_1 = building.replace(\"-\", \"/\")\n",
    "    \n",
    "    print(building_1)\n",
    "    \n",
    "    building_m2 = all_buildings_metadata_df[[\"Addr meter\", \"Energy reference surface (m2)\"]]\n",
    "\n",
    "    building_m2 = building_m2[building_m2[\"Addr meter\"].apply(lambda x: building_1 == x)][\"Energy reference surface (m2)\"].values\n",
    "    if len(building_m2) == 1:\n",
    "        building_m2 = building_m2[0]\n",
    "    else:\n",
    "        print(f\"Dropping building due to missing in xlsx {building}\")\n",
    "        all_buildings_diff_kwh_m2_df.drop(columns=[building], inplace=True)\n",
    "        continue\n",
    "\n",
    "    if not np.isnan(building_m2):\n",
    "        print(f\"Using m2 data for {building}: {building_m2}\")\n",
    "        all_buildings_diff_kwh_m2_df[building] = all_buildings_diff_df[building] / building_m2\n",
    "    else:\n",
    "        print(f\"Dropping building due to missing m2 data xlsx {building}\")\n",
    "        all_buildings_diff_kwh_m2_df.drop(columns=[building], inplace=True)\n",
    "        continue\n",
    "    \n",
    "    # print(building_m2[\"Addr meter\"].str.split(\"/\"))\n",
    "    \n",
    "    \n",
    "    # building_m2 = all_buildings_metadata_df[]\n",
    "    "
   ]
  },
  {
   "cell_type": "code",
   "execution_count": null,
   "metadata": {},
   "outputs": [],
   "source": [
    "\n",
    "px.bar(all_buildings_diff_kwh_m2_df.resample(\"YE\").sum(),\n",
    "       barmode=\"group\",\n",
    "       title=\"Monthly primary energy demand [kWh/m2]\")"
   ]
  },
  {
   "cell_type": "markdown",
   "metadata": {},
   "source": [
    "## Monthly behaviour"
   ]
  },
  {
   "cell_type": "code",
   "execution_count": null,
   "metadata": {},
   "outputs": [],
   "source": [
    "time_features_daily_df = make_features.compute_time_features(pd.DataFrame(index=all_buildings_diff_kwh_m2_df.resample(\"d\").sum().index))\n",
    "\n",
    "all_buildings_daily_df = all_buildings_diff_kwh_m2_df.resample(\"d\").sum()\n",
    "all_buildings_daily_df[\"year\"] = time_features_daily_df[\"year\"]\n",
    "all_buildings_daily_df.index = time_features_daily_df[\"day_of_year\"]\n",
    "\n",
    "px.scatter(\n",
    "    all_buildings_daily_df,\n",
    "    facet_row=\"year\",\n",
    "    width=900,\n",
    "    height=600\n",
    ")"
   ]
  },
  {
   "cell_type": "code",
   "execution_count": null,
   "metadata": {},
   "outputs": [],
   "source": [
    "time_features_daily_df"
   ]
  },
  {
   "cell_type": "code",
   "execution_count": null,
   "metadata": {},
   "outputs": [],
   "source": []
  },
  {
   "cell_type": "markdown",
   "metadata": {},
   "source": [
    "## Include weather data"
   ]
  },
  {
   "cell_type": "code",
   "execution_count": 20,
   "metadata": {},
   "outputs": [],
   "source": [
    "weather_df = pd.read_csv(\"../data/interim/temperature_features.csv\", index_col=0)\n",
    "\n",
    "weather_df.index = pd.to_datetime(weather_df.index)\n",
    "weather_df = weather_df.tz_localize(\"CET\", ambiguous=\"NaT\", nonexistent=\"shift_forward\")"
   ]
  },
  {
   "cell_type": "code",
   "execution_count": 29,
   "metadata": {},
   "outputs": [],
   "source": [
    "all_buildings_daily_df = all_buildings_diff_kwh_m2_df.resample(\"d\").sum()\n",
    "weather_daily_df = weather_df.resample(\"d\").mean()\n",
    "\n",
    "all_buildings_daily_df = all_buildings_daily_df.tz_localize(None).merge(weather_daily_df.tz_localize(None), left_index=True, right_index=True)\n",
    "\n",
    "all_buildings_daily_df = make_features.compute_time_features(all_buildings_daily_df)"
   ]
  },
  {
   "cell_type": "code",
   "execution_count": null,
   "metadata": {},
   "outputs": [],
   "source": [
    "all_buildings_daily_df"
   ]
  },
  {
   "cell_type": "code",
   "execution_count": null,
   "metadata": {},
   "outputs": [],
   "source": [
    "ID = 4\n",
    "\n",
    "px.scatter(all_buildings_daily_df,\n",
    "           x=\"t_mean\",\n",
    "           y=building_names[ID],\n",
    "           color=\"is_weekend\",\n",
    "           hover_name=all_buildings_daily_df.index)"
   ]
  },
  {
   "cell_type": "code",
   "execution_count": null,
   "metadata": {},
   "outputs": [],
   "source": [
    "all_buildings_diff_kwh_m2_df"
   ]
  },
  {
   "cell_type": "code",
   "execution_count": null,
   "metadata": {},
   "outputs": [],
   "source": []
  }
 ],
 "metadata": {
  "kernelspec": {
   "display_name": "Python 3",
   "language": "python",
   "name": "python3"
  },
  "language_info": {
   "codemirror_mode": {
    "name": "ipython",
    "version": 3
   },
   "file_extension": ".py",
   "mimetype": "text/x-python",
   "name": "python",
   "nbconvert_exporter": "python",
   "pygments_lexer": "ipython3",
   "version": "3.11.10"
  }
 },
 "nbformat": 4,
 "nbformat_minor": 2
}
